{
  "cells": [
    {
      "cell_type": "markdown",
      "id": "43554d37",
      "metadata": {
        "id": "43554d37"
      },
      "source": [
        "# Turing Machine and Deep Learning 2023\n",
        "\n",
        "## Assignment Unupervised ML\n",
        "\n",
        "This notebook is meant for you to review and reflect on the content of Lecture 3, which was mainly about unsupervised learning problems. As with last week, this notebook should not be too much quantitative work (lines of code) but keep in mind that running this notebook may take a longer time than you may be used to for python programs (*training good models take time!*)\n",
        "\n",
        "### Handing in your Assignment\n",
        "\n",
        "Git is an invaluable resource to researchers and developers, and thus for this course, all course material will be (additionally) shared on GitHub. Though there is a tiny bit of a learning curve, this is worth the effort. To hand in your assignment (applicable to all weeks):\n",
        "\n",
        "1. Create a folder called \"Week 2\" and copy this notebook and any other files or data that may be needed.\n",
        "2. Finish the notebook and commit and push regularly. Your final commit before the deadline will be graded.\n",
        "\n",
        "\n",
        "### Grading\n",
        "\n",
        "Each one of the (sub-)questions below will be graded either 0 (insufficient), 1 (sufficient) or 2 (good). If $N$ is the number of sub-questions, and $p_i$ is your score for sub-question $i$, your total grade $G$ for this assignment is:\n",
        "$$G=\\frac{1}{2 N}\\sum_{i=0}^{N}p_i$$"
      ]
    },
    {
      "cell_type": "code",
      "execution_count": 3,
      "id": "52fbab8b",
      "metadata": {
        "id": "52fbab8b"
      },
      "outputs": [],
      "source": [
        "# load common libraries\n",
        "import numpy as np                 # maths\n",
        "import matplotlib.pyplot as plt    # plotting\n",
        "import pandas as pd                # data manipulation\n",
        "from tqdm import tqdm              # loading bar\n",
        "from time import perf_counter      # timer"
      ]
    },
    {
      "cell_type": "markdown",
      "id": "bf4c3a0a",
      "metadata": {
        "id": "bf4c3a0a"
      },
      "source": [
        "# Q1 Loading and preprocessing data\n",
        "\n",
        "In this repository, you should find a file called `tmdb_5000_movies.csv` which is information from a subset of movies on The Movie Database."
      ]
    },
    {
      "cell_type": "markdown",
      "id": "40715541",
      "metadata": {
        "id": "40715541"
      },
      "source": [
        "### Q.1.1\n",
        "Use pandas to read in the csv file (refer to [read_csv](https://pandas.pydata.org/docs/reference/api/pandas.read_csv.html) if you're unfamiliar)."
      ]
    },
    {
      "cell_type": "code",
      "execution_count": 4,
      "id": "c10a5202",
      "metadata": {
        "id": "c10a5202",
        "outputId": "d5ce15b6-00d5-49b0-c593-0616d516981b",
        "colab": {
          "base_uri": "https://localhost:8080/",
          "height": 1000
        }
      },
      "outputs": [
        {
          "output_type": "execute_result",
          "data": {
            "text/plain": [
              "         budget                                             genres  \\\n",
              "0     237000000  [{\"id\": 28, \"name\": \"Action\"}, {\"id\": 12, \"nam...   \n",
              "1     300000000  [{\"id\": 12, \"name\": \"Adventure\"}, {\"id\": 14, \"...   \n",
              "2     245000000  [{\"id\": 28, \"name\": \"Action\"}, {\"id\": 12, \"nam...   \n",
              "3     250000000  [{\"id\": 28, \"name\": \"Action\"}, {\"id\": 80, \"nam...   \n",
              "4     260000000  [{\"id\": 28, \"name\": \"Action\"}, {\"id\": 12, \"nam...   \n",
              "...         ...                                                ...   \n",
              "4798     220000  [{\"id\": 28, \"name\": \"Action\"}, {\"id\": 80, \"nam...   \n",
              "4799       9000  [{\"id\": 35, \"name\": \"Comedy\"}, {\"id\": 10749, \"...   \n",
              "4800          0  [{\"id\": 35, \"name\": \"Comedy\"}, {\"id\": 18, \"nam...   \n",
              "4801          0                                                 []   \n",
              "4802          0                [{\"id\": 99, \"name\": \"Documentary\"}]   \n",
              "\n",
              "                                               homepage      id  \\\n",
              "0                           http://www.avatarmovie.com/   19995   \n",
              "1          http://disney.go.com/disneypictures/pirates/     285   \n",
              "2           http://www.sonypictures.com/movies/spectre/  206647   \n",
              "3                    http://www.thedarkknightrises.com/   49026   \n",
              "4                  http://movies.disney.com/john-carter   49529   \n",
              "...                                                 ...     ...   \n",
              "4798                                                NaN    9367   \n",
              "4799                                                NaN   72766   \n",
              "4800  http://www.hallmarkchannel.com/signedsealeddel...  231617   \n",
              "4801                        http://shanghaicalling.com/  126186   \n",
              "4802                                                NaN   25975   \n",
              "\n",
              "                                               keywords original_language  \\\n",
              "0     [{\"id\": 1463, \"name\": \"culture clash\"}, {\"id\":...                en   \n",
              "1     [{\"id\": 270, \"name\": \"ocean\"}, {\"id\": 726, \"na...                en   \n",
              "2     [{\"id\": 470, \"name\": \"spy\"}, {\"id\": 818, \"name...                en   \n",
              "3     [{\"id\": 849, \"name\": \"dc comics\"}, {\"id\": 853,...                en   \n",
              "4     [{\"id\": 818, \"name\": \"based on novel\"}, {\"id\":...                en   \n",
              "...                                                 ...               ...   \n",
              "4798  [{\"id\": 5616, \"name\": \"united states\\u2013mexi...                es   \n",
              "4799                                                 []                en   \n",
              "4800  [{\"id\": 248, \"name\": \"date\"}, {\"id\": 699, \"nam...                en   \n",
              "4801                                                 []                en   \n",
              "4802  [{\"id\": 1523, \"name\": \"obsession\"}, {\"id\": 224...                en   \n",
              "\n",
              "                                original_title  \\\n",
              "0                                       Avatar   \n",
              "1     Pirates of the Caribbean: At World's End   \n",
              "2                                      Spectre   \n",
              "3                        The Dark Knight Rises   \n",
              "4                                  John Carter   \n",
              "...                                        ...   \n",
              "4798                               El Mariachi   \n",
              "4799                                 Newlyweds   \n",
              "4800                 Signed, Sealed, Delivered   \n",
              "4801                          Shanghai Calling   \n",
              "4802                         My Date with Drew   \n",
              "\n",
              "                                               overview  popularity  \\\n",
              "0     In the 22nd century, a paraplegic Marine is di...  150.437577   \n",
              "1     Captain Barbossa, long believed to be dead, ha...  139.082615   \n",
              "2     A cryptic message from Bond’s past sends him o...  107.376788   \n",
              "3     Following the death of District Attorney Harve...  112.312950   \n",
              "4     John Carter is a war-weary, former military ca...   43.926995   \n",
              "...                                                 ...         ...   \n",
              "4798  El Mariachi just wants to play his guitar and ...   14.269792   \n",
              "4799  A newlywed couple's honeymoon is upended by th...    0.642552   \n",
              "4800  \"Signed, Sealed, Delivered\" introduces a dedic...    1.444476   \n",
              "4801  When ambitious New York attorney Sam is sent t...    0.857008   \n",
              "4802  Ever since the second grade when he first saw ...    1.929883   \n",
              "\n",
              "                                   production_companies  \\\n",
              "0     [{\"name\": \"Ingenious Film Partners\", \"id\": 289...   \n",
              "1     [{\"name\": \"Walt Disney Pictures\", \"id\": 2}, {\"...   \n",
              "2     [{\"name\": \"Columbia Pictures\", \"id\": 5}, {\"nam...   \n",
              "3     [{\"name\": \"Legendary Pictures\", \"id\": 923}, {\"...   \n",
              "4           [{\"name\": \"Walt Disney Pictures\", \"id\": 2}]   \n",
              "...                                                 ...   \n",
              "4798           [{\"name\": \"Columbia Pictures\", \"id\": 5}]   \n",
              "4799                                                 []   \n",
              "4800  [{\"name\": \"Front Street Pictures\", \"id\": 3958}...   \n",
              "4801                                                 []   \n",
              "4802  [{\"name\": \"rusty bear entertainment\", \"id\": 87...   \n",
              "\n",
              "                                   production_countries release_date  \\\n",
              "0     [{\"iso_3166_1\": \"US\", \"name\": \"United States o...   2009-12-10   \n",
              "1     [{\"iso_3166_1\": \"US\", \"name\": \"United States o...   2007-05-19   \n",
              "2     [{\"iso_3166_1\": \"GB\", \"name\": \"United Kingdom\"...   2015-10-26   \n",
              "3     [{\"iso_3166_1\": \"US\", \"name\": \"United States o...   2012-07-16   \n",
              "4     [{\"iso_3166_1\": \"US\", \"name\": \"United States o...   2012-03-07   \n",
              "...                                                 ...          ...   \n",
              "4798  [{\"iso_3166_1\": \"MX\", \"name\": \"Mexico\"}, {\"iso...   1992-09-04   \n",
              "4799                                                 []   2011-12-26   \n",
              "4800  [{\"iso_3166_1\": \"US\", \"name\": \"United States o...   2013-10-13   \n",
              "4801  [{\"iso_3166_1\": \"US\", \"name\": \"United States o...   2012-05-03   \n",
              "4802  [{\"iso_3166_1\": \"US\", \"name\": \"United States o...   2005-08-05   \n",
              "\n",
              "         revenue  runtime                                   spoken_languages  \\\n",
              "0     2787965087    162.0  [{\"iso_639_1\": \"en\", \"name\": \"English\"}, {\"iso...   \n",
              "1      961000000    169.0           [{\"iso_639_1\": \"en\", \"name\": \"English\"}]   \n",
              "2      880674609    148.0  [{\"iso_639_1\": \"fr\", \"name\": \"Fran\\u00e7ais\"},...   \n",
              "3     1084939099    165.0           [{\"iso_639_1\": \"en\", \"name\": \"English\"}]   \n",
              "4      284139100    132.0           [{\"iso_639_1\": \"en\", \"name\": \"English\"}]   \n",
              "...          ...      ...                                                ...   \n",
              "4798     2040920     81.0      [{\"iso_639_1\": \"es\", \"name\": \"Espa\\u00f1ol\"}]   \n",
              "4799           0     85.0                                                 []   \n",
              "4800           0    120.0           [{\"iso_639_1\": \"en\", \"name\": \"English\"}]   \n",
              "4801           0     98.0           [{\"iso_639_1\": \"en\", \"name\": \"English\"}]   \n",
              "4802           0     90.0           [{\"iso_639_1\": \"en\", \"name\": \"English\"}]   \n",
              "\n",
              "        status                                            tagline  \\\n",
              "0     Released                        Enter the World of Pandora.   \n",
              "1     Released     At the end of the world, the adventure begins.   \n",
              "2     Released                              A Plan No One Escapes   \n",
              "3     Released                                    The Legend Ends   \n",
              "4     Released               Lost in our world, found in another.   \n",
              "...        ...                                                ...   \n",
              "4798  Released  He didn't come looking for trouble, but troubl...   \n",
              "4799  Released  A newlywed couple's honeymoon is upended by th...   \n",
              "4800  Released                                                NaN   \n",
              "4801  Released                           A New Yorker in Shanghai   \n",
              "4802  Released                                                NaN   \n",
              "\n",
              "                                         title  vote_average  vote_count  \n",
              "0                                       Avatar           7.2       11800  \n",
              "1     Pirates of the Caribbean: At World's End           6.9        4500  \n",
              "2                                      Spectre           6.3        4466  \n",
              "3                        The Dark Knight Rises           7.6        9106  \n",
              "4                                  John Carter           6.1        2124  \n",
              "...                                        ...           ...         ...  \n",
              "4798                               El Mariachi           6.6         238  \n",
              "4799                                 Newlyweds           5.9           5  \n",
              "4800                 Signed, Sealed, Delivered           7.0           6  \n",
              "4801                          Shanghai Calling           5.7           7  \n",
              "4802                         My Date with Drew           6.3          16  \n",
              "\n",
              "[4803 rows x 20 columns]"
            ],
            "text/html": [
              "\n",
              "  <div id=\"df-f7a9ff74-841c-419c-90d7-41db23032a01\" class=\"colab-df-container\">\n",
              "    <div>\n",
              "<style scoped>\n",
              "    .dataframe tbody tr th:only-of-type {\n",
              "        vertical-align: middle;\n",
              "    }\n",
              "\n",
              "    .dataframe tbody tr th {\n",
              "        vertical-align: top;\n",
              "    }\n",
              "\n",
              "    .dataframe thead th {\n",
              "        text-align: right;\n",
              "    }\n",
              "</style>\n",
              "<table border=\"1\" class=\"dataframe\">\n",
              "  <thead>\n",
              "    <tr style=\"text-align: right;\">\n",
              "      <th></th>\n",
              "      <th>budget</th>\n",
              "      <th>genres</th>\n",
              "      <th>homepage</th>\n",
              "      <th>id</th>\n",
              "      <th>keywords</th>\n",
              "      <th>original_language</th>\n",
              "      <th>original_title</th>\n",
              "      <th>overview</th>\n",
              "      <th>popularity</th>\n",
              "      <th>production_companies</th>\n",
              "      <th>production_countries</th>\n",
              "      <th>release_date</th>\n",
              "      <th>revenue</th>\n",
              "      <th>runtime</th>\n",
              "      <th>spoken_languages</th>\n",
              "      <th>status</th>\n",
              "      <th>tagline</th>\n",
              "      <th>title</th>\n",
              "      <th>vote_average</th>\n",
              "      <th>vote_count</th>\n",
              "    </tr>\n",
              "  </thead>\n",
              "  <tbody>\n",
              "    <tr>\n",
              "      <th>0</th>\n",
              "      <td>237000000</td>\n",
              "      <td>[{\"id\": 28, \"name\": \"Action\"}, {\"id\": 12, \"nam...</td>\n",
              "      <td>http://www.avatarmovie.com/</td>\n",
              "      <td>19995</td>\n",
              "      <td>[{\"id\": 1463, \"name\": \"culture clash\"}, {\"id\":...</td>\n",
              "      <td>en</td>\n",
              "      <td>Avatar</td>\n",
              "      <td>In the 22nd century, a paraplegic Marine is di...</td>\n",
              "      <td>150.437577</td>\n",
              "      <td>[{\"name\": \"Ingenious Film Partners\", \"id\": 289...</td>\n",
              "      <td>[{\"iso_3166_1\": \"US\", \"name\": \"United States o...</td>\n",
              "      <td>2009-12-10</td>\n",
              "      <td>2787965087</td>\n",
              "      <td>162.0</td>\n",
              "      <td>[{\"iso_639_1\": \"en\", \"name\": \"English\"}, {\"iso...</td>\n",
              "      <td>Released</td>\n",
              "      <td>Enter the World of Pandora.</td>\n",
              "      <td>Avatar</td>\n",
              "      <td>7.2</td>\n",
              "      <td>11800</td>\n",
              "    </tr>\n",
              "    <tr>\n",
              "      <th>1</th>\n",
              "      <td>300000000</td>\n",
              "      <td>[{\"id\": 12, \"name\": \"Adventure\"}, {\"id\": 14, \"...</td>\n",
              "      <td>http://disney.go.com/disneypictures/pirates/</td>\n",
              "      <td>285</td>\n",
              "      <td>[{\"id\": 270, \"name\": \"ocean\"}, {\"id\": 726, \"na...</td>\n",
              "      <td>en</td>\n",
              "      <td>Pirates of the Caribbean: At World's End</td>\n",
              "      <td>Captain Barbossa, long believed to be dead, ha...</td>\n",
              "      <td>139.082615</td>\n",
              "      <td>[{\"name\": \"Walt Disney Pictures\", \"id\": 2}, {\"...</td>\n",
              "      <td>[{\"iso_3166_1\": \"US\", \"name\": \"United States o...</td>\n",
              "      <td>2007-05-19</td>\n",
              "      <td>961000000</td>\n",
              "      <td>169.0</td>\n",
              "      <td>[{\"iso_639_1\": \"en\", \"name\": \"English\"}]</td>\n",
              "      <td>Released</td>\n",
              "      <td>At the end of the world, the adventure begins.</td>\n",
              "      <td>Pirates of the Caribbean: At World's End</td>\n",
              "      <td>6.9</td>\n",
              "      <td>4500</td>\n",
              "    </tr>\n",
              "    <tr>\n",
              "      <th>2</th>\n",
              "      <td>245000000</td>\n",
              "      <td>[{\"id\": 28, \"name\": \"Action\"}, {\"id\": 12, \"nam...</td>\n",
              "      <td>http://www.sonypictures.com/movies/spectre/</td>\n",
              "      <td>206647</td>\n",
              "      <td>[{\"id\": 470, \"name\": \"spy\"}, {\"id\": 818, \"name...</td>\n",
              "      <td>en</td>\n",
              "      <td>Spectre</td>\n",
              "      <td>A cryptic message from Bond’s past sends him o...</td>\n",
              "      <td>107.376788</td>\n",
              "      <td>[{\"name\": \"Columbia Pictures\", \"id\": 5}, {\"nam...</td>\n",
              "      <td>[{\"iso_3166_1\": \"GB\", \"name\": \"United Kingdom\"...</td>\n",
              "      <td>2015-10-26</td>\n",
              "      <td>880674609</td>\n",
              "      <td>148.0</td>\n",
              "      <td>[{\"iso_639_1\": \"fr\", \"name\": \"Fran\\u00e7ais\"},...</td>\n",
              "      <td>Released</td>\n",
              "      <td>A Plan No One Escapes</td>\n",
              "      <td>Spectre</td>\n",
              "      <td>6.3</td>\n",
              "      <td>4466</td>\n",
              "    </tr>\n",
              "    <tr>\n",
              "      <th>3</th>\n",
              "      <td>250000000</td>\n",
              "      <td>[{\"id\": 28, \"name\": \"Action\"}, {\"id\": 80, \"nam...</td>\n",
              "      <td>http://www.thedarkknightrises.com/</td>\n",
              "      <td>49026</td>\n",
              "      <td>[{\"id\": 849, \"name\": \"dc comics\"}, {\"id\": 853,...</td>\n",
              "      <td>en</td>\n",
              "      <td>The Dark Knight Rises</td>\n",
              "      <td>Following the death of District Attorney Harve...</td>\n",
              "      <td>112.312950</td>\n",
              "      <td>[{\"name\": \"Legendary Pictures\", \"id\": 923}, {\"...</td>\n",
              "      <td>[{\"iso_3166_1\": \"US\", \"name\": \"United States o...</td>\n",
              "      <td>2012-07-16</td>\n",
              "      <td>1084939099</td>\n",
              "      <td>165.0</td>\n",
              "      <td>[{\"iso_639_1\": \"en\", \"name\": \"English\"}]</td>\n",
              "      <td>Released</td>\n",
              "      <td>The Legend Ends</td>\n",
              "      <td>The Dark Knight Rises</td>\n",
              "      <td>7.6</td>\n",
              "      <td>9106</td>\n",
              "    </tr>\n",
              "    <tr>\n",
              "      <th>4</th>\n",
              "      <td>260000000</td>\n",
              "      <td>[{\"id\": 28, \"name\": \"Action\"}, {\"id\": 12, \"nam...</td>\n",
              "      <td>http://movies.disney.com/john-carter</td>\n",
              "      <td>49529</td>\n",
              "      <td>[{\"id\": 818, \"name\": \"based on novel\"}, {\"id\":...</td>\n",
              "      <td>en</td>\n",
              "      <td>John Carter</td>\n",
              "      <td>John Carter is a war-weary, former military ca...</td>\n",
              "      <td>43.926995</td>\n",
              "      <td>[{\"name\": \"Walt Disney Pictures\", \"id\": 2}]</td>\n",
              "      <td>[{\"iso_3166_1\": \"US\", \"name\": \"United States o...</td>\n",
              "      <td>2012-03-07</td>\n",
              "      <td>284139100</td>\n",
              "      <td>132.0</td>\n",
              "      <td>[{\"iso_639_1\": \"en\", \"name\": \"English\"}]</td>\n",
              "      <td>Released</td>\n",
              "      <td>Lost in our world, found in another.</td>\n",
              "      <td>John Carter</td>\n",
              "      <td>6.1</td>\n",
              "      <td>2124</td>\n",
              "    </tr>\n",
              "    <tr>\n",
              "      <th>...</th>\n",
              "      <td>...</td>\n",
              "      <td>...</td>\n",
              "      <td>...</td>\n",
              "      <td>...</td>\n",
              "      <td>...</td>\n",
              "      <td>...</td>\n",
              "      <td>...</td>\n",
              "      <td>...</td>\n",
              "      <td>...</td>\n",
              "      <td>...</td>\n",
              "      <td>...</td>\n",
              "      <td>...</td>\n",
              "      <td>...</td>\n",
              "      <td>...</td>\n",
              "      <td>...</td>\n",
              "      <td>...</td>\n",
              "      <td>...</td>\n",
              "      <td>...</td>\n",
              "      <td>...</td>\n",
              "      <td>...</td>\n",
              "    </tr>\n",
              "    <tr>\n",
              "      <th>4798</th>\n",
              "      <td>220000</td>\n",
              "      <td>[{\"id\": 28, \"name\": \"Action\"}, {\"id\": 80, \"nam...</td>\n",
              "      <td>NaN</td>\n",
              "      <td>9367</td>\n",
              "      <td>[{\"id\": 5616, \"name\": \"united states\\u2013mexi...</td>\n",
              "      <td>es</td>\n",
              "      <td>El Mariachi</td>\n",
              "      <td>El Mariachi just wants to play his guitar and ...</td>\n",
              "      <td>14.269792</td>\n",
              "      <td>[{\"name\": \"Columbia Pictures\", \"id\": 5}]</td>\n",
              "      <td>[{\"iso_3166_1\": \"MX\", \"name\": \"Mexico\"}, {\"iso...</td>\n",
              "      <td>1992-09-04</td>\n",
              "      <td>2040920</td>\n",
              "      <td>81.0</td>\n",
              "      <td>[{\"iso_639_1\": \"es\", \"name\": \"Espa\\u00f1ol\"}]</td>\n",
              "      <td>Released</td>\n",
              "      <td>He didn't come looking for trouble, but troubl...</td>\n",
              "      <td>El Mariachi</td>\n",
              "      <td>6.6</td>\n",
              "      <td>238</td>\n",
              "    </tr>\n",
              "    <tr>\n",
              "      <th>4799</th>\n",
              "      <td>9000</td>\n",
              "      <td>[{\"id\": 35, \"name\": \"Comedy\"}, {\"id\": 10749, \"...</td>\n",
              "      <td>NaN</td>\n",
              "      <td>72766</td>\n",
              "      <td>[]</td>\n",
              "      <td>en</td>\n",
              "      <td>Newlyweds</td>\n",
              "      <td>A newlywed couple's honeymoon is upended by th...</td>\n",
              "      <td>0.642552</td>\n",
              "      <td>[]</td>\n",
              "      <td>[]</td>\n",
              "      <td>2011-12-26</td>\n",
              "      <td>0</td>\n",
              "      <td>85.0</td>\n",
              "      <td>[]</td>\n",
              "      <td>Released</td>\n",
              "      <td>A newlywed couple's honeymoon is upended by th...</td>\n",
              "      <td>Newlyweds</td>\n",
              "      <td>5.9</td>\n",
              "      <td>5</td>\n",
              "    </tr>\n",
              "    <tr>\n",
              "      <th>4800</th>\n",
              "      <td>0</td>\n",
              "      <td>[{\"id\": 35, \"name\": \"Comedy\"}, {\"id\": 18, \"nam...</td>\n",
              "      <td>http://www.hallmarkchannel.com/signedsealeddel...</td>\n",
              "      <td>231617</td>\n",
              "      <td>[{\"id\": 248, \"name\": \"date\"}, {\"id\": 699, \"nam...</td>\n",
              "      <td>en</td>\n",
              "      <td>Signed, Sealed, Delivered</td>\n",
              "      <td>\"Signed, Sealed, Delivered\" introduces a dedic...</td>\n",
              "      <td>1.444476</td>\n",
              "      <td>[{\"name\": \"Front Street Pictures\", \"id\": 3958}...</td>\n",
              "      <td>[{\"iso_3166_1\": \"US\", \"name\": \"United States o...</td>\n",
              "      <td>2013-10-13</td>\n",
              "      <td>0</td>\n",
              "      <td>120.0</td>\n",
              "      <td>[{\"iso_639_1\": \"en\", \"name\": \"English\"}]</td>\n",
              "      <td>Released</td>\n",
              "      <td>NaN</td>\n",
              "      <td>Signed, Sealed, Delivered</td>\n",
              "      <td>7.0</td>\n",
              "      <td>6</td>\n",
              "    </tr>\n",
              "    <tr>\n",
              "      <th>4801</th>\n",
              "      <td>0</td>\n",
              "      <td>[]</td>\n",
              "      <td>http://shanghaicalling.com/</td>\n",
              "      <td>126186</td>\n",
              "      <td>[]</td>\n",
              "      <td>en</td>\n",
              "      <td>Shanghai Calling</td>\n",
              "      <td>When ambitious New York attorney Sam is sent t...</td>\n",
              "      <td>0.857008</td>\n",
              "      <td>[]</td>\n",
              "      <td>[{\"iso_3166_1\": \"US\", \"name\": \"United States o...</td>\n",
              "      <td>2012-05-03</td>\n",
              "      <td>0</td>\n",
              "      <td>98.0</td>\n",
              "      <td>[{\"iso_639_1\": \"en\", \"name\": \"English\"}]</td>\n",
              "      <td>Released</td>\n",
              "      <td>A New Yorker in Shanghai</td>\n",
              "      <td>Shanghai Calling</td>\n",
              "      <td>5.7</td>\n",
              "      <td>7</td>\n",
              "    </tr>\n",
              "    <tr>\n",
              "      <th>4802</th>\n",
              "      <td>0</td>\n",
              "      <td>[{\"id\": 99, \"name\": \"Documentary\"}]</td>\n",
              "      <td>NaN</td>\n",
              "      <td>25975</td>\n",
              "      <td>[{\"id\": 1523, \"name\": \"obsession\"}, {\"id\": 224...</td>\n",
              "      <td>en</td>\n",
              "      <td>My Date with Drew</td>\n",
              "      <td>Ever since the second grade when he first saw ...</td>\n",
              "      <td>1.929883</td>\n",
              "      <td>[{\"name\": \"rusty bear entertainment\", \"id\": 87...</td>\n",
              "      <td>[{\"iso_3166_1\": \"US\", \"name\": \"United States o...</td>\n",
              "      <td>2005-08-05</td>\n",
              "      <td>0</td>\n",
              "      <td>90.0</td>\n",
              "      <td>[{\"iso_639_1\": \"en\", \"name\": \"English\"}]</td>\n",
              "      <td>Released</td>\n",
              "      <td>NaN</td>\n",
              "      <td>My Date with Drew</td>\n",
              "      <td>6.3</td>\n",
              "      <td>16</td>\n",
              "    </tr>\n",
              "  </tbody>\n",
              "</table>\n",
              "<p>4803 rows × 20 columns</p>\n",
              "</div>\n",
              "    <div class=\"colab-df-buttons\">\n",
              "\n",
              "  <div class=\"colab-df-container\">\n",
              "    <button class=\"colab-df-convert\" onclick=\"convertToInteractive('df-f7a9ff74-841c-419c-90d7-41db23032a01')\"\n",
              "            title=\"Convert this dataframe to an interactive table.\"\n",
              "            style=\"display:none;\">\n",
              "\n",
              "  <svg xmlns=\"http://www.w3.org/2000/svg\" height=\"24px\" viewBox=\"0 -960 960 960\">\n",
              "    <path d=\"M120-120v-720h720v720H120Zm60-500h600v-160H180v160Zm220 220h160v-160H400v160Zm0 220h160v-160H400v160ZM180-400h160v-160H180v160Zm440 0h160v-160H620v160ZM180-180h160v-160H180v160Zm440 0h160v-160H620v160Z\"/>\n",
              "  </svg>\n",
              "    </button>\n",
              "\n",
              "  <style>\n",
              "    .colab-df-container {\n",
              "      display:flex;\n",
              "      gap: 12px;\n",
              "    }\n",
              "\n",
              "    .colab-df-convert {\n",
              "      background-color: #E8F0FE;\n",
              "      border: none;\n",
              "      border-radius: 50%;\n",
              "      cursor: pointer;\n",
              "      display: none;\n",
              "      fill: #1967D2;\n",
              "      height: 32px;\n",
              "      padding: 0 0 0 0;\n",
              "      width: 32px;\n",
              "    }\n",
              "\n",
              "    .colab-df-convert:hover {\n",
              "      background-color: #E2EBFA;\n",
              "      box-shadow: 0px 1px 2px rgba(60, 64, 67, 0.3), 0px 1px 3px 1px rgba(60, 64, 67, 0.15);\n",
              "      fill: #174EA6;\n",
              "    }\n",
              "\n",
              "    .colab-df-buttons div {\n",
              "      margin-bottom: 4px;\n",
              "    }\n",
              "\n",
              "    [theme=dark] .colab-df-convert {\n",
              "      background-color: #3B4455;\n",
              "      fill: #D2E3FC;\n",
              "    }\n",
              "\n",
              "    [theme=dark] .colab-df-convert:hover {\n",
              "      background-color: #434B5C;\n",
              "      box-shadow: 0px 1px 3px 1px rgba(0, 0, 0, 0.15);\n",
              "      filter: drop-shadow(0px 1px 2px rgba(0, 0, 0, 0.3));\n",
              "      fill: #FFFFFF;\n",
              "    }\n",
              "  </style>\n",
              "\n",
              "    <script>\n",
              "      const buttonEl =\n",
              "        document.querySelector('#df-f7a9ff74-841c-419c-90d7-41db23032a01 button.colab-df-convert');\n",
              "      buttonEl.style.display =\n",
              "        google.colab.kernel.accessAllowed ? 'block' : 'none';\n",
              "\n",
              "      async function convertToInteractive(key) {\n",
              "        const element = document.querySelector('#df-f7a9ff74-841c-419c-90d7-41db23032a01');\n",
              "        const dataTable =\n",
              "          await google.colab.kernel.invokeFunction('convertToInteractive',\n",
              "                                                    [key], {});\n",
              "        if (!dataTable) return;\n",
              "\n",
              "        const docLinkHtml = 'Like what you see? Visit the ' +\n",
              "          '<a target=\"_blank\" href=https://colab.research.google.com/notebooks/data_table.ipynb>data table notebook</a>'\n",
              "          + ' to learn more about interactive tables.';\n",
              "        element.innerHTML = '';\n",
              "        dataTable['output_type'] = 'display_data';\n",
              "        await google.colab.output.renderOutput(dataTable, element);\n",
              "        const docLink = document.createElement('div');\n",
              "        docLink.innerHTML = docLinkHtml;\n",
              "        element.appendChild(docLink);\n",
              "      }\n",
              "    </script>\n",
              "  </div>\n",
              "\n",
              "\n",
              "<div id=\"df-8e285695-8a05-4191-bf42-245b0c278e94\">\n",
              "  <button class=\"colab-df-quickchart\" onclick=\"quickchart('df-8e285695-8a05-4191-bf42-245b0c278e94')\"\n",
              "            title=\"Suggest charts\"\n",
              "            style=\"display:none;\">\n",
              "\n",
              "<svg xmlns=\"http://www.w3.org/2000/svg\" height=\"24px\"viewBox=\"0 0 24 24\"\n",
              "     width=\"24px\">\n",
              "    <g>\n",
              "        <path d=\"M19 3H5c-1.1 0-2 .9-2 2v14c0 1.1.9 2 2 2h14c1.1 0 2-.9 2-2V5c0-1.1-.9-2-2-2zM9 17H7v-7h2v7zm4 0h-2V7h2v10zm4 0h-2v-4h2v4z\"/>\n",
              "    </g>\n",
              "</svg>\n",
              "  </button>\n",
              "\n",
              "<style>\n",
              "  .colab-df-quickchart {\n",
              "      --bg-color: #E8F0FE;\n",
              "      --fill-color: #1967D2;\n",
              "      --hover-bg-color: #E2EBFA;\n",
              "      --hover-fill-color: #174EA6;\n",
              "      --disabled-fill-color: #AAA;\n",
              "      --disabled-bg-color: #DDD;\n",
              "  }\n",
              "\n",
              "  [theme=dark] .colab-df-quickchart {\n",
              "      --bg-color: #3B4455;\n",
              "      --fill-color: #D2E3FC;\n",
              "      --hover-bg-color: #434B5C;\n",
              "      --hover-fill-color: #FFFFFF;\n",
              "      --disabled-bg-color: #3B4455;\n",
              "      --disabled-fill-color: #666;\n",
              "  }\n",
              "\n",
              "  .colab-df-quickchart {\n",
              "    background-color: var(--bg-color);\n",
              "    border: none;\n",
              "    border-radius: 50%;\n",
              "    cursor: pointer;\n",
              "    display: none;\n",
              "    fill: var(--fill-color);\n",
              "    height: 32px;\n",
              "    padding: 0;\n",
              "    width: 32px;\n",
              "  }\n",
              "\n",
              "  .colab-df-quickchart:hover {\n",
              "    background-color: var(--hover-bg-color);\n",
              "    box-shadow: 0 1px 2px rgba(60, 64, 67, 0.3), 0 1px 3px 1px rgba(60, 64, 67, 0.15);\n",
              "    fill: var(--button-hover-fill-color);\n",
              "  }\n",
              "\n",
              "  .colab-df-quickchart-complete:disabled,\n",
              "  .colab-df-quickchart-complete:disabled:hover {\n",
              "    background-color: var(--disabled-bg-color);\n",
              "    fill: var(--disabled-fill-color);\n",
              "    box-shadow: none;\n",
              "  }\n",
              "\n",
              "  .colab-df-spinner {\n",
              "    border: 2px solid var(--fill-color);\n",
              "    border-color: transparent;\n",
              "    border-bottom-color: var(--fill-color);\n",
              "    animation:\n",
              "      spin 1s steps(1) infinite;\n",
              "  }\n",
              "\n",
              "  @keyframes spin {\n",
              "    0% {\n",
              "      border-color: transparent;\n",
              "      border-bottom-color: var(--fill-color);\n",
              "      border-left-color: var(--fill-color);\n",
              "    }\n",
              "    20% {\n",
              "      border-color: transparent;\n",
              "      border-left-color: var(--fill-color);\n",
              "      border-top-color: var(--fill-color);\n",
              "    }\n",
              "    30% {\n",
              "      border-color: transparent;\n",
              "      border-left-color: var(--fill-color);\n",
              "      border-top-color: var(--fill-color);\n",
              "      border-right-color: var(--fill-color);\n",
              "    }\n",
              "    40% {\n",
              "      border-color: transparent;\n",
              "      border-right-color: var(--fill-color);\n",
              "      border-top-color: var(--fill-color);\n",
              "    }\n",
              "    60% {\n",
              "      border-color: transparent;\n",
              "      border-right-color: var(--fill-color);\n",
              "    }\n",
              "    80% {\n",
              "      border-color: transparent;\n",
              "      border-right-color: var(--fill-color);\n",
              "      border-bottom-color: var(--fill-color);\n",
              "    }\n",
              "    90% {\n",
              "      border-color: transparent;\n",
              "      border-bottom-color: var(--fill-color);\n",
              "    }\n",
              "  }\n",
              "</style>\n",
              "\n",
              "  <script>\n",
              "    async function quickchart(key) {\n",
              "      const quickchartButtonEl =\n",
              "        document.querySelector('#' + key + ' button');\n",
              "      quickchartButtonEl.disabled = true;  // To prevent multiple clicks.\n",
              "      quickchartButtonEl.classList.add('colab-df-spinner');\n",
              "      try {\n",
              "        const charts = await google.colab.kernel.invokeFunction(\n",
              "            'suggestCharts', [key], {});\n",
              "      } catch (error) {\n",
              "        console.error('Error during call to suggestCharts:', error);\n",
              "      }\n",
              "      quickchartButtonEl.classList.remove('colab-df-spinner');\n",
              "      quickchartButtonEl.classList.add('colab-df-quickchart-complete');\n",
              "    }\n",
              "    (() => {\n",
              "      let quickchartButtonEl =\n",
              "        document.querySelector('#df-8e285695-8a05-4191-bf42-245b0c278e94 button');\n",
              "      quickchartButtonEl.style.display =\n",
              "        google.colab.kernel.accessAllowed ? 'block' : 'none';\n",
              "    })();\n",
              "  </script>\n",
              "</div>\n",
              "    </div>\n",
              "  </div>\n"
            ],
            "application/vnd.google.colaboratory.intrinsic+json": {
              "type": "dataframe",
              "variable_name": "df",
              "summary": "{\n  \"name\": \"df\",\n  \"rows\": 4803,\n  \"fields\": [\n    {\n      \"column\": \"budget\",\n      \"properties\": {\n        \"dtype\": \"number\",\n        \"std\": 40722391,\n        \"min\": 0,\n        \"max\": 380000000,\n        \"num_unique_values\": 436,\n        \"samples\": [\n          439000,\n          68000000,\n          700000\n        ],\n        \"semantic_type\": \"\",\n        \"description\": \"\"\n      }\n    },\n    {\n      \"column\": \"genres\",\n      \"properties\": {\n        \"dtype\": \"category\",\n        \"num_unique_values\": 1175,\n        \"samples\": [\n          \"[{\\\"id\\\": 14, \\\"name\\\": \\\"Fantasy\\\"}, {\\\"id\\\": 12, \\\"name\\\": \\\"Adventure\\\"}, {\\\"id\\\": 16, \\\"name\\\": \\\"Animation\\\"}]\",\n          \"[{\\\"id\\\": 28, \\\"name\\\": \\\"Action\\\"}, {\\\"id\\\": 35, \\\"name\\\": \\\"Comedy\\\"}, {\\\"id\\\": 80, \\\"name\\\": \\\"Crime\\\"}, {\\\"id\\\": 18, \\\"name\\\": \\\"Drama\\\"}]\",\n          \"[{\\\"id\\\": 12, \\\"name\\\": \\\"Adventure\\\"}, {\\\"id\\\": 16, \\\"name\\\": \\\"Animation\\\"}, {\\\"id\\\": 10751, \\\"name\\\": \\\"Family\\\"}, {\\\"id\\\": 14, \\\"name\\\": \\\"Fantasy\\\"}, {\\\"id\\\": 878, \\\"name\\\": \\\"Science Fiction\\\"}]\"\n        ],\n        \"semantic_type\": \"\",\n        \"description\": \"\"\n      }\n    },\n    {\n      \"column\": \"homepage\",\n      \"properties\": {\n        \"dtype\": \"category\",\n        \"num_unique_values\": 1691,\n        \"samples\": [\n          \"https://www.warnerbros.com/running-scared\",\n          \"http://www.51birchstreet.com/index.php\",\n          \"http://movies2.foxjapan.com/glee/\"\n        ],\n        \"semantic_type\": \"\",\n        \"description\": \"\"\n      }\n    },\n    {\n      \"column\": \"id\",\n      \"properties\": {\n        \"dtype\": \"number\",\n        \"std\": 88694,\n        \"min\": 5,\n        \"max\": 459488,\n        \"num_unique_values\": 4803,\n        \"samples\": [\n          8427,\n          13006,\n          18041\n        ],\n        \"semantic_type\": \"\",\n        \"description\": \"\"\n      }\n    },\n    {\n      \"column\": \"keywords\",\n      \"properties\": {\n        \"dtype\": \"string\",\n        \"num_unique_values\": 4222,\n        \"samples\": [\n          \"[{\\\"id\\\": 782, \\\"name\\\": \\\"assassin\\\"}, {\\\"id\\\": 1872, \\\"name\\\": \\\"loss of father\\\"}, {\\\"id\\\": 2908, \\\"name\\\": \\\"secret society\\\"}, {\\\"id\\\": 3045, \\\"name\\\": \\\"mission of murder\\\"}, {\\\"id\\\": 9748, \\\"name\\\": \\\"revenge\\\"}]\",\n          \"[{\\\"id\\\": 2987, \\\"name\\\": \\\"gang war\\\"}, {\\\"id\\\": 4942, \\\"name\\\": \\\"victim of murder\\\"}, {\\\"id\\\": 5332, \\\"name\\\": \\\"greed\\\"}, {\\\"id\\\": 6062, \\\"name\\\": \\\"hostility\\\"}, {\\\"id\\\": 156212, \\\"name\\\": \\\"spaghetti western\\\"}]\",\n          \"[{\\\"id\\\": 703, \\\"name\\\": \\\"detective\\\"}, {\\\"id\\\": 1299, \\\"name\\\": \\\"monster\\\"}, {\\\"id\\\": 6101, \\\"name\\\": \\\"engine\\\"}, {\\\"id\\\": 10988, \\\"name\\\": \\\"based on tv series\\\"}, {\\\"id\\\": 15162, \\\"name\\\": \\\"dog\\\"}]\"\n        ],\n        \"semantic_type\": \"\",\n        \"description\": \"\"\n      }\n    },\n    {\n      \"column\": \"original_language\",\n      \"properties\": {\n        \"dtype\": \"category\",\n        \"num_unique_values\": 37,\n        \"samples\": [\n          \"xx\",\n          \"ta\",\n          \"es\"\n        ],\n        \"semantic_type\": \"\",\n        \"description\": \"\"\n      }\n    },\n    {\n      \"column\": \"original_title\",\n      \"properties\": {\n        \"dtype\": \"string\",\n        \"num_unique_values\": 4801,\n        \"samples\": [\n          \"I Spy\",\n          \"Love Letters\",\n          \"Sleepover\"\n        ],\n        \"semantic_type\": \"\",\n        \"description\": \"\"\n      }\n    },\n    {\n      \"column\": \"overview\",\n      \"properties\": {\n        \"dtype\": \"string\",\n        \"num_unique_values\": 4800,\n        \"samples\": [\n          \"When the Switchblade, the most sophisticated prototype stealth fighter created yet, is stolen from the U.S. government, one of the United States' top spies, Alex Scott, is called to action. What he doesn't expect is to get teamed up with a cocky civilian, World Class Boxing Champion Kelly Robinson, on a dangerous top secret espionage mission. Their assignment: using equal parts skill and humor, catch Arnold Gundars, one of the world's most successful arms dealers.\",\n          \"When \\\"street smart\\\" rapper Christopher \\\"C-Note\\\" Hawkins (Big Boi) applies for a membership to all-white Carolina Pines Country Club, the establishment's proprietors are hardly ready to oblige him.\",\n          \"As their first year of high school looms ahead, best friends Julie, Hannah, Yancy and Farrah have one last summer sleepover. Little do they know they're about to embark on the adventure of a lifetime. Desperate to shed their nerdy status, they take part in a night-long scavenger hunt that pits them against their popular archrivals. Everything under the sun goes on -- from taking Yancy's father's car to sneaking into nightclubs!\"\n        ],\n        \"semantic_type\": \"\",\n        \"description\": \"\"\n      }\n    },\n    {\n      \"column\": \"popularity\",\n      \"properties\": {\n        \"dtype\": \"number\",\n        \"std\": 31.816649749537774,\n        \"min\": 0.0,\n        \"max\": 875.581305,\n        \"num_unique_values\": 4802,\n        \"samples\": [\n          13.267631,\n          0.010909,\n          5.842299\n        ],\n        \"semantic_type\": \"\",\n        \"description\": \"\"\n      }\n    },\n    {\n      \"column\": \"production_companies\",\n      \"properties\": {\n        \"dtype\": \"string\",\n        \"num_unique_values\": 3697,\n        \"samples\": [\n          \"[{\\\"name\\\": \\\"Paramount Pictures\\\", \\\"id\\\": 4}, {\\\"name\\\": \\\"Cherry Alley Productions\\\", \\\"id\\\": 2232}]\",\n          \"[{\\\"name\\\": \\\"Twentieth Century Fox Film Corporation\\\", \\\"id\\\": 306}, {\\\"name\\\": \\\"Dune Entertainment\\\", \\\"id\\\": 444}, {\\\"name\\\": \\\"Regency Enterprises\\\", \\\"id\\\": 508}, {\\\"name\\\": \\\"Guy Walks into a Bar Productions\\\", \\\"id\\\": 2645}, {\\\"name\\\": \\\"Deep River Productions\\\", \\\"id\\\": 2646}, {\\\"name\\\": \\\"Friendly Films (II)\\\", \\\"id\\\": 81136}]\",\n          \"[{\\\"name\\\": \\\"Twentieth Century Fox Film Corporation\\\", \\\"id\\\": 306}]\"\n        ],\n        \"semantic_type\": \"\",\n        \"description\": \"\"\n      }\n    },\n    {\n      \"column\": \"production_countries\",\n      \"properties\": {\n        \"dtype\": \"category\",\n        \"num_unique_values\": 469,\n        \"samples\": [\n          \"[{\\\"iso_3166_1\\\": \\\"ES\\\", \\\"name\\\": \\\"Spain\\\"}, {\\\"iso_3166_1\\\": \\\"GB\\\", \\\"name\\\": \\\"United Kingdom\\\"}, {\\\"iso_3166_1\\\": \\\"US\\\", \\\"name\\\": \\\"United States of America\\\"}, {\\\"iso_3166_1\\\": \\\"FR\\\", \\\"name\\\": \\\"France\\\"}]\",\n          \"[{\\\"iso_3166_1\\\": \\\"US\\\", \\\"name\\\": \\\"United States of America\\\"}, {\\\"iso_3166_1\\\": \\\"CA\\\", \\\"name\\\": \\\"Canada\\\"}, {\\\"iso_3166_1\\\": \\\"DE\\\", \\\"name\\\": \\\"Germany\\\"}]\",\n          \"[{\\\"iso_3166_1\\\": \\\"DE\\\", \\\"name\\\": \\\"Germany\\\"}, {\\\"iso_3166_1\\\": \\\"ES\\\", \\\"name\\\": \\\"Spain\\\"}, {\\\"iso_3166_1\\\": \\\"GB\\\", \\\"name\\\": \\\"United Kingdom\\\"}, {\\\"iso_3166_1\\\": \\\"US\\\", \\\"name\\\": \\\"United States of America\\\"}]\"\n        ],\n        \"semantic_type\": \"\",\n        \"description\": \"\"\n      }\n    },\n    {\n      \"column\": \"release_date\",\n      \"properties\": {\n        \"dtype\": \"object\",\n        \"num_unique_values\": 3280,\n        \"samples\": [\n          \"1966-10-16\",\n          \"1987-07-31\",\n          \"1993-09-23\"\n        ],\n        \"semantic_type\": \"\",\n        \"description\": \"\"\n      }\n    },\n    {\n      \"column\": \"revenue\",\n      \"properties\": {\n        \"dtype\": \"number\",\n        \"std\": 162857100,\n        \"min\": 0,\n        \"max\": 2787965087,\n        \"num_unique_values\": 3297,\n        \"samples\": [\n          11833696,\n          10462500,\n          17807569\n        ],\n        \"semantic_type\": \"\",\n        \"description\": \"\"\n      }\n    },\n    {\n      \"column\": \"runtime\",\n      \"properties\": {\n        \"dtype\": \"number\",\n        \"std\": 22.611934588844232,\n        \"min\": 0.0,\n        \"max\": 338.0,\n        \"num_unique_values\": 156,\n        \"samples\": [\n          74.0,\n          85.0,\n          170.0\n        ],\n        \"semantic_type\": \"\",\n        \"description\": \"\"\n      }\n    },\n    {\n      \"column\": \"spoken_languages\",\n      \"properties\": {\n        \"dtype\": \"category\",\n        \"num_unique_values\": 544,\n        \"samples\": [\n          \"[{\\\"iso_639_1\\\": \\\"es\\\", \\\"name\\\": \\\"Espa\\\\u00f1ol\\\"}, {\\\"iso_639_1\\\": \\\"en\\\", \\\"name\\\": \\\"English\\\"}, {\\\"iso_639_1\\\": \\\"fr\\\", \\\"name\\\": \\\"Fran\\\\u00e7ais\\\"}, {\\\"iso_639_1\\\": \\\"hu\\\", \\\"name\\\": \\\"Magyar\\\"}]\",\n          \"[{\\\"iso_639_1\\\": \\\"en\\\", \\\"name\\\": \\\"English\\\"}, {\\\"iso_639_1\\\": \\\"it\\\", \\\"name\\\": \\\"Italiano\\\"}, {\\\"iso_639_1\\\": \\\"pt\\\", \\\"name\\\": \\\"Portugu\\\\u00eas\\\"}]\",\n          \"[{\\\"iso_639_1\\\": \\\"de\\\", \\\"name\\\": \\\"Deutsch\\\"}, {\\\"iso_639_1\\\": \\\"it\\\", \\\"name\\\": \\\"Italiano\\\"}, {\\\"iso_639_1\\\": \\\"la\\\", \\\"name\\\": \\\"Latin\\\"}, {\\\"iso_639_1\\\": \\\"pl\\\", \\\"name\\\": \\\"Polski\\\"}]\"\n        ],\n        \"semantic_type\": \"\",\n        \"description\": \"\"\n      }\n    },\n    {\n      \"column\": \"status\",\n      \"properties\": {\n        \"dtype\": \"category\",\n        \"num_unique_values\": 3,\n        \"samples\": [\n          \"Released\",\n          \"Post Production\",\n          \"Rumored\"\n        ],\n        \"semantic_type\": \"\",\n        \"description\": \"\"\n      }\n    },\n    {\n      \"column\": \"tagline\",\n      \"properties\": {\n        \"dtype\": \"string\",\n        \"num_unique_values\": 3944,\n        \"samples\": [\n          \"When you're 17, every day is war.\",\n          \"An Unspeakable Horror. A Creative Genius. Captured For Eternity.\",\n          \"May the schwartz be with you\"\n        ],\n        \"semantic_type\": \"\",\n        \"description\": \"\"\n      }\n    },\n    {\n      \"column\": \"title\",\n      \"properties\": {\n        \"dtype\": \"string\",\n        \"num_unique_values\": 4800,\n        \"samples\": [\n          \"I Spy\",\n          \"Who's Your Caddy?\",\n          \"Sleepover\"\n        ],\n        \"semantic_type\": \"\",\n        \"description\": \"\"\n      }\n    },\n    {\n      \"column\": \"vote_average\",\n      \"properties\": {\n        \"dtype\": \"number\",\n        \"std\": 1.1946121628478923,\n        \"min\": 0.0,\n        \"max\": 10.0,\n        \"num_unique_values\": 71,\n        \"samples\": [\n          5.1,\n          7.2,\n          4.0\n        ],\n        \"semantic_type\": \"\",\n        \"description\": \"\"\n      }\n    },\n    {\n      \"column\": \"vote_count\",\n      \"properties\": {\n        \"dtype\": \"number\",\n        \"std\": 1234,\n        \"min\": 0,\n        \"max\": 13752,\n        \"num_unique_values\": 1609,\n        \"samples\": [\n          7604,\n          3428,\n          225\n        ],\n        \"semantic_type\": \"\",\n        \"description\": \"\"\n      }\n    }\n  ]\n}"
            }
          },
          "metadata": {},
          "execution_count": 4
        }
      ],
      "source": [
        "df = pd.read_csv(\"/content/tmdb_5000_movies TMDL 2024.csv\")\n",
        "df"
      ]
    },
    {
      "cell_type": "markdown",
      "id": "1915f1f7",
      "metadata": {
        "id": "1915f1f7"
      },
      "source": [
        "View information about the dataset including datatypes and null values"
      ]
    },
    {
      "cell_type": "code",
      "execution_count": 5,
      "id": "c173d066",
      "metadata": {
        "id": "c173d066",
        "colab": {
          "base_uri": "https://localhost:8080/"
        },
        "outputId": "02fd82ea-adc8-49d9-a172-1e787c9385b9"
      },
      "outputs": [
        {
          "output_type": "stream",
          "name": "stdout",
          "text": [
            "<class 'pandas.core.frame.DataFrame'>\n",
            "RangeIndex: 4803 entries, 0 to 4802\n",
            "Data columns (total 20 columns):\n",
            " #   Column                Non-Null Count  Dtype  \n",
            "---  ------                --------------  -----  \n",
            " 0   budget                4803 non-null   int64  \n",
            " 1   genres                4803 non-null   object \n",
            " 2   homepage              1712 non-null   object \n",
            " 3   id                    4803 non-null   int64  \n",
            " 4   keywords              4803 non-null   object \n",
            " 5   original_language     4803 non-null   object \n",
            " 6   original_title        4803 non-null   object \n",
            " 7   overview              4800 non-null   object \n",
            " 8   popularity            4803 non-null   float64\n",
            " 9   production_companies  4803 non-null   object \n",
            " 10  production_countries  4803 non-null   object \n",
            " 11  release_date          4802 non-null   object \n",
            " 12  revenue               4803 non-null   int64  \n",
            " 13  runtime               4801 non-null   float64\n",
            " 14  spoken_languages      4803 non-null   object \n",
            " 15  status                4803 non-null   object \n",
            " 16  tagline               3959 non-null   object \n",
            " 17  title                 4803 non-null   object \n",
            " 18  vote_average          4803 non-null   float64\n",
            " 19  vote_count            4803 non-null   int64  \n",
            "dtypes: float64(3), int64(4), object(13)\n",
            "memory usage: 750.6+ KB\n"
          ]
        }
      ],
      "source": [
        "df.info()"
      ]
    },
    {
      "cell_type": "markdown",
      "id": "4e64a24f",
      "metadata": {
        "id": "4e64a24f"
      },
      "source": [
        "**Q.1.1.2** What columns have null values above? How would you be able to estimate the missing values?"
      ]
    },
    {
      "cell_type": "markdown",
      "id": "2660fe51",
      "metadata": {
        "id": "2660fe51"
      },
      "source": [
        "homepage, overview, release_date, runtime and tagline. The missing values can either be searched up or deleted"
      ]
    },
    {
      "cell_type": "markdown",
      "id": "83863820",
      "metadata": {
        "id": "83863820"
      },
      "source": [
        "### Q1.2\n",
        "For this notebook, we're only interested in a few columns, specifically title, overview and genres. Set df to only contain those columns."
      ]
    },
    {
      "cell_type": "code",
      "execution_count": 6,
      "id": "4e3f0439",
      "metadata": {
        "id": "4e3f0439",
        "colab": {
          "base_uri": "https://localhost:8080/"
        },
        "outputId": "b4903e84-d06c-4ee5-c188-f6cff6c43378"
      },
      "outputs": [
        {
          "output_type": "stream",
          "name": "stdout",
          "text": [
            "<class 'pandas.core.frame.DataFrame'>\n",
            "RangeIndex: 4803 entries, 0 to 4802\n",
            "Data columns (total 3 columns):\n",
            " #   Column    Non-Null Count  Dtype \n",
            "---  ------    --------------  ----- \n",
            " 0   title     4803 non-null   object\n",
            " 1   overview  4800 non-null   object\n",
            " 2   genres    4803 non-null   object\n",
            "dtypes: object(3)\n",
            "memory usage: 112.7+ KB\n"
          ]
        }
      ],
      "source": [
        "df = df[['title', 'overview', 'genres']]\n",
        "df.info() # print out df info to verify"
      ]
    },
    {
      "cell_type": "markdown",
      "id": "b596e86b",
      "metadata": {
        "id": "b596e86b"
      },
      "source": [
        "### Q1.3\n",
        "We see that some movies do not have an overview. Drop them from the table and reset the index (set `drop=True`)."
      ]
    },
    {
      "cell_type": "code",
      "execution_count": 7,
      "id": "a06e4f6a",
      "metadata": {
        "id": "a06e4f6a",
        "colab": {
          "base_uri": "https://localhost:8080/",
          "height": 424
        },
        "outputId": "5d1641ca-f910-4741-b590-857c7e72f594"
      },
      "outputs": [
        {
          "output_type": "execute_result",
          "data": {
            "text/plain": [
              "                                         title  \\\n",
              "0                                       Avatar   \n",
              "1     Pirates of the Caribbean: At World's End   \n",
              "2                                      Spectre   \n",
              "3                        The Dark Knight Rises   \n",
              "4                                  John Carter   \n",
              "...                                        ...   \n",
              "4795                               El Mariachi   \n",
              "4796                                 Newlyweds   \n",
              "4797                 Signed, Sealed, Delivered   \n",
              "4798                          Shanghai Calling   \n",
              "4799                         My Date with Drew   \n",
              "\n",
              "                                               overview  \\\n",
              "0     In the 22nd century, a paraplegic Marine is di...   \n",
              "1     Captain Barbossa, long believed to be dead, ha...   \n",
              "2     A cryptic message from Bond’s past sends him o...   \n",
              "3     Following the death of District Attorney Harve...   \n",
              "4     John Carter is a war-weary, former military ca...   \n",
              "...                                                 ...   \n",
              "4795  El Mariachi just wants to play his guitar and ...   \n",
              "4796  A newlywed couple's honeymoon is upended by th...   \n",
              "4797  \"Signed, Sealed, Delivered\" introduces a dedic...   \n",
              "4798  When ambitious New York attorney Sam is sent t...   \n",
              "4799  Ever since the second grade when he first saw ...   \n",
              "\n",
              "                                                 genres  \n",
              "0     [{\"id\": 28, \"name\": \"Action\"}, {\"id\": 12, \"nam...  \n",
              "1     [{\"id\": 12, \"name\": \"Adventure\"}, {\"id\": 14, \"...  \n",
              "2     [{\"id\": 28, \"name\": \"Action\"}, {\"id\": 12, \"nam...  \n",
              "3     [{\"id\": 28, \"name\": \"Action\"}, {\"id\": 80, \"nam...  \n",
              "4     [{\"id\": 28, \"name\": \"Action\"}, {\"id\": 12, \"nam...  \n",
              "...                                                 ...  \n",
              "4795  [{\"id\": 28, \"name\": \"Action\"}, {\"id\": 80, \"nam...  \n",
              "4796  [{\"id\": 35, \"name\": \"Comedy\"}, {\"id\": 10749, \"...  \n",
              "4797  [{\"id\": 35, \"name\": \"Comedy\"}, {\"id\": 18, \"nam...  \n",
              "4798                                                 []  \n",
              "4799                [{\"id\": 99, \"name\": \"Documentary\"}]  \n",
              "\n",
              "[4800 rows x 3 columns]"
            ],
            "text/html": [
              "\n",
              "  <div id=\"df-a23b637b-fe43-4e8b-978d-2cc0733a25d0\" class=\"colab-df-container\">\n",
              "    <div>\n",
              "<style scoped>\n",
              "    .dataframe tbody tr th:only-of-type {\n",
              "        vertical-align: middle;\n",
              "    }\n",
              "\n",
              "    .dataframe tbody tr th {\n",
              "        vertical-align: top;\n",
              "    }\n",
              "\n",
              "    .dataframe thead th {\n",
              "        text-align: right;\n",
              "    }\n",
              "</style>\n",
              "<table border=\"1\" class=\"dataframe\">\n",
              "  <thead>\n",
              "    <tr style=\"text-align: right;\">\n",
              "      <th></th>\n",
              "      <th>title</th>\n",
              "      <th>overview</th>\n",
              "      <th>genres</th>\n",
              "    </tr>\n",
              "  </thead>\n",
              "  <tbody>\n",
              "    <tr>\n",
              "      <th>0</th>\n",
              "      <td>Avatar</td>\n",
              "      <td>In the 22nd century, a paraplegic Marine is di...</td>\n",
              "      <td>[{\"id\": 28, \"name\": \"Action\"}, {\"id\": 12, \"nam...</td>\n",
              "    </tr>\n",
              "    <tr>\n",
              "      <th>1</th>\n",
              "      <td>Pirates of the Caribbean: At World's End</td>\n",
              "      <td>Captain Barbossa, long believed to be dead, ha...</td>\n",
              "      <td>[{\"id\": 12, \"name\": \"Adventure\"}, {\"id\": 14, \"...</td>\n",
              "    </tr>\n",
              "    <tr>\n",
              "      <th>2</th>\n",
              "      <td>Spectre</td>\n",
              "      <td>A cryptic message from Bond’s past sends him o...</td>\n",
              "      <td>[{\"id\": 28, \"name\": \"Action\"}, {\"id\": 12, \"nam...</td>\n",
              "    </tr>\n",
              "    <tr>\n",
              "      <th>3</th>\n",
              "      <td>The Dark Knight Rises</td>\n",
              "      <td>Following the death of District Attorney Harve...</td>\n",
              "      <td>[{\"id\": 28, \"name\": \"Action\"}, {\"id\": 80, \"nam...</td>\n",
              "    </tr>\n",
              "    <tr>\n",
              "      <th>4</th>\n",
              "      <td>John Carter</td>\n",
              "      <td>John Carter is a war-weary, former military ca...</td>\n",
              "      <td>[{\"id\": 28, \"name\": \"Action\"}, {\"id\": 12, \"nam...</td>\n",
              "    </tr>\n",
              "    <tr>\n",
              "      <th>...</th>\n",
              "      <td>...</td>\n",
              "      <td>...</td>\n",
              "      <td>...</td>\n",
              "    </tr>\n",
              "    <tr>\n",
              "      <th>4795</th>\n",
              "      <td>El Mariachi</td>\n",
              "      <td>El Mariachi just wants to play his guitar and ...</td>\n",
              "      <td>[{\"id\": 28, \"name\": \"Action\"}, {\"id\": 80, \"nam...</td>\n",
              "    </tr>\n",
              "    <tr>\n",
              "      <th>4796</th>\n",
              "      <td>Newlyweds</td>\n",
              "      <td>A newlywed couple's honeymoon is upended by th...</td>\n",
              "      <td>[{\"id\": 35, \"name\": \"Comedy\"}, {\"id\": 10749, \"...</td>\n",
              "    </tr>\n",
              "    <tr>\n",
              "      <th>4797</th>\n",
              "      <td>Signed, Sealed, Delivered</td>\n",
              "      <td>\"Signed, Sealed, Delivered\" introduces a dedic...</td>\n",
              "      <td>[{\"id\": 35, \"name\": \"Comedy\"}, {\"id\": 18, \"nam...</td>\n",
              "    </tr>\n",
              "    <tr>\n",
              "      <th>4798</th>\n",
              "      <td>Shanghai Calling</td>\n",
              "      <td>When ambitious New York attorney Sam is sent t...</td>\n",
              "      <td>[]</td>\n",
              "    </tr>\n",
              "    <tr>\n",
              "      <th>4799</th>\n",
              "      <td>My Date with Drew</td>\n",
              "      <td>Ever since the second grade when he first saw ...</td>\n",
              "      <td>[{\"id\": 99, \"name\": \"Documentary\"}]</td>\n",
              "    </tr>\n",
              "  </tbody>\n",
              "</table>\n",
              "<p>4800 rows × 3 columns</p>\n",
              "</div>\n",
              "    <div class=\"colab-df-buttons\">\n",
              "\n",
              "  <div class=\"colab-df-container\">\n",
              "    <button class=\"colab-df-convert\" onclick=\"convertToInteractive('df-a23b637b-fe43-4e8b-978d-2cc0733a25d0')\"\n",
              "            title=\"Convert this dataframe to an interactive table.\"\n",
              "            style=\"display:none;\">\n",
              "\n",
              "  <svg xmlns=\"http://www.w3.org/2000/svg\" height=\"24px\" viewBox=\"0 -960 960 960\">\n",
              "    <path d=\"M120-120v-720h720v720H120Zm60-500h600v-160H180v160Zm220 220h160v-160H400v160Zm0 220h160v-160H400v160ZM180-400h160v-160H180v160Zm440 0h160v-160H620v160ZM180-180h160v-160H180v160Zm440 0h160v-160H620v160Z\"/>\n",
              "  </svg>\n",
              "    </button>\n",
              "\n",
              "  <style>\n",
              "    .colab-df-container {\n",
              "      display:flex;\n",
              "      gap: 12px;\n",
              "    }\n",
              "\n",
              "    .colab-df-convert {\n",
              "      background-color: #E8F0FE;\n",
              "      border: none;\n",
              "      border-radius: 50%;\n",
              "      cursor: pointer;\n",
              "      display: none;\n",
              "      fill: #1967D2;\n",
              "      height: 32px;\n",
              "      padding: 0 0 0 0;\n",
              "      width: 32px;\n",
              "    }\n",
              "\n",
              "    .colab-df-convert:hover {\n",
              "      background-color: #E2EBFA;\n",
              "      box-shadow: 0px 1px 2px rgba(60, 64, 67, 0.3), 0px 1px 3px 1px rgba(60, 64, 67, 0.15);\n",
              "      fill: #174EA6;\n",
              "    }\n",
              "\n",
              "    .colab-df-buttons div {\n",
              "      margin-bottom: 4px;\n",
              "    }\n",
              "\n",
              "    [theme=dark] .colab-df-convert {\n",
              "      background-color: #3B4455;\n",
              "      fill: #D2E3FC;\n",
              "    }\n",
              "\n",
              "    [theme=dark] .colab-df-convert:hover {\n",
              "      background-color: #434B5C;\n",
              "      box-shadow: 0px 1px 3px 1px rgba(0, 0, 0, 0.15);\n",
              "      filter: drop-shadow(0px 1px 2px rgba(0, 0, 0, 0.3));\n",
              "      fill: #FFFFFF;\n",
              "    }\n",
              "  </style>\n",
              "\n",
              "    <script>\n",
              "      const buttonEl =\n",
              "        document.querySelector('#df-a23b637b-fe43-4e8b-978d-2cc0733a25d0 button.colab-df-convert');\n",
              "      buttonEl.style.display =\n",
              "        google.colab.kernel.accessAllowed ? 'block' : 'none';\n",
              "\n",
              "      async function convertToInteractive(key) {\n",
              "        const element = document.querySelector('#df-a23b637b-fe43-4e8b-978d-2cc0733a25d0');\n",
              "        const dataTable =\n",
              "          await google.colab.kernel.invokeFunction('convertToInteractive',\n",
              "                                                    [key], {});\n",
              "        if (!dataTable) return;\n",
              "\n",
              "        const docLinkHtml = 'Like what you see? Visit the ' +\n",
              "          '<a target=\"_blank\" href=https://colab.research.google.com/notebooks/data_table.ipynb>data table notebook</a>'\n",
              "          + ' to learn more about interactive tables.';\n",
              "        element.innerHTML = '';\n",
              "        dataTable['output_type'] = 'display_data';\n",
              "        await google.colab.output.renderOutput(dataTable, element);\n",
              "        const docLink = document.createElement('div');\n",
              "        docLink.innerHTML = docLinkHtml;\n",
              "        element.appendChild(docLink);\n",
              "      }\n",
              "    </script>\n",
              "  </div>\n",
              "\n",
              "\n",
              "<div id=\"df-cf1e1a55-cf46-452a-b3c9-ab61b4bc42ed\">\n",
              "  <button class=\"colab-df-quickchart\" onclick=\"quickchart('df-cf1e1a55-cf46-452a-b3c9-ab61b4bc42ed')\"\n",
              "            title=\"Suggest charts\"\n",
              "            style=\"display:none;\">\n",
              "\n",
              "<svg xmlns=\"http://www.w3.org/2000/svg\" height=\"24px\"viewBox=\"0 0 24 24\"\n",
              "     width=\"24px\">\n",
              "    <g>\n",
              "        <path d=\"M19 3H5c-1.1 0-2 .9-2 2v14c0 1.1.9 2 2 2h14c1.1 0 2-.9 2-2V5c0-1.1-.9-2-2-2zM9 17H7v-7h2v7zm4 0h-2V7h2v10zm4 0h-2v-4h2v4z\"/>\n",
              "    </g>\n",
              "</svg>\n",
              "  </button>\n",
              "\n",
              "<style>\n",
              "  .colab-df-quickchart {\n",
              "      --bg-color: #E8F0FE;\n",
              "      --fill-color: #1967D2;\n",
              "      --hover-bg-color: #E2EBFA;\n",
              "      --hover-fill-color: #174EA6;\n",
              "      --disabled-fill-color: #AAA;\n",
              "      --disabled-bg-color: #DDD;\n",
              "  }\n",
              "\n",
              "  [theme=dark] .colab-df-quickchart {\n",
              "      --bg-color: #3B4455;\n",
              "      --fill-color: #D2E3FC;\n",
              "      --hover-bg-color: #434B5C;\n",
              "      --hover-fill-color: #FFFFFF;\n",
              "      --disabled-bg-color: #3B4455;\n",
              "      --disabled-fill-color: #666;\n",
              "  }\n",
              "\n",
              "  .colab-df-quickchart {\n",
              "    background-color: var(--bg-color);\n",
              "    border: none;\n",
              "    border-radius: 50%;\n",
              "    cursor: pointer;\n",
              "    display: none;\n",
              "    fill: var(--fill-color);\n",
              "    height: 32px;\n",
              "    padding: 0;\n",
              "    width: 32px;\n",
              "  }\n",
              "\n",
              "  .colab-df-quickchart:hover {\n",
              "    background-color: var(--hover-bg-color);\n",
              "    box-shadow: 0 1px 2px rgba(60, 64, 67, 0.3), 0 1px 3px 1px rgba(60, 64, 67, 0.15);\n",
              "    fill: var(--button-hover-fill-color);\n",
              "  }\n",
              "\n",
              "  .colab-df-quickchart-complete:disabled,\n",
              "  .colab-df-quickchart-complete:disabled:hover {\n",
              "    background-color: var(--disabled-bg-color);\n",
              "    fill: var(--disabled-fill-color);\n",
              "    box-shadow: none;\n",
              "  }\n",
              "\n",
              "  .colab-df-spinner {\n",
              "    border: 2px solid var(--fill-color);\n",
              "    border-color: transparent;\n",
              "    border-bottom-color: var(--fill-color);\n",
              "    animation:\n",
              "      spin 1s steps(1) infinite;\n",
              "  }\n",
              "\n",
              "  @keyframes spin {\n",
              "    0% {\n",
              "      border-color: transparent;\n",
              "      border-bottom-color: var(--fill-color);\n",
              "      border-left-color: var(--fill-color);\n",
              "    }\n",
              "    20% {\n",
              "      border-color: transparent;\n",
              "      border-left-color: var(--fill-color);\n",
              "      border-top-color: var(--fill-color);\n",
              "    }\n",
              "    30% {\n",
              "      border-color: transparent;\n",
              "      border-left-color: var(--fill-color);\n",
              "      border-top-color: var(--fill-color);\n",
              "      border-right-color: var(--fill-color);\n",
              "    }\n",
              "    40% {\n",
              "      border-color: transparent;\n",
              "      border-right-color: var(--fill-color);\n",
              "      border-top-color: var(--fill-color);\n",
              "    }\n",
              "    60% {\n",
              "      border-color: transparent;\n",
              "      border-right-color: var(--fill-color);\n",
              "    }\n",
              "    80% {\n",
              "      border-color: transparent;\n",
              "      border-right-color: var(--fill-color);\n",
              "      border-bottom-color: var(--fill-color);\n",
              "    }\n",
              "    90% {\n",
              "      border-color: transparent;\n",
              "      border-bottom-color: var(--fill-color);\n",
              "    }\n",
              "  }\n",
              "</style>\n",
              "\n",
              "  <script>\n",
              "    async function quickchart(key) {\n",
              "      const quickchartButtonEl =\n",
              "        document.querySelector('#' + key + ' button');\n",
              "      quickchartButtonEl.disabled = true;  // To prevent multiple clicks.\n",
              "      quickchartButtonEl.classList.add('colab-df-spinner');\n",
              "      try {\n",
              "        const charts = await google.colab.kernel.invokeFunction(\n",
              "            'suggestCharts', [key], {});\n",
              "      } catch (error) {\n",
              "        console.error('Error during call to suggestCharts:', error);\n",
              "      }\n",
              "      quickchartButtonEl.classList.remove('colab-df-spinner');\n",
              "      quickchartButtonEl.classList.add('colab-df-quickchart-complete');\n",
              "    }\n",
              "    (() => {\n",
              "      let quickchartButtonEl =\n",
              "        document.querySelector('#df-cf1e1a55-cf46-452a-b3c9-ab61b4bc42ed button');\n",
              "      quickchartButtonEl.style.display =\n",
              "        google.colab.kernel.accessAllowed ? 'block' : 'none';\n",
              "    })();\n",
              "  </script>\n",
              "</div>\n",
              "    </div>\n",
              "  </div>\n"
            ],
            "application/vnd.google.colaboratory.intrinsic+json": {
              "type": "dataframe",
              "variable_name": "df",
              "summary": "{\n  \"name\": \"df\",\n  \"rows\": 4800,\n  \"fields\": [\n    {\n      \"column\": \"title\",\n      \"properties\": {\n        \"dtype\": \"string\",\n        \"num_unique_values\": 4797,\n        \"samples\": [\n          \"Two Brothers\",\n          \"From Paris with Love\",\n          \"Walk the Line\"\n        ],\n        \"semantic_type\": \"\",\n        \"description\": \"\"\n      }\n    },\n    {\n      \"column\": \"overview\",\n      \"properties\": {\n        \"dtype\": \"string\",\n        \"num_unique_values\": 4800,\n        \"samples\": [\n          \"When the Switchblade, the most sophisticated prototype stealth fighter created yet, is stolen from the U.S. government, one of the United States' top spies, Alex Scott, is called to action. What he doesn't expect is to get teamed up with a cocky civilian, World Class Boxing Champion Kelly Robinson, on a dangerous top secret espionage mission. Their assignment: using equal parts skill and humor, catch Arnold Gundars, one of the world's most successful arms dealers.\",\n          \"When \\\"street smart\\\" rapper Christopher \\\"C-Note\\\" Hawkins (Big Boi) applies for a membership to all-white Carolina Pines Country Club, the establishment's proprietors are hardly ready to oblige him.\",\n          \"As their first year of high school looms ahead, best friends Julie, Hannah, Yancy and Farrah have one last summer sleepover. Little do they know they're about to embark on the adventure of a lifetime. Desperate to shed their nerdy status, they take part in a night-long scavenger hunt that pits them against their popular archrivals. Everything under the sun goes on -- from taking Yancy's father's car to sneaking into nightclubs!\"\n        ],\n        \"semantic_type\": \"\",\n        \"description\": \"\"\n      }\n    },\n    {\n      \"column\": \"genres\",\n      \"properties\": {\n        \"dtype\": \"category\",\n        \"num_unique_values\": 1175,\n        \"samples\": [\n          \"[{\\\"id\\\": 14, \\\"name\\\": \\\"Fantasy\\\"}, {\\\"id\\\": 12, \\\"name\\\": \\\"Adventure\\\"}, {\\\"id\\\": 16, \\\"name\\\": \\\"Animation\\\"}]\",\n          \"[{\\\"id\\\": 28, \\\"name\\\": \\\"Action\\\"}, {\\\"id\\\": 35, \\\"name\\\": \\\"Comedy\\\"}, {\\\"id\\\": 80, \\\"name\\\": \\\"Crime\\\"}, {\\\"id\\\": 18, \\\"name\\\": \\\"Drama\\\"}]\",\n          \"[{\\\"id\\\": 12, \\\"name\\\": \\\"Adventure\\\"}, {\\\"id\\\": 16, \\\"name\\\": \\\"Animation\\\"}, {\\\"id\\\": 10751, \\\"name\\\": \\\"Family\\\"}, {\\\"id\\\": 14, \\\"name\\\": \\\"Fantasy\\\"}, {\\\"id\\\": 878, \\\"name\\\": \\\"Science Fiction\\\"}]\"\n        ],\n        \"semantic_type\": \"\",\n        \"description\": \"\"\n      }\n    }\n  ]\n}"
            }
          },
          "metadata": {},
          "execution_count": 7
        }
      ],
      "source": [
        "df = df.dropna() # drop na values\n",
        "df = df.reset_index(drop=True) # reset index\n",
        "df"
      ]
    },
    {
      "cell_type": "markdown",
      "id": "759df3a2",
      "metadata": {
        "id": "759df3a2"
      },
      "source": [
        "# Q2 One-hot encodings\n",
        "The following code processes the genres (which you see above are list of dictionaries) and encodes them into one-hot labels.\n",
        "\n",
        "Remember, since we cannot do maths on text strings, we must change these words to numbers. Here, we create one-hot encodings for the genres. Assume we have three genres $[G_1, G_2, G_3]$. If a movie $M_1$ is tagged with genre $G_1$, the encoding is $[1,0,0]$. If another movie $M_2$ is tagged with $G2$, the encoding becomes $[0,1,0]$. Other encodings are possible as well, but one-hot encoding quite common and useful for many other tasks. In this case, if a movie is tagged with more than one genre, we'll just take a random one and encode that into a one-hot label.\n",
        "\n",
        "### Q2.1 Processing genres\n",
        "\n",
        "Finish the following code that processes genres into one-hot encodings."
      ]
    },
    {
      "cell_type": "code",
      "execution_count": 8,
      "id": "dba05feb",
      "metadata": {
        "id": "dba05feb",
        "colab": {
          "base_uri": "https://localhost:8080/"
        },
        "outputId": "39e0bcfe-9edd-4a69-f4f1-e279667fea9b"
      },
      "outputs": [
        {
          "output_type": "stream",
          "name": "stderr",
          "text": [
            "100%|██████████| 4800/4800 [00:00<00:00, 18406.67it/s]\n"
          ]
        }
      ],
      "source": [
        "np.random.seed(0)\n",
        "\n",
        "def process_genre_string(gs):\n",
        "    \"\"\" Processes genres into a single item from a list\"\"\"\n",
        "    gs = eval(gs)\n",
        "    gs = [x['name'] for x in gs]\n",
        "    genre = \"Unknown\"\n",
        "    if gs:\n",
        "        genre = np.random.choice(gs) # choose random entry\n",
        "    return genre\n",
        "\n",
        "# TODO: Fill in\n",
        "def encode_labels(label, unique_labels):\n",
        "    \"\"\" Encodes text labels into a one-hot encoded list\n",
        "        with possibly more than one one-hot per list.\n",
        "        :param label: the label you want to one-hot encode\n",
        "        :unique_labels: the vocabulary\n",
        "    \"\"\"\n",
        "    out = np.zeros(len(unique_labels))\n",
        "    for lab in label:\n",
        "        out[unique_labels.index(label)] = 1\n",
        "    return out\n",
        "\n",
        "# save genres\n",
        "processed_genres = []\n",
        "for index, row in df.iterrows():\n",
        "    processed_genres.append(process_genre_string(row[\"genres\"]))\n",
        "\n",
        "# sort and remove duplicates to get vocabulary\n",
        "unique_genres = sorted(list(set(processed_genres)))\n",
        "\n",
        "# add to dataframe as new column\n",
        "df[\"proc_genres\"] = processed_genres\n",
        "\n",
        "# one-hot encode genres\n",
        "enocded_labels = []\n",
        "for index, row in tqdm(df.iterrows(), total=len(df)):\n",
        "    enocded_labels.append(encode_labels(row[\"proc_genres\"], unique_genres))\n",
        "\n",
        "df[\"one_hot_genres\"] = enocded_labels"
      ]
    },
    {
      "cell_type": "markdown",
      "id": "d17501a9",
      "metadata": {
        "id": "d17501a9"
      },
      "source": [
        "Verify that one-hot encodings are indeed as expected"
      ]
    },
    {
      "cell_type": "code",
      "execution_count": 9,
      "id": "3b64854b",
      "metadata": {
        "id": "3b64854b",
        "colab": {
          "base_uri": "https://localhost:8080/"
        },
        "outputId": "216b7499-db11-460c-84f9-1f6dd67d5332"
      },
      "outputs": [
        {
          "output_type": "execute_result",
          "data": {
            "text/plain": [
              "array([1., 0., 0., 0., 0., 0., 0., 0., 0., 0., 0., 0., 0., 0., 0., 0., 0.,\n",
              "       0., 0., 0., 0.])"
            ]
          },
          "metadata": {},
          "execution_count": 9
        }
      ],
      "source": [
        "df[\"one_hot_genres\"][0]"
      ]
    },
    {
      "cell_type": "markdown",
      "id": "b0a83ece",
      "metadata": {
        "id": "b0a83ece"
      },
      "source": [
        "### Q2.2 Processing Overviews\n",
        "Next, we process the overviews. First, we remove all punctuation for the sake of simplicity and change each overview to use only lowercase. Then we need to see how long the overviews are in terms of numbers of words. We can do this with a histogram.\n",
        "\n",
        "**Q2.2.1** Finish the following code"
      ]
    },
    {
      "cell_type": "code",
      "execution_count": 10,
      "id": "bfd51c53",
      "metadata": {
        "id": "bfd51c53",
        "colab": {
          "base_uri": "https://localhost:8080/",
          "height": 732
        },
        "outputId": "77728ae3-0244-47db-a394-b15d99e0a5d4"
      },
      "outputs": [
        {
          "output_type": "display_data",
          "data": {
            "text/plain": [
              "<Figure size 640x480 with 1 Axes>"
            ],
            "image/png": "[encoded data removed]"
          },
          "metadata": {}
        },
        {
          "output_type": "execute_result",
          "data": {
            "text/plain": [
              "       overview_len\n",
              "count   4800.000000\n",
              "mean      51.981042\n",
              "std       27.767518\n",
              "min        0.000000\n",
              "25%       30.000000\n",
              "50%       48.000000\n",
              "75%       67.000000\n",
              "max      175.000000"
            ],
            "text/html": [
              "\n",
              "  <div id=\"df-e0013025-ca1c-4db8-aa74-1d8edb0eaf48\" class=\"colab-df-container\">\n",
              "    <div>\n",
              "<style scoped>\n",
              "    .dataframe tbody tr th:only-of-type {\n",
              "        vertical-align: middle;\n",
              "    }\n",
              "\n",
              "    .dataframe tbody tr th {\n",
              "        vertical-align: top;\n",
              "    }\n",
              "\n",
              "    .dataframe thead th {\n",
              "        text-align: right;\n",
              "    }\n",
              "</style>\n",
              "<table border=\"1\" class=\"dataframe\">\n",
              "  <thead>\n",
              "    <tr style=\"text-align: right;\">\n",
              "      <th></th>\n",
              "      <th>overview_len</th>\n",
              "    </tr>\n",
              "  </thead>\n",
              "  <tbody>\n",
              "    <tr>\n",
              "      <th>count</th>\n",
              "      <td>4800.000000</td>\n",
              "    </tr>\n",
              "    <tr>\n",
              "      <th>mean</th>\n",
              "      <td>51.981042</td>\n",
              "    </tr>\n",
              "    <tr>\n",
              "      <th>std</th>\n",
              "      <td>27.767518</td>\n",
              "    </tr>\n",
              "    <tr>\n",
              "      <th>min</th>\n",
              "      <td>0.000000</td>\n",
              "    </tr>\n",
              "    <tr>\n",
              "      <th>25%</th>\n",
              "      <td>30.000000</td>\n",
              "    </tr>\n",
              "    <tr>\n",
              "      <th>50%</th>\n",
              "      <td>48.000000</td>\n",
              "    </tr>\n",
              "    <tr>\n",
              "      <th>75%</th>\n",
              "      <td>67.000000</td>\n",
              "    </tr>\n",
              "    <tr>\n",
              "      <th>max</th>\n",
              "      <td>175.000000</td>\n",
              "    </tr>\n",
              "  </tbody>\n",
              "</table>\n",
              "</div>\n",
              "    <div class=\"colab-df-buttons\">\n",
              "\n",
              "  <div class=\"colab-df-container\">\n",
              "    <button class=\"colab-df-convert\" onclick=\"convertToInteractive('df-e0013025-ca1c-4db8-aa74-1d8edb0eaf48')\"\n",
              "            title=\"Convert this dataframe to an interactive table.\"\n",
              "            style=\"display:none;\">\n",
              "\n",
              "  <svg xmlns=\"http://www.w3.org/2000/svg\" height=\"24px\" viewBox=\"0 -960 960 960\">\n",
              "    <path d=\"M120-120v-720h720v720H120Zm60-500h600v-160H180v160Zm220 220h160v-160H400v160Zm0 220h160v-160H400v160ZM180-400h160v-160H180v160Zm440 0h160v-160H620v160ZM180-180h160v-160H180v160Zm440 0h160v-160H620v160Z\"/>\n",
              "  </svg>\n",
              "    </button>\n",
              "\n",
              "  <style>\n",
              "    .colab-df-container {\n",
              "      display:flex;\n",
              "      gap: 12px;\n",
              "    }\n",
              "\n",
              "    .colab-df-convert {\n",
              "      background-color: #E8F0FE;\n",
              "      border: none;\n",
              "      border-radius: 50%;\n",
              "      cursor: pointer;\n",
              "      display: none;\n",
              "      fill: #1967D2;\n",
              "      height: 32px;\n",
              "      padding: 0 0 0 0;\n",
              "      width: 32px;\n",
              "    }\n",
              "\n",
              "    .colab-df-convert:hover {\n",
              "      background-color: #E2EBFA;\n",
              "      box-shadow: 0px 1px 2px rgba(60, 64, 67, 0.3), 0px 1px 3px 1px rgba(60, 64, 67, 0.15);\n",
              "      fill: #174EA6;\n",
              "    }\n",
              "\n",
              "    .colab-df-buttons div {\n",
              "      margin-bottom: 4px;\n",
              "    }\n",
              "\n",
              "    [theme=dark] .colab-df-convert {\n",
              "      background-color: #3B4455;\n",
              "      fill: #D2E3FC;\n",
              "    }\n",
              "\n",
              "    [theme=dark] .colab-df-convert:hover {\n",
              "      background-color: #434B5C;\n",
              "      box-shadow: 0px 1px 3px 1px rgba(0, 0, 0, 0.15);\n",
              "      filter: drop-shadow(0px 1px 2px rgba(0, 0, 0, 0.3));\n",
              "      fill: #FFFFFF;\n",
              "    }\n",
              "  </style>\n",
              "\n",
              "    <script>\n",
              "      const buttonEl =\n",
              "        document.querySelector('#df-e0013025-ca1c-4db8-aa74-1d8edb0eaf48 button.colab-df-convert');\n",
              "      buttonEl.style.display =\n",
              "        google.colab.kernel.accessAllowed ? 'block' : 'none';\n",
              "\n",
              "      async function convertToInteractive(key) {\n",
              "        const element = document.querySelector('#df-e0013025-ca1c-4db8-aa74-1d8edb0eaf48');\n",
              "        const dataTable =\n",
              "          await google.colab.kernel.invokeFunction('convertToInteractive',\n",
              "                                                    [key], {});\n",
              "        if (!dataTable) return;\n",
              "\n",
              "        const docLinkHtml = 'Like what you see? Visit the ' +\n",
              "          '<a target=\"_blank\" href=https://colab.research.google.com/notebooks/data_table.ipynb>data table notebook</a>'\n",
              "          + ' to learn more about interactive tables.';\n",
              "        element.innerHTML = '';\n",
              "        dataTable['output_type'] = 'display_data';\n",
              "        await google.colab.output.renderOutput(dataTable, element);\n",
              "        const docLink = document.createElement('div');\n",
              "        docLink.innerHTML = docLinkHtml;\n",
              "        element.appendChild(docLink);\n",
              "      }\n",
              "    </script>\n",
              "  </div>\n",
              "\n",
              "\n",
              "<div id=\"df-a858ad02-584e-420d-aab3-a18df994e86b\">\n",
              "  <button class=\"colab-df-quickchart\" onclick=\"quickchart('df-a858ad02-584e-420d-aab3-a18df994e86b')\"\n",
              "            title=\"Suggest charts\"\n",
              "            style=\"display:none;\">\n",
              "\n",
              "<svg xmlns=\"http://www.w3.org/2000/svg\" height=\"24px\"viewBox=\"0 0 24 24\"\n",
              "     width=\"24px\">\n",
              "    <g>\n",
              "        <path d=\"M19 3H5c-1.1 0-2 .9-2 2v14c0 1.1.9 2 2 2h14c1.1 0 2-.9 2-2V5c0-1.1-.9-2-2-2zM9 17H7v-7h2v7zm4 0h-2V7h2v10zm4 0h-2v-4h2v4z\"/>\n",
              "    </g>\n",
              "</svg>\n",
              "  </button>\n",
              "\n",
              "<style>\n",
              "  .colab-df-quickchart {\n",
              "      --bg-color: #E8F0FE;\n",
              "      --fill-color: #1967D2;\n",
              "      --hover-bg-color: #E2EBFA;\n",
              "      --hover-fill-color: #174EA6;\n",
              "      --disabled-fill-color: #AAA;\n",
              "      --disabled-bg-color: #DDD;\n",
              "  }\n",
              "\n",
              "  [theme=dark] .colab-df-quickchart {\n",
              "      --bg-color: #3B4455;\n",
              "      --fill-color: #D2E3FC;\n",
              "      --hover-bg-color: #434B5C;\n",
              "      --hover-fill-color: #FFFFFF;\n",
              "      --disabled-bg-color: #3B4455;\n",
              "      --disabled-fill-color: #666;\n",
              "  }\n",
              "\n",
              "  .colab-df-quickchart {\n",
              "    background-color: var(--bg-color);\n",
              "    border: none;\n",
              "    border-radius: 50%;\n",
              "    cursor: pointer;\n",
              "    display: none;\n",
              "    fill: var(--fill-color);\n",
              "    height: 32px;\n",
              "    padding: 0;\n",
              "    width: 32px;\n",
              "  }\n",
              "\n",
              "  .colab-df-quickchart:hover {\n",
              "    background-color: var(--hover-bg-color);\n",
              "    box-shadow: 0 1px 2px rgba(60, 64, 67, 0.3), 0 1px 3px 1px rgba(60, 64, 67, 0.15);\n",
              "    fill: var(--button-hover-fill-color);\n",
              "  }\n",
              "\n",
              "  .colab-df-quickchart-complete:disabled,\n",
              "  .colab-df-quickchart-complete:disabled:hover {\n",
              "    background-color: var(--disabled-bg-color);\n",
              "    fill: var(--disabled-fill-color);\n",
              "    box-shadow: none;\n",
              "  }\n",
              "\n",
              "  .colab-df-spinner {\n",
              "    border: 2px solid var(--fill-color);\n",
              "    border-color: transparent;\n",
              "    border-bottom-color: var(--fill-color);\n",
              "    animation:\n",
              "      spin 1s steps(1) infinite;\n",
              "  }\n",
              "\n",
              "  @keyframes spin {\n",
              "    0% {\n",
              "      border-color: transparent;\n",
              "      border-bottom-color: var(--fill-color);\n",
              "      border-left-color: var(--fill-color);\n",
              "    }\n",
              "    20% {\n",
              "      border-color: transparent;\n",
              "      border-left-color: var(--fill-color);\n",
              "      border-top-color: var(--fill-color);\n",
              "    }\n",
              "    30% {\n",
              "      border-color: transparent;\n",
              "      border-left-color: var(--fill-color);\n",
              "      border-top-color: var(--fill-color);\n",
              "      border-right-color: var(--fill-color);\n",
              "    }\n",
              "    40% {\n",
              "      border-color: transparent;\n",
              "      border-right-color: var(--fill-color);\n",
              "      border-top-color: var(--fill-color);\n",
              "    }\n",
              "    60% {\n",
              "      border-color: transparent;\n",
              "      border-right-color: var(--fill-color);\n",
              "    }\n",
              "    80% {\n",
              "      border-color: transparent;\n",
              "      border-right-color: var(--fill-color);\n",
              "      border-bottom-color: var(--fill-color);\n",
              "    }\n",
              "    90% {\n",
              "      border-color: transparent;\n",
              "      border-bottom-color: var(--fill-color);\n",
              "    }\n",
              "  }\n",
              "</style>\n",
              "\n",
              "  <script>\n",
              "    async function quickchart(key) {\n",
              "      const quickchartButtonEl =\n",
              "        document.querySelector('#' + key + ' button');\n",
              "      quickchartButtonEl.disabled = true;  // To prevent multiple clicks.\n",
              "      quickchartButtonEl.classList.add('colab-df-spinner');\n",
              "      try {\n",
              "        const charts = await google.colab.kernel.invokeFunction(\n",
              "            'suggestCharts', [key], {});\n",
              "      } catch (error) {\n",
              "        console.error('Error during call to suggestCharts:', error);\n",
              "      }\n",
              "      quickchartButtonEl.classList.remove('colab-df-spinner');\n",
              "      quickchartButtonEl.classList.add('colab-df-quickchart-complete');\n",
              "    }\n",
              "    (() => {\n",
              "      let quickchartButtonEl =\n",
              "        document.querySelector('#df-a858ad02-584e-420d-aab3-a18df994e86b button');\n",
              "      quickchartButtonEl.style.display =\n",
              "        google.colab.kernel.accessAllowed ? 'block' : 'none';\n",
              "    })();\n",
              "  </script>\n",
              "</div>\n",
              "    </div>\n",
              "  </div>\n"
            ],
            "application/vnd.google.colaboratory.intrinsic+json": {
              "type": "dataframe",
              "summary": "{\n  \"name\": \"df\",\n  \"rows\": 8,\n  \"fields\": [\n    {\n      \"column\": \"overview_len\",\n      \"properties\": {\n        \"dtype\": \"number\",\n        \"std\": 1677.6734710427688,\n        \"min\": 0.0,\n        \"max\": 4800.0,\n        \"num_unique_values\": 8,\n        \"samples\": [\n          51.98104166666667,\n          48.0,\n          4800.0\n        ],\n        \"semantic_type\": \"\",\n        \"description\": \"\"\n      }\n    }\n  ]\n}"
            }
          },
          "metadata": {},
          "execution_count": 10
        }
      ],
      "source": [
        "import re\n",
        "def remove_punctuation(text):\n",
        "    \"\"\" Only retains letters, numbers, underscores and whitespace \"\"\"\n",
        "    pattern = r'[^\\w\\s]'\n",
        "    return re.sub(pattern, '', text)\n",
        "\n",
        "processed_overviews = []\n",
        "\n",
        "# loop over df, remove punctuation, make words lowercase and add it to a new column\n",
        "for index, row in df.iterrows():\n",
        "    processed_overview = remove_punctuation(str(row['overview']).lower())\n",
        "    processed_overviews.append(processed_overview)\n",
        "df[\"proc_overview\"] = processed_overviews\n",
        "\n",
        "# get the word lengths of each overview and store it in a list\n",
        "overview_lens = []\n",
        "for overview in df[\"proc_overview\"]:\n",
        "    overview_lens.append(len(overview.split()))\n",
        "\n",
        "# for the sake of simplicity, add these values as a column to the df\n",
        "df[\"overview_len\"] = overview_lens\n",
        "plt.hist(df[\"overview_len\"], bins=40)\n",
        "plt.xlabel('Length of overview')\n",
        "plt.ylabel('Frequency')\n",
        "plt.show()\n",
        "df.describe()"
      ]
    },
    {
      "cell_type": "markdown",
      "id": "58138594",
      "metadata": {
        "id": "58138594"
      },
      "source": [
        "**Q2.2.2** What is the shortest overview? What is the longest? In the next step, we need to decide on a standard length of all overviews -- this means dropping overviews less than some value, and truncating longer ones. What length would you choose to minimize the number of movies dropped and maximize the information (words) stored in the overviews?"
      ]
    },
    {
      "cell_type": "markdown",
      "id": "3b87f1af",
      "metadata": {
        "id": "3b87f1af"
      },
      "source": [
        "shortest:0; longest: 175; i would choose length 20"
      ]
    },
    {
      "cell_type": "markdown",
      "id": "54e6cb90",
      "metadata": {
        "id": "54e6cb90"
      },
      "source": [
        "### Q2.2.3\n",
        "Let's choose overviews of length 15 words. What this means is we need to discard movies that have overviews less than 15 (there are other ways of dealing with it, but this should be fine for now) and truncate the higher ones to the first 15 words."
      ]
    },
    {
      "cell_type": "code",
      "execution_count": 11,
      "id": "70854211",
      "metadata": {
        "id": "70854211",
        "colab": {
          "base_uri": "https://localhost:8080/"
        },
        "outputId": "630a3bf4-29d7-4d65-cf3b-5a2bca492044"
      },
      "outputs": [
        {
          "output_type": "stream",
          "name": "stderr",
          "text": [
            "<ipython-input-11-b412dc8544c6>:7: SettingWithCopyWarning: \n",
            "A value is trying to be set on a copy of a slice from a DataFrame.\n",
            "Try using .loc[row_indexer,col_indexer] = value instead\n",
            "\n",
            "See the caveats in the documentation: https://pandas.pydata.org/pandas-docs/stable/user_guide/indexing.html#returning-a-view-versus-a-copy\n",
            "  df['proc_overview'] = df['proc_overview'].apply(lambda overview:' '.join(overview.split()[:token_len]))\n"
          ]
        },
        {
          "output_type": "execute_result",
          "data": {
            "text/plain": [
              "0       in the 22nd century a paraplegic marine is dis...\n",
              "1       captain barbossa long believed to be dead has ...\n",
              "2       a cryptic message from bonds past sends him on...\n",
              "3       following the death of district attorney harve...\n",
              "4       john carter is a warweary former military capt...\n",
              "                              ...                        \n",
              "4794    adam a security guard travels from california ...\n",
              "4795    el mariachi just wants to play his guitar and ...\n",
              "4797    signed sealed delivered introduces a dedicated...\n",
              "4798    when ambitious new york attorney sam is sent t...\n",
              "4799    ever since the second grade when he first saw ...\n",
              "Name: proc_overview, Length: 4707, dtype: object"
            ]
          },
          "metadata": {},
          "execution_count": 11
        }
      ],
      "source": [
        "token_len = 15 # number of words\n",
        "# only select rows where overview len is more than or equal to token_len\n",
        "df = df[df['overview_len'] >= token_len]\n",
        "\n",
        "# split each proc_overview into a list of words, select the first token_len words,\n",
        "# and add the list of words back into df[\"proc_overview\"]\n",
        "df['proc_overview'] = df['proc_overview'].apply(lambda overview:' '.join(overview.split()[:token_len]))\n",
        "# print to verify\n",
        "df['proc_overview']"
      ]
    },
    {
      "cell_type": "markdown",
      "id": "26e092dd",
      "metadata": {
        "id": "26e092dd"
      },
      "source": [
        "### Q2.2.3 Finding the vocabulary length\n",
        "\n",
        "In order to one-hot encode words, we need to find how many words there are in total, just like in the case of genres. Get all the words, remove duplicates, and sort. Find and print the length of your vocabulary."
      ]
    },
    {
      "cell_type": "code",
      "execution_count": 20,
      "id": "a71a750b",
      "metadata": {
        "id": "a71a750b",
        "colab": {
          "base_uri": "https://localhost:8080/"
        },
        "outputId": "fdda7b79-ca69-4cc6-966b-8ed4450c063e"
      },
      "outputs": [
        {
          "output_type": "stream",
          "name": "stdout",
          "text": [
            "12493 ['00', '007', '1', '10', '100', '1000', '100000', '10191', '101yearold', '10th', '10year', '10yearold', '11', '11000', '117', '118', '119', '11th', '11year', '11yearold', '12', '1200', '1214', '1215', '1250', '12hour', '12year', '12yearold', '13', '1300', '1314', '13year', '13yearold', '14', '1408', '1429', '14year', '14yearold', '15', '1520s', '1536', '15th', '15year', '15yearold', '16', '1600s', '1630s', '16th', '16yearold', '17', '1700s', '17th', '17thcentury', '17yearold', '18', '180', '1800', '1800s', '1818', '1820', '1820s', '1831', '1834', '1836', '1839', '1841', '1845', '1850', '1850s', '1856', '1862', '1863', '1870s', '1875', '1876', '1879', '1880s', '1882', '18891971', '1890', '1890s', '18month', '18th', '18thcentury', '18thwedding', '18yearold', '19', '1900', '1905', '1910', '1914', '1919', '1920', '1920s', '1921', '1924', '1925', '19261929', '1927', '1930s', '1931', '1932', '1933', '1937', '1940s', '1941', '1942', '194344', '1944', '19441945', '1945', '1946', '1947', '1949', '1950', '1950s', '1951', '1953', '1954', '1955', '1957', '1958', '1959', '1960s', '1962', '1964', '1965', '1966', '1967', '1968', '1969', '1970', '1970s', '1971', '1972', '1973', '1974', '1976', '1977', '1978', '1979', '1980', '1980s', '1980sera', '1981', '1982', '1983', '1984', '1985', '1986', '1987', '1988', '1989', '1990', '1990s', '1991', '1992', '1993', '1994', '1995', '1996', '1997', '1998', '1999', '19th', '19thcentury', '19yearold', '1st', '2', '20', '200', '2000', '20000', '2000yearold', '2001', '2002', '2003', '2004', '2004s', '2005', '2008', '2009', '2010', '2011', '2012', '2013', '2014', '2016', '2017', '2018', '2019', '2020', '2025', '2027', '2028', '2029', '2035', '2046', '2047', '2058', '2087', '20s', '20th', '20year', '20yearold', '2159', '2199', '21st', '21yearold', '2257', '22nd', '22yearold', '23', '23yearold', '24', '2455', '24hour', '24houraday', '25', '250cc', '25th', '26', '27th', '27yearold', '28', '28th', '28yearold', '298', '29yearold', '3', '30', '300', '3000', '30000', '307am', '30s', '30something', '30somethings', '30year', '30yearold', '31', '32year', '35', '38', '39', '3d', '3yearold', '4', '40', '400', '400000', '4000foot', '40s', '40yearold', '43', '48', '480', '4th', '5', '50', '500', '5000', '50000', '50ish', '50s', '50something', '50th', '51', '53', '533', '54year', '5th', '5year', '6', '60', '600', '60s', '60sera', '643pound', '66', '66yearold', '67', '6thcentury', '6yearold', '7', '70', '70s', '70yearold', '73yearold', '747', '74th', '79', '7th', '7yearold', '8', '800000', '80s', '80sfrom', '81', '84', '86yearold', '88', '8km', '8yearold', '9', '900lb', '90s', '911', '922', '93', '9foottall', '9th', '9year', 'a', 'aaa', 'aames', 'aang', 'aaron', 'aarons', 'ab', 'abaddon', 'abagnale', 'abandoned', 'abandons', 'abbas', 'abbate', 'abberline', 'abbie', 'abbott', 'abby', 'abduct', 'abducted', 'abduction', 'abductors', 'abducts', 'abernathy', 'abide', 'abilities', 'ability', 'able', 'aboard', 'abolition', 'aboriginal', 'abortion', 'abortionist', 'about', 'above', 'abraham', 'abrasive', 'abroad', 'abrupt', 'absence', 'absent', 'absolute', 'absorbs', 'abstract', 'abstraction', 'absurd', 'abuse', 'abused', 'abusive', 'academic', 'academy', 'acapulcos', 'accelerating', 'accepted', 'accepts', 'access', 'accessible', 'accessories', 'accident', 'accidental', 'accidentally', 'accidentaly', 'acclaimed', 'acclimated', 'accompanied', 'accompanies', 'accompanying', 'accomplished', 'account', 'accountant', 'accounts', 'accuse', 'accused', 'accuses', 'ace', 'achieved', 'achieves', 'achim', 'aching', 'acidwashed', 'acquire', 'acre', 'across', 'act', 'acting', 'action', 'actionadventure', 'actionpacked', 'actions', 'actionthriller', 'active', 'activist', 'activists', 'actor', 'actorcumplaywright', 'actors', 'actress', 'acts', 'actual', 'actually', 'actuary', 'ad', 'ada', 'adaline', 'adam', 'adams', 'adapation', 'adapt', 'adaptation', 'adapted', 'adapts', 'addict', 'addicted', 'addiction', 'addictions', 'additions', 'adele', 'adept', 'adib', 'aditya', 'adjani', 'adjust', 'adler', 'adm', 'administrator', 'admiral', 'admiration', 'admissions', 'admits', 'admitted', 'adolescent', 'adonis', 'adopt', 'adopted', 'adoption', 'adoptive', 'adopts', 'adorable', 'adoration', 'adoring', 'adrenaline', 'adrian', 'adriana', 'adrift', 'adulation', 'adult', 'adultery', 'adulthood', 'adults', 'advanced', 'advancement', 'advances', 'adventure', 'adventuredrama', 'adventurefilled', 'adventurer', 'adventures', 'adventurous', 'advertisement', 'advertising', 'advice', 'adviceshow', 'advocate', 'aegis', 'afar', 'affable', 'affair', 'affect', 'affected', 'affectionate', 'affections', 'afflicted', 'affluent', 'afghan', 'afghanistan', 'afoul', 'afraid', 'africa', 'african', 'africanamerican', 'africas', 'afroamerican', 'afshin', 'after', 'aftermath', 'afternoon', 'again', 'againchristian', 'against', 'age', 'aged', 'agee', 'ageing', 'agency', 'agent', 'agents', 'ages', 'aggies', 'aggression', 'aging', 'ago', 'agoraphobic', 'agree', 'agreed', 'agrees', 'agriindustry', 'ahead', 'ahkmenrah', 'ahluwalia', 'ahmad', 'aibileen', 'aid', 'aidan', 'aide', 'aided', 'aileen', 'ailing', 'aiming', 'aimless', 'aims', 'aint', 'ainu', 'air', 'airborne', 'airconditioner', 'aircraft', 'aires', 'airline', 'airmen', 'airport', 'ajami', 'ajla', 'ak', 'aka', 'akeelah', 'aki', 'al', 'alabama', 'alagaesia', 'alan', 'alaska', 'alaskan', 'alatriste', 'alba', 'albany', 'albeit', 'albert', 'alcatraz', 'alcohol', 'alcoholic', 'aldous', 'alec', 'alejandro', 'alex', 'alexander', 'alexanders', 'alexandria', 'alexia', 'alexis', 'alfie', 'alfonso', 'alfred', 'algeria', 'algerian', 'algren', 'ali', 'alice', 'alien', 'alienated', 'aliens', 'alike', 'alist', 'alive', 'all', 'allamerican', 'allan', 'allblack', 'allegation', 'allegedly', 'alleluia', 'allen', 'allens', 'allergies', 'allergyridden', 'allexpensespaid', 'allfemale', 'allgirl', 'allgirls', 'alliance', 'allied', 'allies', 'allnew', 'allnight', 'allout', 'allow', 'allowed', 'allowing', 'allows', 'allstar', 'alltoohuman', 'alluring', 'allwhite', 'ally', 'almodovar', 'almost', 'almásy', 'alone', 'along', 'alongside', 'aloof', 'aloud', 'alphas', 'alqaeda', 'already', 'also', 'altar', 'alter', 'altera', 'altered', 'alternate', 'alternative', 'alters', 'although', 'altmann', 'altmans', 'alto', 'altruistic', 'alvarez', 'alvin', 'alvy', 'always', 'alyssa', 'alzheimers', 'amacor', 'amadeo', 'amadeus', 'amalia', 'amanda', 'amaro', 'amateur', 'amazing', 'amazon', 'ambassador', 'ambassadors', 'amber', 'ambiguous', 'ambition', 'ambitions', 'ambitious', 'ambivalence', 'ambulance', 'ambush', 'ambushed', 'amelia', 'amen', 'amends', 'america', 'american', 'americanborn', 'americans', 'americas', 'amiable', 'amid', 'amidst', 'amir', 'amish', 'amistad', 'amity', 'amnesia', 'amnesic', 'amok', 'among', 'amongst', 'amoral', 'amos', 'amount', 'amp', 'amphibious', 'amsterdam', 'amusement', 'amuses', 'amusing', 'amy', 'amélie', 'an', 'ana', 'anabel', 'anakin', 'analyst', 'analytic', 'analyzing', 'anastasia', 'ancestral', 'anchorman', 'anchors', 'anchorwoman', 'ancient', 'and', 'anderson', 'andersons', 'anderton', 'andi', 'andie', 'andree', 'andrew', 'andrews', 'android', 'andré', 'andy', 'andys', 'anesthetic', 'anew', 'ang', 'angel', 'angela', 'angelas', 'angelenos', 'angeles', 'angelina', 'angels', 'anger', 'angie', 'anglican', 'angry', 'angst', 'angus', 'anil', 'animal', 'animals', 'animated', 'animation', 'ann', 'anna', 'annabelle', 'annapolis', 'annaud', 'anne', 'annie', 'annies', 'anniversary', 'announcements', 'announces', 'annual', 'anonymous', 'another', 'anothers', 'ans', 'answer', 'answered', 'answering', 'answers', 'ant', 'antarctic', 'antarctica', 'antarticas', 'ante', 'anthony', 'anthropologist', 'anthropomorphic', 'antiamerican', 'antiapartheid', 'antichrist', 'anticommunist', 'antics', 'antidote', 'antigua', 'antihero', 'antiheroine', 'antique', 'antiques', 'antitechnology', 'antiterrorism', 'antivillain', 'antiwar', 'antoinette', 'anton', 'antony', 'anxiety', 'anxious', 'any', 'anyone', 'anything', 'aokigahara', 'apart', 'apartment', 'apatosaurus', 'ape', 'apes', 'apocalypse', 'apocalyptic', 'apollo', 'appalled', 'apparent', 'apparently', 'appear', 'appearance', 'appearing', 'appears', 'appetites', 'apple', 'apples', 'appliances', 'applies', 'apply', 'appointed', 'appoints', 'apprentice', 'approach', 'approached', 'approaches', 'approaching', 'april', 'aqua', 'aquarium', 'aquatica', 'arab', 'arabian', 'arabs', 'aragorn', 'aramis', 'arboria', 'arbus', 'arbuthnot', 'arcade', 'arcel', 'arch', 'archaeological', 'archaeologist', 'archaeologists', 'archenemy', 'archer', 'archetypal', 'archetypical', 'archibald', 'architect', 'architects', 'archival', 'archnemesis', 'archrival', 'arctic', 'arduous', 'are', 'area', 'areas', 'arena', 'arendelle', 'arent', 'argentinian', 'ari', 'arising', 'aristocrat', 'aristocrats', 'arizona', 'ark', 'arkanar', 'arkin', 'arliss', 'arlo', 'armacost', 'armageddon', 'armed', 'armored', 'arms', 'armstrong', 'armwrestling', 'army', 'armys', 'arn', 'arnie', 'arnold', 'aromero', 'aron', 'aronofsky', 'around', 'arrange', 'arranged', 'arrangement', 'arranges', 'arrest', 'arrested', 'arresting', 'arrests', 'arrival', 'arrive', 'arrived', 'arrives', 'arriving', 'arrogant', 'art', 'arthur', 'article', 'artie', 'artificial', 'artist', 'artists', 'arts', 'artwork', 'as', 'asbestos', 'ascension', 'ash', 'ashburn', 'ashes', 'ashitaka', 'ashley', 'ashore', 'ashram', 'asia', 'asian', 'asianamerican', 'aside', 'ask', 'asked', 'asking', 'asks', 'asleep', 'aspects', 'aspergers', 'aspirations', 'aspiring', 'assailant', 'assange', 'assassin', 'assassinate', 'assassinated', 'assassinating', 'assassination', 'assassinforhire', 'assassins', 'assaulted', 'assaulting', 'assayas', 'assigned', 'assignment', 'assistance', 'assistant', 'associate', 'associates', 'associative', 'assortment', 'assumes', 'assuming', 'asteroid', 'astonishing', 'astoria', 'astounding', 'astro', 'astronaut', 'astronauts', 'astérix', 'asylum', 'at', 'atenton', 'athlete', 'athletes', 'athletic', 'athletics', 'athos', 'atlantic', 'atmospheric', 'atomic', 'atrisk', 'attack', 'attacked', 'attacks', 'attain', 'attempt', 'attempted', 'attempting', 'attempts', 'attend', 'attendant', 'attending', 'attends', 'attention', 'attic', 'atticus', 'attitude', 'attorney', 'attract', 'attracted', 'attracting', 'attractions', 'attractive', 'attractivebutdistant', 'attracts', 'atwater', 'au', 'auctioneer', 'audacity', 'audience', 'audiences', 'audition', 'audrey', 'august', 'augusten', 'augustines', 'augustus', 'aunt', 'aura', 'aurelius', 'auscultates', 'aussie', 'austen', 'austens', 'austin', 'australia', 'australian', 'australias', 'austrian', 'authentically', 'author', 'authoress', 'authorities', 'authority', 'autistic', 'auto', 'autobiographical', 'autobiography', 'autobots', 'autodesign', 'autoimmune', 'automatic', 'autumn', 'avaricious', 'avenge', 'avenger', 'avengers', 'average', 'averill', 'avery', 'aviation', 'aviator', 'aviv', 'avoid', 'avoided', 'avoiding', 'avowed', 'await', 'awaits', 'awake', 'awaken', 'awakened', 'awakening', 'awakens', 'awakes', 'award', 'awarded', 'awardwinning', 'awardânominee', 'aware', 'awareness', 'away', 'aweinspiring', 'awesome', 'awesomeness', 'awful', 'awkward', 'awol', 'awry', 'axel', 'ayurveda', 'azeroth', 'azmi', 'b', 'baader', 'babbitts', 'babcock', 'babe', 'babies', 'baby', 'babylon', 'babysitting', 'baca', 'bacall', 'bachelor', 'bachelorparty', 'bachelors', 'back', 'backdrop', 'background', 'backgrounds', 'backin', 'backpackers', 'backstage', 'backup', 'backwards', 'backwoods', 'backyard', 'bad', 'badboy', 'badder', 'baddest', 'badgley', 'badguy', 'badly', 'baekeland', 'bag', 'baggins', 'baghdad', 'bagman', 'bahamas', 'bahari', 'bahia', 'bail', 'bailey', 'baileygates', 'baker', 'bakshi', 'balance', 'balboa', 'balian', 'ball', 'ballard', 'ballet', 'ballroom', 'balthazar', 'baltimore', 'bambis', 'band', 'bandit', 'bandits', 'bands', 'bangkok', 'bangladessi', 'banished', 'bank', 'banker', 'banking', 'bankruptcy', 'banks', 'banky', 'banner', 'banning', 'bannon', 'banquet', 'banyan', 'baptist', 'bar', 'barbara', 'barbarian', 'barbarism', 'barber', 'barbers', 'barbershop', 'barbossa', 'barcelona', 'barely', 'bargain', 'bargained', 'bargains', 'barish', 'barkley', 'barn', 'barnabas', 'barnes', 'barney', 'barnhardt', 'baron', 'barons', 'baroque', 'barreling', 'barrels', 'barren', 'barricaded', 'barrier', 'barrington', 'barry', 'bars', 'bartlett', 'baruchel', 'base', 'baseball', 'baseballs', 'based', 'basement', 'basis', 'basket', 'basketball', 'baskin', 'bass', 'bassett', 'baster', 'bat', 'batgirl', 'bathory', 'bathtub', 'batiste', 'batman', 'bats', 'battalion', 'battered', 'batting', 'battle', 'battled', 'battlefield', 'battles', 'battling', 'bauby', 'baumbach', 'baxter', 'bay', 'bayley', 'baylor', 'baymax', 'bayou', 'baz', 'bc', 'be', 'beach', 'beaches', 'beam', 'beame', 'beams', 'bean', 'beanes', 'bear', 'beard', 'bearded', 'bears', 'beary', 'beast', 'beasts', 'beat', 'beaten', 'beatles', 'beatrice', 'beatrix', 'beats', 'beau', 'beaumont', 'beautician', 'beauties', 'beautiful', 'beautifully', 'beauty', 'beavis', 'beca', 'became', 'because', 'becca', 'beckinsale', 'beckons', 'becky', 'become', 'becomes', 'becoming', 'bed', 'bedford', 'bedfordstuyvesant', 'bedraggled', 'bedroom', 'beds', 'bedtime', 'bee', 'beekeeper', 'been', 'beethovens', 'befall', 'before', 'befriended', 'befriending', 'befriends', 'began', 'begged', 'begin', 'beginning', 'beginnings', 'begins', 'begun', 'behalf', 'behavior', 'behest', 'behind', 'behindthescenes', 'behrani', 'bein', 'being', 'beirut', 'belacqua', 'belated', 'beleaguered', 'belgium', 'belief', 'beliefs', 'believe', 'believed', 'believers', 'believes', 'believing', 'belka', 'bell', 'bella', 'bellas', 'belle', 'belles', 'bellhops', 'belong', 'belonged', 'belonging', 'beloved', 'below', 'belt', 'ben', 'bench', 'bender', 'bendrix', 'bends', 'beneath', 'benedict', 'benefit', 'bengallas', 'benioffs', 'benjamin', 'benmahmoud', 'bennell', 'bennett', 'bennetts', 'benniganslike', 'benoit', 'benson', 'bent', 'beowulf', 'bereaved', 'beret', 'berg', 'bering', 'berke', 'berlin', 'berlins', 'berman', 'bermuda', 'bernadette', 'bernstein', 'berry', 'bertram', 'best', 'bestseller', 'bestselling', 'bet', 'beth', 'bethany', 'bethel', 'bethlehem', 'betray', 'betrayal', 'betrayed', 'betrothal', 'betrothed', 'bets', 'betsey', 'bette', 'better', 'betty', 'between', 'beverly', 'beyond', 'bfg', 'bhai', 'bhamra', 'bialystock', 'bianca', 'biancas', 'bible', 'biblequoting', 'biblical', 'bicker', 'bid', 'bieber', 'biehn', 'big', 'bigalow', 'bigcity', 'bigger', 'biggest', 'bigoted', 'bigrig', 'bigscreen', 'bigtime', 'bike', 'biker', 'bikers', 'bikini', 'bilbo', 'bill', 'billboard', 'billion', 'billionaire', 'bills', 'billy', 'bin', 'binge', 'bingham', 'bink', 'bio', 'biographical', 'biography', 'biological', 'biologist', 'biologists', 'biology', 'biopic', 'biotech', 'bipolar', 'birch', 'bird', 'birdee', 'birds', 'birdwatchers', 'birnam', 'birth', 'birthday', 'bisexual', 'bishop', 'bisset', 'bisson', 'bit', 'biting', 'bitten', 'bitter', 'bittersweet', 'bizarre', 'black', 'blacklisted', 'blackmailed', 'blackmailer', 'blackops', 'blacksmith', 'blackthorne', 'blackwells', 'blade', 'blades', 'blaine', 'blake', 'blame', 'blamed', 'blanchard', 'blanche', 'bland', 'blank', 'blanket', 'blart', 'blaster', 'blaustein', 'blaze', 'blazing', 'bleak', 'bleakest', 'bledel', 'bleek', 'bleichert', 'blended', 'blending', 'blessed', 'bligh', 'blind', 'blinded', 'blindness', 'bliss', 'blissful', 'blithe', 'blixen', 'blizzard', 'block', 'blockbuster', 'blocks', 'blofeld', 'blonde', 'blood', 'bloodbath', 'bloodiest', 'bloodthirsty', 'bloody', 'bloom', 'blow', 'blower', 'blown', 'blows', 'blu', 'blue', 'bluecollar', 'blues', 'bluesman', 'bluntman', 'bly', 'bmovie', 'bmx', 'bo', 'boar', 'board', 'boarding', 'boat', 'boating', 'boatload', 'boats', 'bob', 'bobbie', 'bobby', 'bodeen', 'bodies', 'bodly', 'body', 'bodyguard', 'boeing', 'bogart', 'bogus', 'bohemian', 'boi', 'boiling', 'boisterous', 'bolen', 'bolivia', 'bollywood', 'bolt', 'bomb', 'bombardier', 'bombay', 'bomber', 'bombing', 'bombmaking', 'bombs', 'bond', 'bonds', 'bondsman', 'bonecrunching', 'bones', 'bonham', 'bonnie', 'boog', 'book', 'booked', 'bookmaker', 'books', 'boomer', 'boondocks', 'boorish', 'booted', 'booth', 'boots', 'boov', 'boozeaddled', 'boozy', 'borat', 'bord', 'bordeaux', 'border', 'bordering', 'borderlines', 'borders', 'bored', 'boredom', 'borg', 'boring', 'boris', 'borivali', 'born', 'borough', 'borrowing', 'bosnia', 'bosnian', 'boss', 'bosses', 'bosss', 'boston', 'bostons', 'boswell', 'bosworth', 'botched', 'both', 'bottle', 'bottom', 'boucher', 'bought', 'bounce', 'bounced', 'bound', 'boundaries', 'boundlessly', 'bounty', 'bourbon', 'bourne', 'bout', 'bovine', 'bowden', 'bowed', 'bowen', 'bowfinger', 'bowie', 'bowl', 'bowler', 'box', 'boxer', 'boxers', 'boxersturnedcops', 'boxing', 'boxoffice', 'boxtrolls', 'boy', 'boyd', 'boyfriend', 'boyfriends', 'boyhood', 'boys', 'boyz', 'brad', 'braddock', 'braden', 'bradshaw', 'bragging', 'brain', 'brainard', 'bram', 'brand', 'branding', 'brandon', 'brandy', 'brash', 'brass', 'brassy', 'bratty', 'brave', 'bravery', 'brawne', 'braxton', 'brazil', 'brazilian', 'brazils', 'bread', 'break', 'breakdancer', 'breakdown', 'breakfast', 'breaking', 'breaks', 'breakup', 'breast', 'breathing', 'breathless', 'breathtaking', 'bred', 'bree', 'breed', 'brendan', 'brennan', 'brent', 'breslin', 'brett', 'bretter', 'brewer', 'brewing', 'brian', 'brick', 'bridal', 'bride', 'bridesmaids', 'bridge', 'bridget', 'brief', 'briefcase', 'brigade', 'briggs', 'brigham', 'bright', 'brilliant', 'brimstone', 'bring', 'bringing', 'brings', 'brink', 'briony', 'brisset', 'bristol', 'britain', 'british', 'britishtrained', 'britt', 'broad', 'broadcast', 'broadway', 'broderick', 'brody', 'broke', 'brokeback', 'broken', 'brokenhearted', 'broker', 'brokovich', 'brolin', 'bronson', 'brontosaurus', 'bronze', 'brood', 'brooding', 'brooke', 'brooklyn', 'brooklynborn', 'brooks', 'broome', 'brosnan', 'brothel', 'brother', 'brotherhood', 'brotherinlaw', 'brothers', 'brought', 'brown', 'browns', 'brownstones', 'brownsville', 'bruce', 'bruges', 'bruno', 'brusque', 'brutal', 'brutally', 'bryan', 'bryant', 'bryce', 'bryon', 'bubba', 'buchan', 'buchenwald', 'buck', 'bucknell', 'bucks', 'bucky', 'bucum', 'bud', 'budapest', 'buddies', 'buddy', 'budget', 'buds', 'buenos', 'buff', 'buffalo', 'bug', 'bugs', 'build', 'building', 'built', 'bukater', 'bulgaria', 'bulger', 'bullet', 'bullets', 'bullied', 'bullies', 'bullock', 'bullwinkle', 'bully', 'bum', 'bumbling', 'bump', 'bumpy', 'bunch', 'bungalow', 'bungled', 'bunker', 'bunny', 'bunnys', 'buoy', 'burbank', 'bureaucrat', 'burger', 'burgerloving', 'burglar', 'burgle', 'burgundy', 'buried', 'buries', 'burke', 'burkittsville', 'burlesque', 'burma', 'burmese', 'burned', 'burnedout', 'burnett', 'burnham', 'burnout', 'burns', 'burnt', 'burntout', 'burroughs', 'burst', 'bursting', 'burt', 'burton', 'burtons', 'burts', 'bury', 'bus', 'busboy', 'bush', 'business', 'businessman', 'businesswoman', 'bust', 'bustedup', 'bustling', 'busy', 'but', 'butabi', 'butch', 'butcher', 'butchering', 'butlers', 'butt', 'butter', 'buttercup', 'butterfly', 'butthead', 'button', 'butts', 'buy', 'buyer', 'buys', 'buzz', 'buzzed', 'by', 'bylanes', 'byrnes', 'bythebook', 'bégaudeau', 'bélier', 'c', 'cab', 'cabaret', 'cabbie', 'cabbieturnedchauffeur', 'cabin', 'cable', 'cabletv', 'cache', 'caddy', 'cady', 'caesar', 'cafe', 'caffery', 'café', 'cage', 'caine', 'cairo', 'caitlin', 'caius', 'cajoling', 'cal', 'calamities', 'calamity', 'calculating', 'calden', 'cale', 'caleb', 'california', 'californiabased', 'californian', 'californians', 'californias', 'call', 'callar', 'callaway', 'callcenter', 'called', 'callie', 'calling', 'callous', 'calls', 'calorifically', 'calvin', 'calvins', 'cambodia', 'camden', 'came', 'camelot', 'camera', 'cameraman', 'cameras', 'cameron', 'cameroon', 'camille', 'caminos', 'camp', 'campaign', 'campaigns', 'campbell', 'camping', 'camps', 'campus', 'can', 'canada', 'canadian', 'canadians', 'canary', 'cancer', 'candid', 'candidate', 'candidates', 'candies', 'candy', 'candyloving', 'canine', 'cannes', 'cannibal', 'cannibalistic', 'cannister', 'cannot', 'canon', 'canonization', 'canoodle', 'cant', 'cantilini', 'canton', 'cantones', 'cao', 'caouettes', 'capable', 'capacity', 'cape', 'caper', 'capital', 'capitalism', 'capitol', 'capote', 'capotes', 'capra', 'caps', 'capsized', 'capsule', 'capt', 'captain', 'captivated', 'captivating', 'captive', 'captivity', 'captors', 'capture', 'captured', 'captures', 'capturing', 'capulets', 'car', 'card', 'care', 'career', 'careermaking', 'careers', 'careerthreatening', 'carefree', 'carefully', 'cares', 'caretaker', 'cargo', 'caribbean', 'carini', 'carl', 'carla', 'carlisle', 'carlitos', 'carlo', 'carload', 'carlton', 'carly', 'carmen', 'carmens', 'carmichael', 'carnby', 'carne', 'carnival', 'carol', 'carolina', 'caroline', 'carolla', 'carousing', 'carpenter', 'carpenters', 'carraway', 'carrey', 'carrie', 'carry', 'carrying', 'cars', 'carson', 'cartel', 'carter', 'carthage', 'cartographer', 'cartoon', 'cartoonist', 'cary', 'casablanca', 'casanova', 'case', 'cases', 'cash', 'cashflow', 'cashs', 'casino', 'casinos', 'cassady', 'cassidy', 'cassie', 'cast', 'castaway', 'castle', 'castles', 'casual', 'cat', 'cataclysmic', 'catacombs', 'catandmouse', 'catapulted', 'catastrophe', 'catches', 'catherine', 'catholic', 'catholics', 'cathy', 'cats', 'cattle', 'caught', 'caul', 'cause', 'caused', 'causerelated', 'causes', 'causing', 'cautiously', 'cavalry', 'cave', 'cavendish', 'caves', 'caving', 'cayden', 'cdc', 'cecelia', 'cecil', 'cede', 'cedric', 'celebrate', 'celebrated', 'celebrates', 'celebration', 'celebrities', 'celebrity', 'celeste', 'celestial', 'celestine', 'celie', 'celine', 'cell', 'cellmates', 'cellular', 'cemented', 'center', 'centered', 'centerfielder', 'centering', 'centers', 'central', 'centre', 'centres', 'centuries', 'centuriesold', 'century', 'ceo', 'cera', 'cereal', 'ceremony', 'certain', 'cesar', 'cg', 'chad', 'chain', 'chained', 'chair', 'challenge', 'challenged', 'challenges', 'challis', 'chamber', 'chambers', 'champ', 'champion', 'championship', 'chance', 'chanel', 'chaney', 'chang', 'change', 'changed', 'changes', 'changing', 'channel', 'channels', 'channing', 'chaos', 'chaotic', 'chaperon', 'chaplain', 'chapman', 'chappie', 'chapter', 'chapters', 'character', 'characterdriven', 'characters', 'charge', 'charged', 'charismatic', 'charity', 'charles', 'charlie', 'charlotte', 'charm', 'charming', 'charmingbandit', 'charts', 'charttopping', 'chase', 'chased', 'chases', 'chasing', 'chastity', 'chat', 'chatting', 'chauffeur', 'chavez', 'chbosky', 'cheap', 'cheat', 'cheated', 'cheating', 'cheaver', 'checks', 'cheerful', 'cheerleader', 'cheerleaders', 'cheerleading', 'cheeseloving', 'cheesy', 'cheetah', 'chef', 'chelios', 'chelsea', 'chemical', 'chemicals', 'chemist', 'chemistry', 'chenery', 'cher', 'cherie', 'chest', 'chester', 'chev', 'chevalier', 'chi', 'chicago', 'chicagos', 'chicken', 'chief', 'chiffre', 'chihuahua', 'child', 'childbirth', 'childers', 'childhood', 'childless', 'children', 'childrens', 'chile', 'chili', 'chilling', 'chiltern', 'chimpanzees', 'chimps', 'chin', 'china', 'chinas', 'chinatown', 'chinese', 'chineseamerican', 'chip', 'chipettes', 'chipmunks', 'chloe', 'chocolate', 'choderlos', 'choice', 'choices', 'choirs', 'cholera', 'chon', 'choose', 'chooses', 'choosing', 'chopra', 'choreographer', 'chosen', 'chris', 'chrissie', 'christ', 'christian', 'christians', 'christina', 'christinas', 'christine', 'christmas', 'christopher', 'chronciling', 'chronic', 'chronicle', 'chronicled', 'chronicles', 'chronicling', 'chronological', 'chuck', 'chuckie', 'chuckies', 'chucky', 'chums', 'chumscrubber', 'chunk', 'chunli', 'church', 'churchs', 'churning', 'cia', 'cias', 'cidade', 'cigarsmoking', 'cinderhella', 'cindy', 'cinema', 'cinemas', 'circle', 'circles', 'circumstances', 'circus', 'cirque', 'cities', 'citizens', 'citron', 'city', 'citys', 'civil', 'civilian', 'civilization', 'claim', 'claimed', 'claims', 'clair', 'claire', 'claireece', 'clan', 'clandestine', 'clans', 'clare', 'clarence', 'clarice', 'clarinetplaying', 'clarity', 'clark', 'clary', 'clash', 'clasky', 'class', 'classes', 'classic', 'classical', 'classics', 'classified', 'classmate', 'classmates', 'classroom', 'claude', 'claudia', 'claudio', 'claudios', 'claus', 'claustrophobic', 'clavel', 'clay', 'clayton', 'clean', 'cleaner', 'cleaning', 'clear', 'clef', 'cleopatrathe', 'clerk', 'clerks', 'cleveland', 'clever', 'client', 'clientele', 'clients', 'cliff', 'clifford', 'climate', 'climb', 'climber', 'climbing', 'climes', 'clinically', 'clint', 'clintons', 'clique', 'clive', 'cloak', 'clobbered', 'clock', 'clocks', 'clone', 'cloned', 'cloning', 'clooney', 'close', 'closed', 'closeknit', 'closely', 'closer', 'closet', 'closure', 'cloud', 'clouds', 'cloughs', 'clouseau', 'clowing', 'clown', 'clownfish', 'club', 'clubs', 'clue', 'clueless', 'clues', 'clumsy', 'clutches', 'clydie', 'cmdr', 'cnn', 'cnote', 'coach', 'coaches', 'coaching', 'coal', 'coast', 'coastal', 'coaster', 'coati', 'coaxed', 'cobb', 'cocaine', 'cocky', 'coco', 'coconspirator', 'coconut', 'cocounsel', 'cod', 'code', 'coder', 'cody', 'codys', 'coed', 'coeds', 'coerces', 'cofounding', 'cogan', 'cohabitating', 'cohen', 'cohost', 'coincidentally', 'coincides', 'coke', 'col', 'cold', 'cole', 'colee', 'colin', 'collaborated', 'collage', 'collages', 'collapse', 'collapsed', 'colleague', 'colleagues', 'collect', 'collection', 'collective', 'collector', 'collectors', 'college', 'collegeage', 'colleges', 'collegescholarship', 'collide', 'colliding', 'collier', 'collins', 'collision', 'colombia', 'colombian', 'colonel', 'colonies', 'colony', 'color', 'colorado', 'colorful', 'colossal', 'colpin', 'colter', 'columbia', 'columbus', 'columnist', 'coma', 'comalike', 'comatose', 'combat', 'combination', 'combine', 'combined', 'combines', 'combustible', 'come', 'comedian', 'comedianactor', 'comedic', 'comedies', 'comedy', 'comedydrama', 'comes', 'comet', 'comfortable', 'comforts', 'comic', 'comically', 'comicbook', 'comics', 'comicsinspired', 'comicstrip', 'coming', 'comingofage', 'command', 'commander', 'commanding', 'commando', 'commandos', 'commemorate', 'comment', 'commentatorcomic', 'commerce', 'commercial', 'commerciality', 'commercials', 'commit', 'commitmentphobic', 'commits', 'committed', 'committee', 'committing', 'commodity', 'common', 'commonality', 'commonly', 'commonplace', 'communicate', 'communicates', 'communication', 'communist', 'community', 'companion', 'companions', 'companionship', 'company', 'compassionate', 'compelled', 'compete', 'competently', 'competes', 'competing', 'competition', 'competitive', 'competitors', 'compilation', 'compiles', 'complains', 'complete', 'completed', 'completely', 'completing', 'complex', 'complicated', 'complications', 'compose', 'composed', 'composer', 'composing', 'compound', 'compromised', 'compromising', 'compton', 'compulsive', 'compulsively', 'computer', 'comradesto', 'con', 'conan', 'conartist', 'concept', 'concerning', 'concerns', 'concert', 'concierge', 'conclusion', 'concoct', 'concoction', 'concocts', 'condition', 'conditions', 'condo', 'conduct', 'conducted', 'conductors', 'conducts', 'coney', 'confederacy', 'confederate', 'conference', 'confesses', 'confidence', 'confident', 'confined', 'confinement', 'confirmation', 'confiscating', 'confluence', 'confront', 'confrontations', 'confronted', 'confronts', 'confused', 'conglomerate', 'congo', 'congressional', 'congressman', 'conjoined', 'conlon', 'conman', 'conmen', 'connect', 'connected', 'connecticut', 'connection', 'connects', 'conned', 'conner', 'connery', 'connie', 'connor', 'connors', 'conquer', 'conquering', 'conquest', 'conrad', 'cons', 'conscience', 'consequences', 'conservationist', 'conservative', 'considers', 'conspiracy', 'conspire', 'constant', 'constantly', 'constellations', 'constrained', 'construct', 'construction', 'constructor', 'consulting', 'consumed', 'consumer', 'consuming', 'contact', 'contacted', 'contacting', 'contacts', 'contain', 'contained', 'containing', 'contaminated', 'contemplates', 'contemporary', 'contemptuous', 'contends', 'content', 'contentious', 'contents', 'contest', 'contestant', 'contestants', 'context', 'continent', 'contini', 'continuation', 'continue', 'continued', 'continues', 'continuing', 'contract', 'contractor', 'contractors', 'contrast', 'contribution', 'control', 'controller', 'controllers', 'controls', 'controversial', 'convenience', 'convent', 'convention', 'conventional', 'converge', 'conversation', 'conversations', 'convict', 'convicted', 'conviction', 'convicts', 'convince', 'convinced', 'convinces', 'conwoman', 'coogan', 'cook', 'cool', 'cooley', 'coolsville', 'coop', 'cooper', 'cooperate', 'cooperates', 'cooverman', 'cop', 'cope', 'copeland', 'copes', 'copilot', 'copperbottom', 'cops', 'copturnedcriminal', 'copy', 'coral', 'coraline', 'core', 'coriolanus', 'corky', 'corleone', 'corner', 'coro', 'coronation', 'corp', 'corporate', 'corporation', 'corporations', 'corps', 'corpses', 'corpsman', 'corrupt', 'corruption', 'cortez', 'cortner', 'corvin', 'cosmos', 'cost', 'costumed', 'cottage', 'cotton', 'could', 'couldnt', 'counseling', 'counselor', 'count', 'counter', 'counterpart', 'counterparts', 'counterterrorism', 'countess', 'countless', 'country', 'countrys', 'countryside', 'countrywide', 'county', 'coup', 'couple', 'couples', 'courage', 'courageous', 'courier', 'course', 'court', 'courtesan', 'courtier', 'courts', 'cousin', 'cousins', 'cover', 'covered', 'covering', 'covert', 'coveted', 'cowan', 'cowardly', 'cowboy', 'cowboys', 'cowboyturnedgambler', 'coworkers', 'cox', 'coyote', 'crack', 'crackcocaine', 'cracked', 'crackers', 'cracks', 'craddock', 'cradle', 'craft', 'crafted', 'craig', 'crane', 'cranes', 'cranky', 'crash', 'crashed', 'crashes', 'crashlanding', 'crashlands', 'crate', 'crates', 'craven', 'cravens', 'craves', 'craving', 'crawford', 'crawl', 'crazy', 'cream', 'creasy', 'create', 'created', 'creates', 'creating', 'creation', 'creations', 'creative', 'creatively', 'creator', 'creators', 'creature', 'creatures', 'credit', 'creed', 'creeds', 'creek', 'creepy', 'crew', 'crewe', 'crews', 'crime', 'crimedramaneonoir', 'crimefighting', 'crimelord', 'crimes', 'criminal', 'criminals', 'crippled', 'crippling', 'crisis', 'cristeros', 'critically', 'criticism', 'critters', 'crocodile', 'croft', 'croker', 'cronauer', 'cronin', 'croods', 'crook', 'crooked', 'crop', 'cross', 'crosscountry', 'crosscuts', 'crosses', 'crossfire', 'crossover', 'crossroads', 'crossword', 'crotchety', 'crowd', 'crowded', 'crowds', 'crowley', 'crown', 'crucial', 'crucifixion', 'cruel', 'cruelly', 'cruelty', 'cruise', 'cruising', 'crumbles', 'crumbling', 'crusade', 'crusaders', 'crusading', 'crush', 'crushed', 'cruz', 'crying', 'cryostasis', 'cryptanalyst', 'cryptic', 'crystal', 'crystalmeth', 'cs', 'cthulhu', 'cuaron', 'cub', 'cuba', 'cuban', 'cube', 'cubs', 'cucumber', 'cuesta', 'cullens', 'cult', 'cultivated', 'cults', 'cultural', 'culture', 'culver', 'cummings', 'cunning', 'cup', 'cupboard', 'cupid', 'curator', 'cure', 'curiosity', 'curious', 'curling', 'curly', 'curmudgeon', 'curmudgeonly', 'current', 'currie', 'curse', 'cursed', 'curtis', 'curve', 'cusack', 'cusp', 'custer', 'custody', 'custom', 'customer', 'customers', 'cut', 'cute', 'cuthbert', 'cuts', 'cutthroat', 'cw', 'cyberbuddy', 'cyberhacker', 'cyborg', 'cyborgs', 'cyclist', 'cyclone', 'cydney', 'cynical', 'cynically', 'cyruss', 'czar', 'czech', 'd', 'dabbawallahs', 'dad', 'dads', 'dadturneddog', 'daedalus', 'daffy', 'dafoe', 'dagenham', 'dagger', 'dahlia', 'daily', 'dairy', 'daisy', 'dalai', 'dale', 'daley', 'dallas', 'dalton', 'dam', 'damage', 'damien', 'damme', 'damodar', 'damon', 'dan', 'dana', 'dance', 'dancefight', 'dancer', 'dancers', 'dancing', 'dandies', 'dane', 'danger', 'dangerous', 'dangerously', 'daniel', 'danielle', 'daniels', 'danijel', 'danish', 'danny', 'danson', 'dante', 'dantes', 'dantéss', 'daphne', 'dar', 'darcy', 'daredevil', 'darin', 'daring', 'darius', 'dark', 'darkly', 'darkness', 'darkroom', 'darlene', 'darling', 'darlings', 'darnell', 'darren', 'darryl', 'dart', 'dartagnan', 'darwin', 'daryl', 'dashing', 'dashwood', 'dastardly', 'date', 'dated', 'dater', 'dates', 'dating', 'daughter', 'daughterinlaw', 'daughters', 'dave', 'davey', 'david', 'davidson', 'davidsons', 'davis', 'dawn', 'dawson', 'day', 'daydream', 'daydreams', 'days', 'daytime', 'daytoday', 'dc', 'de', 'dea', 'deacon', 'dead', 'deadbeat', 'deadend', 'deadheadturnedborn', 'deadliest', 'deadline', 'deadly', 'deadpool', 'deaf', 'deakins', 'deal', 'dealer', 'dealers', 'dealing', 'dealings', 'dealmaker', 'deals', 'dean', 'deanna', 'dear', 'dearly', 'death', 'deathroll', 'deaths', 'deathsquad', 'debate', 'debates', 'debaucherous', 'debauchery', 'debbie', 'debilitating', 'debonair', 'deborah', 'debt', 'debunking', 'debut', 'debutant', 'debutante', 'decade', 'decadelong', 'decadent', 'decades', 'decameron', 'deceased', 'deceit', 'december', 'deception', 'deceptively', 'decide', 'decided', 'decides', 'deciding', 'decision', 'decisions', 'decisive', 'deckard', 'declared', 'decline', 'declines', 'declining', 'decommissioned', 'decorated', 'decorates', 'decorum', 'dedham', 'dedhams', 'dedicated', 'dedicates', 'dedication', 'deeds', 'deena', 'deep', 'deeply', 'deepthinking', 'deewani', 'default', 'defeat', 'defeated', 'defeating', 'defeats', 'defects', 'defend', 'defended', 'defends', 'defense', 'defiant', 'defies', 'define', 'definitely', 'deflower', 'deformed', 'defy', 'defying', 'deke', 'del', 'delacroix', 'delano', 'deliberately', 'delicately', 'delight', 'delightful', 'delilah', 'delinquents', 'deliver', 'delivered', 'deliveries', 'delivering', 'delivers', 'delivery', 'deliverymen', 'delmonico', 'delta', 'deluge', 'deluise', 'delve', 'delves', 'demand', 'demanding', 'demarco', 'demented', 'dementia', 'demigod', 'demise', 'democracy', 'democratic', 'demolished', 'demon', 'demonic', 'demonized', 'demons', 'demonstrates', 'demoted', 'denied', 'denis', 'denise', 'denizens', 'denmark', 'dennie', 'dennis', 'dense', 'dent', 'dental', 'dentist', 'dents', 'denying', 'denzel', 'depardieu', 'depart', 'departments', 'departure', 'dependent', 'depends', 'depicted', 'depicting', 'depiction', 'depicts', 'deplorable', 'deploys', 'deported', 'deposited', 'depp', 'depressed', 'depression', 'depressionera', 'depths', 'deputies', 'deputy', 'der', 'deranged', 'derek', 'derived', 'derrick', 'descend', 'descendant', 'descendants', 'descended', 'descent', 'described', 'describes', 'desert', 'deserted', 'deserves', 'design', 'designed', 'designer', 'desirable', 'desire', 'desired', 'desires', 'desolate', 'desolation', 'desperado', 'desperate', 'desperately', 'despicable', 'despised', 'despite', 'despondent', 'destined', 'destinies', 'destino', 'destiny', 'destroy', 'destroyed', 'destroying', 'destroys', 'destruction', 'destructive', 'detail', 'detailing', 'detamble', 'detective', 'detectives', 'detention', 'deteriorated', 'determined', 'determines', 'detests', 'detour', 'detroit', 'deuce', 'deus', 'dev', 'devastate', 'devastated', 'devastates', 'develop', 'developed', 'developer', 'developers', 'developing', 'development', 'develops', 'deveraux', 'devi', 'device', 'devices', 'devil', 'devils', 'devises', 'devito', 'devonshire', 'devoted', 'devotion', 'devoured', 'devout', 'dewey', 'dewitt', 'dex', 'dexter', 'dhampir', 'diablo', 'diabolical', 'diagnosed', 'dialogue', 'diamond', 'diamonds', 'diana', 'diane', 'dias', 'diaz', 'dick', 'dickens', 'dickie', 'dicky', 'dictator', 'did', 'didnt', 'die', 'dieckmann', 'died', 'diego', 'diegos', 'diehard', 'dies', 'diesel', 'diet', 'dieter', 'differences', 'different', 'differering', 'differing', 'difficult', 'difficulties', 'difficulty', 'digestive', 'digger', 'digging', 'diggs', 'digs', 'dil', 'dillingers', 'dillon', 'dimarco', 'dimas', 'dimwits', 'dimwitted', 'dina', 'dinah', 'diner', 'dingan', 'dinner', 'dinners', 'dinorscio', 'dinosaur', 'dinosaurs', 'dip', 'diplomat', 'diplomats', 'dire', 'direct', 'directed', 'direction', 'directionless', 'directions', 'director', 'directorial', 'directors', 'directorscreenwriter', 'dirt', 'dirty', 'disability', 'disabled', 'disadvantaged', 'disappearance', 'disappeared', 'disappearing', 'disappears', 'disappointments', 'disappoints', 'disaster', 'disasters', 'disastrous', 'disc', 'discharged', 'discount', 'discouraged', 'discover', 'discovered', 'discovering', 'discovers', 'discovery', 'discredited', 'discuss', 'discusses', 'disease', 'diseased', 'disenchanted', 'disfigured', 'disgraced', 'disgruntled', 'disguises', 'disguisey', 'disillusioned', 'disintegration', 'dislike', 'disney', 'disneys', 'disorder', 'disorganized', 'disoriented', 'disparate', 'dispatched', 'dispenses', 'display', 'disposing', 'disproportionate', 'dispute', 'disqualified', 'disrupted', 'disrupting', 'disruptive', 'distant', 'distinguished', 'distraught', 'distress', 'distribute', 'district', 'disturbed', 'disturbing', 'ditch', 'ditsy', 'diva', 'divas', 'dive', 'divers', 'diversions', 'diverting', 'divided', 'divine', 'diving', 'division', 'divisions', 'divoce', 'divorce', 'divorced', 'divorces', 'dizzy', 'dizzying', 'dm', 'dna', 'do', 'doback', 'doc', 'dockworker', 'doctor', 'doctoral', 'documentarian', 'documentary', 'documented', 'documenting', 'documents', 'dodd', 'dodge', 'does', 'doesnt', 'dog', 'dogs', 'dogtown', 'dogville', 'doherty', 'doing', 'doling', 'dolittle', 'doll', 'dollar', 'dollars', 'dolly', 'dolphin', 'dom', 'dome', 'domenic', 'domestic', 'domesticated', 'dominance', 'domination', 'dominatrixes', 'domineering', 'dominican', 'dominion', 'don', 'donaghy', 'donald', 'donate', 'donations', 'donato', 'dondup', 'done', 'donggun', 'donkey', 'donnas', 'donny', 'donovan', 'dont', 'doogal', 'doomed', 'door', 'doorman', 'doormat', 'doors', 'doorstep', 'dor', 'dora', 'dorado', 'dorff', 'dorian', 'doright', 'dork', 'dormant', 'dorothy', 'dorsey', 'dot', 'doting', 'dottie', 'double', 'doublecross', 'doublecrossed', 'doubting', 'doug', 'douglas', 'dovers', 'down', 'downanddirty', 'downandout', 'downed', 'downers', 'downhill', 'downonhis', 'downonhisluck', 'downright', 'downs', 'downspiral', 'downstairs', 'downtown', 'downtrodden', 'downward', 'doyle', 'dozen', 'dr', 'dracula', 'draft', 'dragon', 'dragons', 'drags', 'drake', 'drama', 'dramadocumentary', 'dramatic', 'dramatisation', 'dramatised', 'dramatization', 'drastic', 'draven', 'drawback', 'drawing', 'drawn', 'draws', 'dray', 'dre', 'dreadful', 'dream', 'dreamdemon', 'dreamed', 'dreaming', 'dreams', 'dreamz', 'drebin', 'dress', 'dressed', 'dresses', 'drevenhaven', 'drew', 'drifter', 'drifting', 'drill', 'drilling', 'drina', 'drink', 'drinkfueled', 'drinking', 'drinks', 'driscoll', 'drive', 'driven', 'driver', 'driverprivate', 'drivers', 'drives', 'driving', 'drone', 'drop', 'dropdead', 'dropout', 'dropped', 'dropping', 'drops', 'drought', 'drowning', 'drowns', 'drug', 'drugaddicted', 'drugaddled', 'drugdealing', 'drugfueled', 'drugged', 'drugop', 'drugs', 'drugtaking', 'drummer', 'drunk', 'drunken', 'dry', 'drying', 'du', 'dual', 'duarte', 'dubbed', 'dubois', 'dubstep', 'duchannes', 'duchess', 'duchovny', 'duck', 'duckling', 'dude', 'dudley', 'due', 'duets', 'duffy', 'dug', 'duke', 'dumas', 'dumb', 'dump', 'dumped', 'dumps', 'dun', 'dunbar', 'duncan', 'dunce', 'dundee', 'dunn', 'dunne', 'dunphy', 'dunson', 'duo', 'duplicate', 'dupree', 'duran', 'during', 'duritz', 'dust', 'dustin', 'dustins', 'dusty', 'dutch', 'dutcher', 'duty', 'dux', 'dwarf', 'dwarfism', 'dwarfs', 'dwarves', 'dwayne', 'dyer', 'dying', 'dylan', 'dynamic', 'dynamics', 'dynasty', 'dysfunctional', 'dystopian', 'déjà', 'dété', 'dítě', 'e', 'each', 'eager', 'eagerly', 'eagle', 'earl', 'earlier', 'early', 'earn', 'earned', 'earnshaws', 'earp', 'ears', 'earth', 'earthquake', 'earths', 'easily', 'east', 'easter', 'eastern', 'eastside', 'eastwestgermany', 'eastwood', 'easy', 'eaten', 'eating', 'eaton', 'eavesdropping', 'eavesdrops', 'eb', 'ebenezer', 'ec', 'eccentric', 'ecks', 'ecological', 'economic', 'economically', 'economicallydepressed', 'economy', 'ecosystems', 'ed', 'eddie', 'eddy', 'eden', 'edgar', 'edge', 'edie', 'edinburgh', 'edit', 'editor', 'editors', 'edmond', 'edmund', 'edridge', 'eduardo', 'educated', 'education', 'edward', 'edwardes', 'edwardian', 'edwards', 'eerie', 'eeyore', 'effect', 'efficient', 'effie', 'effort', 'effortlessly', 'efforts', 'efron', 'egg', 'eggs', 'ego', 'egos', 'egotistical', 'egypt', 'egyptian', 'egyptologist', 'eight', 'eighteen', 'eighteenth', 'eighteenthdynasty', 'eighties', 'eightyearold', 'einar', 'eisenberg', 'eisenheim', 'either', 'eke', 'el', 'elaborate', 'elapsed', 'elba', 'elderly', 'elected', 'election', 'elections', 'electric', 'electricity', 'electrifying', 'electronic', 'electronics', 'elegant', 'elektra', 'element', 'elementary', 'elements', 'elephants', 'elevator', 'eleven', 'elevenyearold', 'elf', 'eligible', 'eliminates', 'elimination', 'elite', 'elitesworking', 'eliza', 'elizabeth', 'elizabeths', 'ella', 'elle', 'ellen', 'ellie', 'ellies', 'elling', 'elliot', 'elliott', 'ellis', 'elm', 'elmo', 'elsa', 'elsas', 'else', 'elsie', 'eluded', 'elusive', 'elves', 'elvis', 'elwood', 'em', 'email', 'embark', 'embarked', 'embarking', 'embarks', 'embarrassments', 'embassy', 'ember', 'embezzles', 'embittered', 'embraced', 'embroiled', 'emerge', 'emerged', 'emergency', 'emerges', 'emerging', 'emigration', 'emil', 'emile', 'emily', 'eminent', 'emma', 'emmywinning', 'emory', 'emotion', 'emotional', 'emotionally', 'emotionallybeaten', 'emotive', 'emperor', 'emperors', 'empire', 'employ', 'employed', 'employee', 'employees', 'employer', 'employers', 'employs', 'empty', 'emptynester', 'en', 'enabling', 'enamored', 'encased', 'enchanting', 'enchantingly', 'enchantress', 'encoded', 'encounter', 'encounters', 'encouraged', 'encourages', 'encryption', 'encyclopedia', 'end', 'endear', 'ended', 'enders', 'ending', 'endless', 'endlessly', 'ends', 'enduring', 'enemies', 'enemy', 'energy', 'enforced', 'enforcement', 'enforcer', 'enforcing', 'engaged', 'engagement', 'engages', 'engineer', 'england', 'englands', 'english', 'englishlanguage', 'englishman', 'engraved', 'enhance', 'enigmatic', 'enjoy', 'enjoyed', 'enjoying', 'enlarged', 'enlist', 'enlisted', 'enlisting', 'enlists', 'enormous', 'enough', 'enraged', 'enroll', 'enrolled', 'enrolling', 'enrolls', 'enronesque', 'ensconced', 'ensemble', 'enslaved', 'ensues', 'ensure', 'ensuring', 'entangled', 'enter', 'entered', 'entering', 'enterprise', 'enterprised', 'enterprising', 'enters', 'entertainer', 'entertainers', 'entertains', 'entertainthekidsnomatterhowboringitis', 'enthusiasm', 'enthusiast', 'enthusiastic', 'enthusiasts', 'entices', 'entire', 'entirely', 'entitled', 'entity', 'entourage', 'entranced', 'entrapment', 'entrepreneur', 'entrepreneurs', 'entwined', 'envelope', 'envelops', 'environment', 'environmental', 'environmentalist', 'envy', 'epic', 'epidemic', 'epileptic', 'episcopal', 'episode', 'episodes', 'epochmaking', 'eponymous', 'epoque', 'epps', 'equal', 'equalizer', 'equally', 'equivocados', 'era', 'eradicating', 'erase', 'erases', 'erect', 'eric', 'erica', 'erik', 'erikson', 'erin', 'eris', 'ernest', 'ernst', 'ernswiler', 'eroding', 'erotic', 'eroticism', 'errand', 'errands', 'errol', 'error', 'erstwhile', 'erupt', 'erupts', 'escadrille', 'escape', 'escaped', 'escapes', 'escaping', 'escobar', 'escobars', 'escort', 'escorting', 'especially', 'espionage', 'esposito', 'esque', 'essence', 'essentially', 'essex', 'establish', 'established', 'establishes', 'establishment', 'estate', 'esther', 'estranged', 'estrangement', 'et', 'eternal', 'eternally', 'ethan', 'ethel', 'ethical', 'ethically', 'ethics', 'etienne', 'etta', 'ettas', 'eugenics', 'eugène', 'europe', 'european', 'eustace', 'eva', 'evan', 'evangelical', 'evangelion', 'evangelist', 'evangelistic', 'evans', 'eve', 'evelyn', 'even', 'evening', 'event', 'events', 'eventual', 'ever', 'everdeen', 'everett', 'everglades', 'evers', 'every', 'everybody', 'everyday', 'everyman', 'everyone', 'everything', 'everywhere', 'evict', 'evicted', 'eviction', 'evidence', 'evil', 'evildoers', 'evita', 'evokes', 'evolution', 'evolved', 'evolves', 'evp', 'ex', 'exact', 'exactly', 'exacts', 'exam', 'examination', 'examines', 'examining', 'exarmy', 'exasperated', 'exboer', 'exboss', 'exboyfriend', 'exceedingly', 'except', 'exception', 'exceptionally', 'exchamp', 'exchange', 'exchanges', 'exchanging', 'exchurch', 'excia', 'excitement', 'exciting', 'exclusive', 'excon', 'exconvict', 'excop', 'excursion', 'excuse', 'exec', 'executed', 'executive', 'executives', 'executivesone', 'exengland', 'exert', 'exfederale', 'exfiltration', 'exfootball', 'exgangster', 'exgirlfriend', 'exgovernment', 'exhibit', 'exhibition', 'exhigh', 'exhilarating', 'exile', 'exiled', 'exist', 'existed', 'existence', 'exists', 'exmarine', 'exmercenary', 'exminor', 'exodus', 'exonerate', 'exorcised', 'exorcism', 'exorcisms', 'exotic', 'exotica', 'expanse', 'expat', 'expatriate', 'expect', 'expectant', 'expectations', 'expected', 'expects', 'expedition', 'expel', 'expelled', 'expendables', 'experience', 'experienced', 'experiences', 'experiencing', 'experiment', 'experimentation', 'experimenting', 'expert', 'experts', 'explain', 'explains', 'explicit', 'explode', 'explodes', 'exploits', 'exploration', 'explore', 'explorer', 'explorers', 'explores', 'exploring', 'explosive', 'expo', 'expose', 'exposed', 'exposer', 'exposes', 'exposure', 'exposé', 'express', 'exserviceman', 'exspecial', 'exstripper', 'extension', 'exthug', 'extra', 'extracts', 'extraordinaire', 'extraordinary', 'extraterrestrial', 'extravaganza', 'extraverted', 'extreme', 'extremely', 'extv', 'exultance', 'exwife', 'exwives', 'eye', 'eyecatching', 'eyes', 'eyesight', 'ezra', 'f', 'fabbrizios', 'fable', 'fabled', 'fabulous', 'face', 'facebook', 'faced', 'faces', 'facetoface', 'facility', 'facing', 'fact', 'factbased', 'faction', 'factions', 'factory', 'facts', 'fading', 'fadlan', 'fail', 'failed', 'failing', 'fails', 'failure', 'faints', 'fair', 'fairbanks', 'fairfax', 'fairlane', 'fairly', 'fairy', 'fairytale', 'faison', 'faith', 'faithful', 'fake', 'falk', 'fall', 'fallen', 'falling', 'falls', 'falsely', 'fame', 'famed', 'familial', 'familiar', 'families', 'family', 'familys', 'famous', 'famously', 'fan', 'fanatic', 'fanatical', 'fancies', 'fancy', 'fanny', 'fans', 'fantasia', 'fantasies', 'fantasises', 'fantasizing', 'fantastic', 'fantastical', 'fantasy', 'far', 'faraway', 'farce', 'fares', 'farewell', 'faris', 'farm', 'farmer', 'farmhand', 'faroff', 'farr', 'farraday', 'farrow', 'fascinated', 'fascist', 'fashion', 'fashionably', 'fast', 'faster', 'fastest', 'fastfood', 'fastforward', 'fastpaced', 'fasttalking', 'fat', 'fatal', 'fatalistic', 'fatally', 'fate', 'fateful', 'fates', 'father', 'fathered', 'fathers', 'fathoms', 'fatone', 'fauna', 'faurschouhviid', 'faustian', 'favorite', 'fbi', 'fbis', 'fdr', 'fear', 'fearing', 'fearless', 'fears', 'fearsome', 'feature', 'features', 'featuring', 'feckless', 'fed', 'federal', 'federation', 'fedex', 'feds', 'feeds', 'feel', 'feelgood', 'feeling', 'feelings', 'feels', 'feet', 'feffer', 'feihong', 'felice', 'feline', 'felix', 'fell', 'fellow', 'fellowship', 'felon', 'felson', 'felt', 'female', 'females', 'feminist', 'fence', 'fend', 'fenderbender', 'feng', 'fergus', 'ferguson', 'fergusons', 'fermanagh', 'ferocious', 'feroz', 'ferrell', 'ferrier', 'ferro', 'fertility', 'fester', 'festival', 'feud', 'feudal', 'feuding', 'few', 'fiance', 'fiancee', 'fiancé', 'fiancée', 'fiasco', 'fiction', 'fictional', 'fictionalised', 'fictionalized', 'fidgety', 'fiedlers', 'field', 'fielder', 'fields', 'fierce', 'fiery', 'fifteen', 'fifteenyear', 'fifth', 'fifty', 'fight', 'fighter', 'fighters', 'fighting', 'fights', 'figure', 'figures', 'files', 'filing', 'fill', 'filled', 'filling', 'filly', 'film', 'filmed', 'filming', 'filmmaker', 'filmmakers', 'filmmaking', 'films', 'filmschool', 'finagles', 'final', 'finale', 'finalizes', 'finally', 'finance', 'financed', 'finances', 'financial', 'financially', 'find', 'finding', 'finds', 'fine', 'finer', 'finish', 'finished', 'finishes', 'finn', 'finnegan', 'fiona', 'fionas', 'fiore', 'fiorina', 'fire', 'firebreathers', 'fired', 'firefighter', 'firefighters', 'firefly', 'firefox', 'firestorm', 'firm', 'firmly', 'firms', 'first', 'firstgrade', 'firth', 'fish', 'fishandchip', 'fishburne', 'fisher', 'fisherman', 'fishing', 'fishman', 'fishoutofwater', 'fissure', 'fit', 'fitness', 'fits', 'fitting', 'fitzgerald', 'fitzgeralds', 'five', 'fix', 'fixation', 'fixer', 'fixit', 'fiza', 'fizas', 'flag', 'flair', 'flamboyantly', 'flame', 'flash', 'flashback', 'flasher', 'flavor', 'fledgling', 'flee', 'fleeing', 'flees', 'flesh', 'fletcher', 'flicks', 'flies', 'flight', 'flightless', 'flik', 'fling', 'flings', 'flint', 'flintstones', 'flirt', 'floating', 'flood', 'flop', 'flor', 'flora', 'florence', 'florida', 'flourished', 'flourishing', 'flower', 'flown', 'floyd', 'fluff', 'flunky', 'flushed', 'fly', 'flying', 'flynn', 'focker', 'fockers', 'focus', 'focused', 'focuses', 'foil', 'folds', 'foley', 'folk', 'folklore', 'folks', 'follow', 'followed', 'follower', 'following', 'follows', 'followup', 'folman', 'fondness', 'food', 'foolish', 'fools', 'footage', 'football', 'footloose', 'for', 'forbidden', 'force', 'forced', 'forceful', 'forces', 'ford', 'fordy', 'foreign', 'foreman', 'foremost', 'forensic', 'foresee', 'forest', 'forever', 'forge', 'forget', 'forgiveness', 'forks', 'form', 'formans', 'formation', 'formed', 'former', 'formerly', 'formidable', 'forming', 'forms', 'formula', 'forrest', 'forsakes', 'forster', 'forsters', 'forsyth', 'fort', 'forte', 'forties', 'fortunately', 'fortune', 'fortuneteller', 'forty', 'forward', 'foshan', 'fosses', 'foster', 'fought', 'found', 'founded', 'founder', 'foundling', 'foundry', 'fountain', 'four', 'fourinchtall', 'fourteen', 'fourteenyearold', 'fourth', 'fourthgeneration', 'fouryear', 'fox', 'frake', 'frame', 'framed', 'france', 'frances', 'francesca', 'franchise', 'franchises', 'francis', 'francisco', 'franciscos', 'franco', 'francos', 'frank', 'frankenstein', 'frankensteins', 'frankie', 'franklin', 'franny', 'fransisco', 'frantic', 'frantically', 'françois', 'fraser', 'frat', 'fraternity', 'fraud', 'fray', 'frazier', 'freak', 'freakshow', 'fred', 'freddie', 'freddy', 'freddys', 'frederic', 'frederick', 'fredricksen', 'free', 'freed', 'freedom', 'freelance', 'freeling', 'freeman', 'freespirited', 'freeway', 'freewheelin', 'freewheeling', 'freezing', 'french', 'frenemies', 'frenzy', 'frequented', 'fresh', 'freshman', 'friar', 'frida', 'frieda', 'friend', 'friendly', 'friends', 'friendsfledgling', 'friendship', 'frightening', 'frodo', 'frog', 'frollo', 'from', 'front', 'frontal', 'frontier', 'frontiers', 'frontiersman', 'frontman', 'frontwomen', 'frozen', 'fruitless', 'frustrated', 'frustration', 'frustrations', 'fu', 'fueling', 'fuels', 'fuentes', 'fugitive', 'fugitives', 'fulfill', 'fulfilled', 'fulfilling', 'full', 'fullcontact', 'fuller', 'fulltime', 'fully', 'fun', 'functioning', 'fund', 'fundraiser', 'funds', 'funeral', 'funloving', 'funn', 'funny', 'funnyman', 'furious', 'furlong', 'furrowing', 'further', 'furthest', 'fury', 'fuse', 'futility', 'futterman', 'future', 'futuristic', 'fuzzy', 'fw', 'g', 'gabe', 'gabita', 'gabriel', 'gabriela', 'gabriella', 'gabrielle', 'gadgets', 'gail', 'gain', 'gained', 'gaines', 'gal', 'galactic', 'galaxina', 'galaxy', 'galen', 'gallagher', 'gallantly', 'galleon', 'gallerist', 'gallery', 'gallmann', 'galloway', 'galvin', 'gambardella', 'gambler', 'gambling', 'game', 'gameonly', 'games', 'gamilons', 'gandalf', 'gandhi', 'gang', 'gangdu', 'gangs', 'gangster', 'gangsters', 'garage', 'garance', 'garbage', 'garcia', 'garden', 'gardener', 'gardner', 'garfield', 'gargamel', 'garret', 'garrett', 'garrigan', 'garrison', 'garth', 'gary', 'gas', 'gasoline', 'gates', 'gather', 'gathering', 'gathers', 'gaudy', 'gauntlet', 'gaurav', 'gave', 'gavilan', 'gavin', 'gay', 'gayle', 'gaz', 'gaza', 'gazelle', 'gecko', 'gedren', 'geek', 'geeks', 'geese', 'geist', 'gen', 'gene', 'general', 'generates', 'generation', 'generations', 'generous', 'genesis', 'genetic', 'genetically', 'genetics', 'genghis', 'genius', 'geniuslevel', 'genovia', 'genre', 'gentility', 'gentle', 'gentlemen', 'genuine', 'geographic', 'geographical', 'geography', 'geophysical', 'geophysicist', 'george', 'georges', 'georgia', 'georgiana', 'georgie', 'geppetto', 'geppettos', 'gerard', 'german', 'germanamerican', 'germans', 'germany', 'gerry', 'gestapo', 'get', 'getaway', 'gets', 'getting', 'gettogether', 'gg', 'ghaffarian', 'ghetto', 'ghettos', 'ghost', 'ghostface', 'ghostly', 'ghosts', 'gi', 'gian', 'giant', 'giants', 'gibbs', 'gibson', 'giddy', 'gideon', 'gift', 'gifted', 'gifts', 'gig', 'gigantic', 'gigli', 'gilbert', 'giles', 'gilhooley', 'gilkyson', 'gillanders', 'gilled', 'gillen', 'gillian', 'gilmore', 'gina', 'ginnifer', 'girl', 'girlfirend', 'girlfriend', 'girlfriends', 'girls', 'giselle', 'gissing', 'give', 'given', 'gives', 'giving', 'gizmo', 'gladbury', 'gladers', 'gladiator', 'glam', 'glamorous', 'glance', 'glances', 'glass', 'glasses', 'glazers', 'glee', 'glen', 'glendon', 'glengarry', 'glenn', 'glimpse', 'glimpses', 'glitz', 'global', 'globally', 'globalwarming', 'globe', 'globetrotting', 'globodyne', 'gloomier', 'gloomy', 'gloomylooking', 'gloria', 'gloriously', 'glory', 'gloves', 'glowing', 'gluckman', 'go', 'goa', 'goal', 'gobi', 'god', 'goddess', 'godfather', 'godfearing', 'godinspired', 'godlike', 'godmother', 'godparents', 'goes', 'goetze', 'gogol', 'going', 'goingaway', 'goku', 'gold', 'goldberg', 'golddigging', 'golden', 'golf', 'golfer', 'golfing', 'goliath', 'gone', 'gong', 'gonowhere', 'gonzo', 'gonzos', 'goobie', 'good', 'goodale', 'goodbye', 'goode', 'goodhearted', 'goodlooking', 'goodman', 'goodness', 'goodwin', 'goody', 'goose', 'goosen', 'gordon', 'gordone', 'gordonlevitt', 'gore', 'gores', 'gorgeous', 'gorging', 'gosford', 'gossipy', 'got', 'gotemba', 'gotham', 'gothic', 'gotten', 'gould', 'government', 'governments', 'governor', 'gownclad', 'grace', 'graced', 'gracie', 'grad', 'grade', 'gradeb', 'grader', 'gradual', 'gradually', 'graduate', 'graduated', 'graduates', 'graduating', 'graduation', 'grady', 'grafton', 'graham', 'grail', 'grammar', 'grand', 'grandchildren', 'granddaughter', 'granddaughters', 'grandfather', 'grandfathers', 'grandiose', 'grandkids', 'grandmother', 'grandparents', 'grandson', 'granny', 'grant', 'graphic', 'grass', 'grave', 'gravely', 'gray', 'greaser', 'greasers', 'great', 'greatest', 'greatnephew', 'greece', 'greed', 'greedy', 'greek', 'green', 'greenhouse', 'greenlander', 'greenpeace', 'greensrutina', 'greenwich', 'greeta', 'greetingcard', 'greg', 'gregory', 'grendel', 'grenouille', 'gretel', 'grettas', 'grew', 'grey', 'grid', 'gridiron', 'grief', 'griefstricken', 'grieves', 'grieving', 'griff', 'grift', 'grifter', 'grim', 'grimbridge', 'grimm', 'grind', 'grindle', 'grip', 'gripped', 'gripping', 'grips', 'grisly', 'griswold', 'gritty', 'grizzly', 'groberg', 'grocery', 'gromit', 'groom', 'groomtobe', 'groovy', 'grotesquely', 'grouchy', 'ground', 'group', 'grouped', 'groups', 'grove', 'grow', 'growers', 'growing', 'grown', 'grows', 'gru', 'grubman', 'grudgingly', 'gruesome', 'grungy', 'guadeloupe', 'guantanamo', 'guard', 'guarded', 'guardian', 'guerin', 'guerrilla', 'guest', 'guests', 'guidance', 'guide', 'guido', 'guile', 'guillermo', 'guilt', 'guinea', 'guitar', 'guitarist', 'gulf', 'gulliver', 'gum', 'gumshoe', 'gun', 'gunar', 'gunfighter', 'gunfighters', 'gunfighting', 'gungho', 'gunk', 'gunman', 'gunmen', 'gunning', 'guns', 'gunslinger', 'gunslinging', 'gurneal', 'gus', 'gusto', 'guy', 'guys', 'gwen', 'gwyneth', 'gym', 'gypsy', 'györgy', 'h', 'ha', 'haagen', 'habit', 'habitats', 'habits', 'habitual', 'hacker', 'hacking', 'hackman', 'had', 'hadassah', 'haddonfield', 'hai', 'hair', 'hairdo', 'hairstylist', 'hales', 'haley', 'half', 'halfbreed', 'halfchechen', 'halfhuman', 'halfirish', 'halfrussian', 'halfsicilian', 'halfstriped', 'halftodeath', 'halfvampire', 'halfway', 'hall', 'halle', 'halley', 'halleys', 'hallowed', 'halloween', 'halls', 'hallucinates', 'hallucinogenic', 'ham', 'hamada', 'hamburgs', 'hamilton', 'hamlet', 'hamm', 'hammerstein', 'hammond', 'han', 'hancock', 'hand', 'handbook', 'handed', 'handedly', 'handful', 'handkerchief', 'handler', 'handling', 'hands', 'handsome', 'handsomely', 'handtohand', 'handymen', 'hang', 'hanging', 'hangover', 'hank', 'hanna', 'hannah', 'hannibal', 'hannigan', 'hanniger', 'hannon', 'hansel', 'hansen', 'hansika', 'hansons', 'hapless', 'happen', 'happened', 'happenin', 'happening', 'happens', 'happily', 'happiness', 'happy', 'happygolucky', 'harassed', 'harassment', 'harbor', 'harbors', 'hard', 'hardboiled', 'hardcore', 'harddrinking', 'hardearned', 'hardedge', 'hardedged', 'hardened', 'hardflip', 'harding', 'hardknock', 'hardliving', 'hardpartying', 'hardtocrack', 'hardup', 'hardwick', 'hardworking', 'harker', 'harlem', 'harlems', 'harley', 'harlock', 'harmonium', 'harmony', 'harness', 'harold', 'harper', 'harpooner', 'harrelson', 'harrer', 'harried', 'harriet', 'harris', 'harrison', 'harrowing', 'harry', 'harsh', 'hart', 'hartfords', 'hartley', 'hartnett', 'harts', 'harvard', 'harvardeducated', 'harvey', 'has', 'haskins', 'hasnt', 'hassled', 'hat', 'hatch', 'hatched', 'hatches', 'hatchet', 'hatching', 'hatchling', 'hate', 'hatecrime', 'hated', 'hates', 'hatred', 'hauled', 'haunt', 'haunted', 'haunting', 'havana', 'have', 'havent', 'havilland', 'having', 'havoc', 'hawaii', 'hawaiian', 'hawk', 'hawke', 'hawkins', 'hayaat', 'hayden', 'hayek', 'hayes', 'hazards', 'haze', 'hazel', 'hazen', 'he', 'head', 'headed', 'headhunter', 'heading', 'headline', 'headlines', 'headlong', 'headmasters', 'headquarters', 'heads', 'headstrong', 'heady', 'healing', 'health', 'heap', 'hear', 'heard', 'hearing', 'hears', 'heart', 'heartache', 'heartbeeps', 'heartbreaking', 'heartbroken', 'heartcrushing', 'hearted', 'heartjumping', 'heartland', 'hearts', 'heartthrobs', 'heartwarming', 'heath', 'heathcliff', 'heather', 'heaven', 'heavens', 'heavily', 'heavydrinking', 'heavyweight', 'hectic', 'hector', 'hed', 'hedge', 'hedgefund', 'hedonistic', 'heep', 'heffalump', 'heffley', 'heflin', 'heidelberg', 'height', 'heights', 'heinrich', 'heir', 'heiress', 'heist', 'held', 'helen', 'helena', 'helens', 'helfgott', 'heli', 'helicopter', 'hell', 'hellman', 'helmed', 'helmet', 'helmsley', 'help', 'helped', 'helper', 'helping', 'helpless', 'helps', 'helsing', 'hemingway', 'hendricks', 'henning', 'henpecked', 'henry', 'henstridge', 'her', 'herb', 'herd', 'heritage', 'hermione', 'hero', 'heroes', 'heroic', 'heroin', 'heron', 'herrington', 'herself', 'herzog', 'hes', 'hester', 'hex', 'heyborne', 'heyday', 'hibernation', 'hiccup', 'hick', 'hicks', 'hidden', 'hide', 'hideous', 'hides', 'hiding', 'high', 'highdrama', 'highend', 'higher', 'highest', 'highflying', 'highhanded', 'highland', 'highlands', 'highlight', 'highlights', 'highly', 'highlyevolved', 'highman', 'highoctane', 'highpowered', 'highprofile', 'highranking', 'highschool', 'highsmith', 'highsociety', 'highspirited', 'highstakes', 'highstrung', 'hightech', 'highway', 'highways', 'highwire', 'hijack', 'hijacked', 'hijacker', 'hijackers', 'hijacking', 'hiking', 'hilarious', 'hilarity', 'hill', 'hillard', 'hillbillies', 'hills', 'him', 'himalayas', 'himself', 'hindi', 'hinds', 'hip', 'hiphop', 'hippie', 'hire', 'hired', 'hires', 'hiro', 'his', 'historian', 'historic', 'historical', 'history', 'hit', 'hitandrun', 'hitch', 'hitchcockian', 'hitchens', 'hitchhiker', 'hitech', 'hitlers', 'hitman', 'hitmen', 'hits', 'hitting', 'hm', 'ho', 'hoard', 'hoax', 'hoaxes', 'hobbies', 'hobbit', 'hobby', 'hockey', 'hoffa', 'hoffman', 'hog', 'hogans', 'hogg', 'hoggetts', 'hogue', 'hogwarts', 'hold', 'holden', 'holding', 'holds', 'holdsbarred', 'holiday', 'holidays', 'holiest', 'holland', 'holloman', 'hollow', 'holly', 'hollywood', 'holmes', 'holt', 'holy', 'home', 'homeland', 'homeless', 'homemaker', 'homer', 'homes', 'hometown', 'homicidal', 'homicide', 'homocide', 'homophobic', 'homosexual', 'honcho', 'hondo', 'honest', 'honey', 'honeychurch', 'honeymoon', 'hong', 'honky', 'honor', 'honorable', 'honoring', 'honors', 'hood', 'hoods', 'hook', 'hooker', 'hooks', 'hoover', 'hop', 'hope', 'hopeless', 'hopelessly', 'hopes', 'hoping', 'hopkins', 'hopper', 'horace', 'horde', 'horizons', 'hormones', 'horrendous', 'horrible', 'horrific', 'horrified', 'horrifying', 'horror', 'horrors', 'horrorthriller', 'horse', 'horty', 'hospice', 'hospital', 'host', 'hostage', 'hostages', 'hostel', 'hostile', 'hosts', 'hot', 'hotdog', 'hotel', 'hotels', 'hotep', 'hotheaded', 'hotshot', 'hottest', 'hottie', 'hour', 'hourlyrate', 'hours', 'house', 'housecleaner', 'housed', 'household', 'housekeeping', 'housemaid', 'houses', 'housesit', 'housewife', 'housing', 'how', 'howard', 'howell', 'however', 'howland', 'howling', 'hoyle', 'hubbies', 'hubert', 'hud', 'hudgens', 'hudson', 'huff', 'huge', 'hugely', 'hugh', 'hughes', 'hugo', 'hugos', 'hulme', 'human', 'humanity', 'humanitys', 'humankind', 'humans', 'humbert', 'humble', 'humdrum', 'hume', 'humiliated', 'humiliation', 'humorous', 'hundert', 'hundred', 'hundreds', 'hungarian', 'hunger', 'hungry', 'hunt', 'hunted', 'hunter', 'huntergatherers', 'hunters', 'hunting', 'huntington', 'hunts', 'huntsman', 'huo', 'hurdled', 'hurdles', 'hurley', 'hurls', 'hurricane', 'hurried', 'hurry', 'hurt', 'hurtle', 'hurtled', 'hurtling', 'husband', 'husbandandwife', 'husbands', 'hushpuppy', 'hussein', 'hustler', 'hutch', 'hutchens', 'hutchinson', 'hutton', 'hyakkensama', 'hyamss', 'hyde', 'hypatia', 'hyperimaginative', 'hypnotherapist', 'hypnotized', 'i', 'ian', 'ibn', 'ice', 'icecold', 'iceskating', 'icon', 'iconic', 'iconoclastic', 'icons', 'ida', 'idaho', 'idea', 'ideal', 'idealism', 'idealistic', 'idealists', 'identify', 'identifying', 'identities', 'identity', 'idle', 'idol', 'idols', 'idris', 'idyllic', 'if', 'ignites', 'ignores', 'ignoring', 'iguana', 'ii', 'iii', 'iis', 'ike', 'ilich', 'ill', 'illegal', 'illfated', 'illgotten', 'illicit', 'illinois', 'illiterate', 'illness', 'illuminates', 'illusionist', 'illusionists', 'illusions', 'illustrate', 'illustrates', 'ilona', 'image', 'images', 'imaginary', 'imagination', 'imagines', 'imax', 'imf', 'immaculately', 'immature', 'immediately', 'immersed', 'immigrant', 'immigrants', 'immigration', 'immortal', 'immortals', 'immune', 'imogen', 'impact', 'impatient', 'impending', 'impenetrable', 'imperial', 'impersonate', 'impetuous', 'implacable', 'implies', 'important', 'imposed', 'impossible', 'impound', 'impoverished', 'impresario', 'impress', 'impressionable', 'impressionistic', 'impressions', 'impressive', 'imprisoned', 'imprisoning', 'imprisonment', 'impromptu', 'improve', 'impulsive', 'impulsively', 'in', 'inadvertently', 'inbetween', 'inbound', 'inc', 'incarcerated', 'incarceration', 'inchon', 'incident', 'incidents', 'incisive', 'include', 'including', 'incompetent', 'incorrect', 'increase', 'increases', 'increasingly', 'incredible', 'incredibly', 'indefinite', 'independence', 'independent', 'indepth', 'indescribable', 'indestructible', 'india', 'indian', 'indiana', 'indianborn', 'indians', 'indias', 'indicates', 'indie', 'indierock', 'individual', 'individuals', 'indolent', 'indomitable', 'indulge', 'industrial', 'industrialists', 'industries', 'industrious', 'industry', 'ineffective', 'inept', 'inevitable', 'inexperience', 'inexperienced', 'inexplicably', 'infamous', 'infected', 'infection', 'infertile', 'infilitrates', 'infiltrate', 'infiltrated', 'infiltrates', 'infiltrating', 'inflatable', 'inflicts', 'influence', 'influenced', 'influential', 'informant', 'information', 'ingenious', 'inhabit', 'inhabitants', 'inhabits', 'inherit', 'inherited', 'inheriting', 'inherits', 'initiate', 'initiates', 'injected', 'injured', 'injury', 'injustice', 'ink', 'inkhata', 'inkwell', 'inmates', 'inn', 'innate', 'inner', 'innercity', 'innocent', 'innocuous', 'innovative', 'ins', 'insane', 'insanity', 'insatiable', 'insecure', 'insecurity', 'inseparable', 'inside', 'insider', 'insists', 'insomnia', 'insomniac', 'insouciant', 'inspector', 'inspiration', 'inspirational', 'inspired', 'inspires', 'inspiring', 'installation', 'installed', 'installment', 'instant', 'instantly', 'instead', 'institute', 'institution', 'institutionalised', 'institutionalized', 'instruct', 'instructor', 'instrument', 'insurance', 'intellectual', 'intelligence', 'intelligent', 'intended', 'intending', 'intends', 'intense', 'intensity', 'intent', 'intention', 'interact', 'interaction', 'interactions', 'intercepts', 'interest', 'interests', 'interestset', 'interferes', 'intergalactic', 'interlocking', 'international', 'internet', 'interns', 'interpol', 'interpretation', 'interpretations', 'interpreter', 'interracial', 'interrelated', 'interrogation', 'interrupts', 'intersecting', 'interstellar', 'intertribal', 'intertwine', 'intertwined', 'intertwines', 'interview', 'interviews', 'interweaving', 'intimacy', 'intimate', 'intimidating', 'into', 'intoxicating', 'intrepid', 'intricate', 'intrigue', 'intrigued', 'introduce', 'introduces', 'introverted', 'invaded', 'invaders', 'invades', 'invading', 'invasion', 'invasive', 'invent', 'invented', 'inventive', 'inventor', 'investigate', 'investigates', 'investigating', 'investigation', 'investigative', 'investigator', 'investigators', 'investment', 'investor', 'invests', 'invincible', 'invisible', 'invisibly', 'invitation', 'invitationonly', 'invited', 'invites', 'invoices', 'involuntarily', 'involved', 'involves', 'involving', 'iowa', 'ip', 'ipkiss', 'iq', 'ira', 'iran', 'iranian', 'irans', 'iraq', 'iraqi', 'iras', 'ire', 'ireland', 'irina', 'iris', 'irish', 'irishman', 'irma', 'iron', 'irons', 'irresistible', 'irresponsible', 'irreverent', 'irrevocably', 'irritating', 'irs', 'irving', 'irwin', 'is', 'isaac', 'isabel', 'isabelle', 'ishiguro', 'ishmael', 'isla', 'islamic', 'island', 'islands', 'islandset', 'isles', 'islesinfecting', 'ismail', 'isnt', 'isolated', 'isolation', 'israel', 'israeli', 'israels', 'issue', 'issues', 'istanbul', 'it', 'italian', 'italianamerican', 'italy', 'itll', 'its', 'itself', 'itunes', 'iv', 'ivan', 'ive', 'ivory', 'ivorys', 'ivy', 'iways', 'iwo', 'iza', 'j', 'jack', 'jackass', 'jackie', 'jackies', 'jacks', 'jackson', 'jacob', 'jacobs', 'jacobsen', 'jacq', 'jacqueline', 'jacques', 'jade', 'jaded', 'jai', 'jail', 'jakartas', 'jake', 'jakes', 'jakob', 'jam', 'jamaican', 'jamal', 'james', 'jamie', 'jan', 'jane', 'janeiro', 'jang', 'janitor', 'jankowski', 'jansen', 'january', 'janus', 'japan', 'japanese', 'japaneseamerican', 'japans', 'jared', 'jarhead', 'jasmine', 'jason', 'jaspersen', 'jawaani', 'jay', 'jayne', 'jazz', 'jazzmusician', 'jb', 'jealous', 'jealousy', 'jean', 'jeanbaptiste', 'jeanclaude', 'jeandominique', 'jeanjacques', 'jeanluc', 'jeanne', 'jeanpaul', 'jeanpierre', 'jeans', 'jed', 'jedi', 'jeff', 'jefferson', 'jeffrey', 'jeffries', 'jehane', 'jekyll', 'jellystone', 'jenkins', 'jenko', 'jenna', 'jennifer', 'jennings', 'jenny', 'jensen', 'jeopardizes', 'jep', 'jerome', 'jerry', 'jersey', 'jerusalem', 'jess', 'jesse', 'jessica', 'jesus', 'jet', 'jett', 'jettel', 'jewel', 'jewelheist', 'jewish', 'jewishamerican', 'jewishpolish', 'jews', 'jian', 'jigsaw', 'jigsaws', 'jihadists', 'jill', 'jilting', 'jim', 'jima', 'jimi', 'jimmy', 'jimmys', 'jindabyne', 'jing', 'jinseok', 'jintae', 'jinx', 'jitters', 'jmw', 'jo', 'joan', 'joanna', 'joanne', 'job', 'joba', 'joband', 'jobless', 'jobs', 'jock', 'jockey', 'jody', 'joe', 'joel', 'joes', 'joey', 'joffé', 'johansson', 'john', 'johnathan', 'johnny', 'johns', 'johnson', 'join', 'joined', 'joins', 'joker', 'jokes', 'jolie', 'jolted', 'jon', 'jonah', 'jonathan', 'jones', 'jonzes', 'jordan', 'jordans', 'jordin', 'jose', 'joseph', 'josh', 'joshs', 'joshua', 'josie', 'josé', 'jourdain', 'journalism', 'journalist', 'journey', 'journeys', 'joy', 'joys', 'jr', 'juan', 'juarez', 'judah', 'jude', 'judean', 'judge', 'judges', 'judgment', 'judith', 'juggling', 'juilliardtrained', 'jujitsu', 'jules', 'juli', 'julia', 'julian', 'julie', 'julien', 'juliet', 'juliette', 'julius', 'julián', 'july', 'jumbly', 'jump', 'jumper', 'jumps', 'jumpstart', 'junction', 'june', 'jung', 'jungle', 'jungles', 'juni', 'junior', 'juniorhigh', 'junkie', 'juno', 'junuh', 'jurassic', 'jury', 'just', 'justice', 'justices', 'justin', 'juvenile', 'juveniles', 'jw', 'jørgen', 'k', 'k2', 'kaffee', 'kagan', 'kahlo', 'kaia', 'kaias', 'kaiju', 'kaine', 'kaisa', 'kaiulani', 'kale', 'kallen', 'kamiya', 'kampenfelt', 'kane', 'kaneda', 'kansas', 'kapoor', 'kappa', 'karachi', 'karaoke', 'karas', 'karate', 'karen', 'karenina', 'kari', 'karl', 'karwais', 'kassandra', 'kat', 'katadreuffe', 'kate', 'katherine', 'kathleen', 'kathryn', 'kathy', 'katie', 'katniss', 'katy', 'kaufman', 'kay', 'kayley', 'kaysens', 'kazakh', 'kazakhstan', 'kazuo', 'keane', 'kearney', 'kearns', 'keeble', 'keenen', 'keep', 'keeper', 'keeping', 'keeps', 'kefi', 'keith', 'keller', 'kelly', 'kellys', 'kelson', 'ken', 'kennedy', 'kenner', 'kent', 'kenton', 'keong', 'kept', 'kermit', 'kerns', 'kerrigan', 'kerrys', 'kevin', 'key', 'keyes', 'kham', 'khan', 'kickass', 'kicked', 'kicking', 'kicks', 'kid', 'kidnap', 'kidnapped', 'kidnapper', 'kidnappers', 'kidnapping', 'kidnaps', 'kidney', 'kidnplay', 'kids', 'kilcher', 'kill', 'killed', 'killer', 'killerhorror', 'killers', 'killertire', 'killing', 'killings', 'kills', 'kilmartin', 'kim', 'kimball', 'kimberly', 'kimble', 'kincaid', 'kind', 'kindergarten', 'kindhearted', 'king', 'kingdom', 'kingdoms', 'kingman', 'kingpin', 'kings', 'kingsleigh', 'kinnear', 'kinney', 'kinsey', 'kinski', 'kint', 'kipps', 'kirby', 'kirk', 'kiss', 'kit', 'kitchen', 'kittredge', 'klark', 'klaven', 'klein', 'kline', 'klingon', 'klump', 'knew', 'knife', 'knight', 'knights', 'knock', 'knocked', 'knot', 'know', 'knowledge', 'known', 'knows', 'knoxville', 'kobelski', 'kok', 'komplex', 'kong', 'korea', 'korean', 'kovak', 'kovic', 'kowalski', 'kraken', 'krank', 'krasinski', 'kray', 'krelborn', 'kris', 'krishna', 'kristen', 'kristi', 'kristofferson', 'krueger', 'kruegers', 'kruger', 'krumping', 'krush', 'krypton', 'kubik', 'kuki', 'kumar', 'kumba', 'kumite', 'kundun', 'kung', 'kungfu', 'kurt', 'kutchek', 'kuwait', 'kuzco', 'kyle', 'kylie', 'köves', 'l', 'la', 'label', 'labor', 'lac', 'lacey', 'lack', 'ladder', 'laden', 'ladies', 'lady', 'lafayette', 'lago', 'lahaye', 'lahore', 'laid', 'laidback', 'laidoff', 'laine', 'lake', 'lakeside', 'lam', 'lama', 'laman', 'lambert', 'lamebrained', 'lamont', 'lamotta', 'lance', 'lancers', 'land', 'landers', 'landing', 'landlord', 'landon', 'lands', 'landscape', 'landscapes', 'lane', 'langdon', 'lange', 'langley', 'langston', 'language', 'lanie', 'lankester', 'lantern', 'lara', 'larcenous', 'large', 'largely', 'larger', 'largest', 'larisa', 'lark', 'larry', 'lars', 'larsson', 'larusso', 'las', 'lasagna', 'laser', 'last', 'lastditch', 'late', 'late1960s', 'late21st', 'lately', 'latenight', 'later', 'latest', 'latheoperator', 'latin', 'latino', 'latinos', 'latterday', 'laugh', 'laughter', 'launch', 'launched', 'launches', 'laura', 'laurel', 'lauren', 'laurence', 'laurens', 'laurie', 'lavish', 'lavishly', 'law', 'lawless', 'lawman', 'lawrence', 'lawrences', 'laws', 'lawyer', 'laying', 'lays', 'lazy', 'le', 'lead', 'leader', 'leaders', 'leadership', 'leading', 'leads', 'leadsinger', 'leaf', 'league', 'leaguer', 'leagues', 'leaks', 'lean', 'leander', 'learn', 'learned', 'learning', 'learns', 'least', 'leave', 'leaves', 'leaving', 'lebanese', 'lebowski', 'lecter', 'led', 'ledger', 'lee', 'leeds', 'lees', 'leezak', 'left', 'leftist', 'legacy', 'legal', 'legend', 'legendary', 'legends', 'legion', 'legions', 'legitimize', 'legless', 'lego', 'lehi', 'leia', 'leighs', 'leisurely', 'leiter', 'leith', 'lemuel', 'lemurs', 'lena', 'lender', 'length', 'lengthy', 'lennon', 'lennons', 'lenny', 'lensherr', 'leo', 'leon', 'leonard', 'lerman', 'les', 'lesbian', 'leslie', 'less', 'lesson', 'lessons', 'lessthanperfect', 'lessthanstunning', 'lessthansuccessful', 'lestat', 'lester', 'let', 'letac', 'lethal', 'lets', 'letter', 'letters', 'leukemia', 'level', 'levels', 'lewis', 'lex', 'li', 'liaisons', 'liar', 'libby', 'liberal', 'liberation', 'libidodriven', 'librarian', 'libre', 'libya', 'lie', 'lieberman', 'lies', 'liesel', 'lieutenant', 'life', 'lifechanging', 'lifelike', 'lifelong', 'lifeordeath', 'lifepod', 'lifes', 'lifestyle', 'lifethreatening', 'lifetime', 'lift', 'lifted', 'lifting', 'lifts', 'light', 'lighthearted', 'lightman', 'lightning', 'lights', 'likable', 'like', 'likeness', 'likes', 'lil', 'lili', 'lillian', 'lilo', 'lily', 'lilya', 'limey', 'limitless', 'limits', 'limousine', 'lina', 'linchpin', 'lincoln', 'lincolns', 'linda', 'lindsey', 'line', 'liner', 'lines', 'lineup', 'ling', 'lingerie', 'linguistics', 'links', 'lion', 'lioncourt', 'lions', 'liotta', 'lips', 'liquidated', 'lisa', 'list', 'listless', 'lit', 'literary', 'literature', 'lithuanian', 'little', 'littlefoot', 'littleknown', 'littles', 'liu', 'live', 'liveaction', 'lived', 'livein', 'livelihood', 'lively', 'lives', 'living', 'liz', 'lizewski', 'lizzie', 'llevado', 'llewelyn', 'llewyn', 'lloyd', 'lloyds', 'loaded', 'loan', 'loathsome', 'lobbyist', 'lobel', 'local', 'lock', 'locked', 'locker', 'locklear', 'lockout', 'locks', 'lockwood', 'lodged', 'log', 'logan', 'lois', 'lola', 'london', 'londoner', 'londons', 'lone', 'loneliness', 'lonely', 'loner', 'long', 'longbaugh', 'longer', 'longfellow', 'longhidden', 'longlost', 'longoverdue', 'longplanned', 'longterm', 'longtime', 'look', 'looking', 'looks', 'loomis', 'looms', 'looney', 'looper', 'loose', 'loosely', 'loosened', 'loot', 'looting', 'lord', 'lords', 'loretta', 'lori', 'lorraine', 'lorrell', 'lorry', 'los', 'lose', 'loser', 'loses', 'losing', 'loss', 'lost', 'lot', 'lottery', 'lou', 'loudest', 'louis', 'louisiana', 'lounge', 'lourié', 'lousy', 'louvre', 'lovable', 'love', 'loved', 'lovehall', 'loveless', 'lovelessly', 'lovelorn', 'lovely', 'lover', 'lovers', 'loves', 'lovestory', 'loving', 'lovingly', 'low', 'lowbudget', 'lower', 'lowermiddleclass', 'lowlevel', 'lowlifes', 'lowly', 'lowrent', 'lowrey', 'lowry', 'loxley', 'loyal', 'loyalties', 'loyalty', 'lt', 'lu', 'luc', 'lucas', 'luce', 'luck', 'luckiest', 'luckily', 'lucky', 'lucrative', 'lucy', 'ludlow', 'lugo', 'luhrmanns', 'luigi', 'luis', 'luke', 'lukes', 'lumber', 'lump', 'lunar', 'lunchbox', 'lund', 'lung', 'lure', 'lured', 'lush', 'lust', 'luthan', 'luther', 'luthor', 'lutz', 'lux', 'luxuriantly', 'luxury', 'lv', 'lycans', 'lying', 'lynch', 'lynn', 'lyra', 'm', 'mabry', 'mac', 'macaw', 'macedonia', 'macgruber', 'machete', 'machine', 'machinery', 'machines', 'machinist', 'mack', 'macleod', 'macmanus', 'macneil', 'macray', 'macy', 'mad', 'madame', 'madcap', 'maddy', 'made', 'madea', 'madeas', 'madeleine', 'madeline', 'madhouse', 'madly', 'madness', 'madrid', 'madsen', 'mafia', 'mafias', 'magazine', 'magdalenas', 'maggie', 'maggies', 'magic', 'magical', 'magically', 'magicfilled', 'magician', 'magicians', 'magna', 'magnate', 'magnetized', 'magneto', 'magnificent', 'magnificently', 'maguire', 'maher', 'mahoney', 'mahowny', 'maid', 'maiden', 'mail', 'main', 'maine', 'mainstream', 'maintain', 'maintaining', 'maintains', 'maire', 'maitlin', 'majestic', 'majo', 'major', 'majority', 'make', 'makers', 'makes', 'making', 'mal', 'malamute', 'malby', 'malcolm', 'male', 'malevolent', 'malfunctioning', 'malfunctions', 'malhotra', 'mali', 'malik', 'malkovich', 'mall', 'mallory', 'malloy', 'malone', 'mama', 'mammoth', 'man', 'manager', 'manages', 'manchild', 'manchuria', 'mandarin', 'mandela', 'mandelas', 'mandy', 'maneating', 'manech', 'maneuver', 'maneuvers', 'mange', 'manhattan', 'manhattanite', 'manhattanites', 'manhattans', 'manhood', 'manhunter', 'maniac', 'manipulate', 'manipulating', 'manipulation', 'manipulative', 'mankind', 'manlike', 'manmade', 'manmohan', 'manned', 'mannequin', 'manners', 'manni', 'mannix', 'manny', 'manolo', 'mans', 'mansik', 'mansion', 'manufacturing', 'manuscript', 'many', 'maori', 'map', 'marathon', 'marble', 'marc', 'marcel', 'marcella', 'marcellus', 'march', 'marcus', 'margaret', 'margo', 'marguerite', 'maria', 'mariachi', 'mariah', 'mariahs', 'mariane', 'marianne', 'marie', 'mariel', 'marigold', 'marijuana', 'marine', 'marines', 'marino', 'mario', 'marion', 'marisa', 'marital', 'marjane', 'marji', 'mark', 'marked', 'markelli', 'marker', 'market', 'marketing', 'marks', 'marksman', 'marlee', 'marni', 'marnie', 'marooned', 'marquis', 'marred', 'marriage', 'marriages', 'married', 'marries', 'marrow', 'marry', 'marrying', 'mars', 'marsden', 'marsh', 'marshal', 'marshall', 'marshals', 'marstons', 'martel', 'martha', 'marthas', 'martial', 'martialarts', 'martialed', 'martians', 'martin', 'martius', 'marty', 'marvel', 'marvin', 'marx', 'mary', 'maryland', 'mask', 'masked', 'maskedman', 'mason', 'masondixon', 'mass', 'massacre', 'massacres', 'massive', 'massmurderer', 'master', 'masterbuilder', 'mastermind', 'masterminding', 'masterpiece', 'masters', 'masterson', 'mat', 'match', 'mater', 'material', 'materialism', 'materialistic', 'mates', 'mathayus', 'mathematical', 'mathematician', 'matheson', 'mathilde', 'matrix', 'matt', 'matter', 'matters', 'matthew', 'matthews', 'mattie', 'mattress', 'mature', 'matures', 'maurice', 'maverick', 'mawkish', 'max', 'maximilian', 'maximillian', 'maximum', 'maximumsecurity', 'may', 'maya', 'mayan', 'maybe', 'mayhem', 'maynard', 'mayor', 'mayoress', 'mayough', 'mayweather', 'maziar', 'mazzy', 'mc', 'mccain', 'mccall', 'mccallister', 'mccandless', 'mccann', 'mccarter', 'mccarthys', 'mccartney', 'mccawley', 'mcclane', 'mcclanes', 'mcclaren', 'mcconaughey', 'mccormack', 'mccormick', 'mccourt', 'mccoy', 'mcdeere', 'mcdermott', 'mcdonagh', 'mcdonald', 'mcdonalds', 'mcdowell', 'mcelroy', 'mcevoy', 'mcfee', 'mcfly', 'mcgartlands', 'mcgee', 'mcginty', 'mcgrath', 'mcguire', 'mcinnerny', 'mckay', 'mckee', 'mckinney', 'mclaughlin', 'mcleod', 'mcmasters', 'mcmullen', 'mcmurphy', 'mcnally', 'mcnamara', 'mcnelly', 'mcnerney', 'mcphee', 'mcqueen', 'me', 'meadow', 'meadows', 'mean', 'meanest', 'meaning', 'meaningful', 'means', 'meanwhile', 'measure', 'measures', 'meat', 'mechanic', 'medal', 'medallion', 'medals', 'meddlesome', 'media', 'medic', 'medical', 'medicalschool', 'medication', 'medicine', 'medieval', 'mediocre', 'meditation', 'mediterranean', 'meehan', 'meeks', 'meet', 'meeting', 'meetings', 'meets', 'meg', 'mega', 'megachurches', 'megacorporation', 'megaforce', 'megalomaniacal', 'megamind', 'megamogul', 'megan', 'megaswanky', 'meinhof', 'mel', 'melanie', 'melba', 'melissa', 'melman', 'melodrama', 'melody', 'melt', 'melted', 'melvin', 'member', 'members', 'membership', 'memnon', 'memoir', 'memoirs', 'memories', 'memory', 'memphis', 'men', 'menace', 'mende', 'menfolk', 'mental', 'mentally', 'mentallychallenged', 'mentor', 'mentors', 'mercedes', 'mercenaries', 'mercenary', 'merchant', 'merchantivory', 'mercury', 'mercy', 'mere', 'meredith', 'merely', 'mermaid', 'mermaids', 'merrin', 'merry', 'mess', 'message', 'messages', 'messaging', 'messenger', 'messner', 'met', 'metal', 'metallica', 'metallurgist', 'metaphorical', 'meteor', 'metermaid', 'method', 'methodical', 'methodically', 'methods', 'metro', 'mettle', 'mexican', 'mexicanamerican', 'mexico', 'mezzomezzo', 'mgb', 'mi6', 'mia', 'miami', 'mica', 'micallef', 'michael', 'micheals', 'michel', 'michell', 'michelle', 'micheners', 'michigan', 'mickey', 'micky', 'microchip', 'microfilm', 'microseries', 'mid', 'mid1950s', 'mid1960s', 'mid1970s', 'mid1980s', 'middle', 'middleaged', 'middleclass', 'middleweight', 'mideurope', 'midland', 'midler', 'midlife', 'midnight', 'midst', 'midsummer', 'midteens', 'midwest', 'midwestern', 'midwesterner', 'midwife', 'might', 'mighty', 'migrant', 'migratory', 'miguel', 'mikael', 'mike', 'mildmannered', 'mile', 'miles', 'miley', 'milford', 'milieu', 'militant', 'militarized', 'military', 'milk', 'mill', 'millenium', 'miller', 'millers', 'million', 'millionaire', 'millionaires', 'millions', 'mills', 'milo', 'milton', 'mina', 'mincayani', 'mind', 'mindaltering', 'mindbending', 'mindcontrol', 'minded', 'mindy', 'mine', 'miner', 'mineral', 'miners', 'mines', 'miniature', 'minifigure', 'mining', 'minions', 'minister', 'ministers', 'minka', 'minnesota', 'minnie', 'minor', 'minute', 'minutes', 'mirabelle', 'miracle', 'miracles', 'miraculous', 'miranda', 'miri', 'misadventures', 'misanthrope', 'misanthropic', 'miscarriage', 'mischief', 'mischievous', 'misconduct', 'miser', 'miserable', 'misfit', 'misfits', 'misguided', 'mishaps', 'mismatched', 'misogynist', 'misogynistic', 'misrepresented', 'miss', 'missed', 'missie', 'missile', 'missiles', 'missing', 'mission', 'missionary', 'missionprotect', 'missions', 'mississippi', 'missouri', 'mist', 'mistake', 'mistaken', 'mistakenly', 'mistreated', 'mistress', 'mistrust', 'misty', 'misunderstandings', 'misunderstood', 'mit', 'mitch', 'mitchell', 'mitts', 'mix', 'mixed', 'mixedmartial', 'mixedup', 'mixture', 'miz', 'mizanin', 'mma', 'moai', 'mob', 'mobster', 'mobsters', 'mode', 'model', 'modeling', 'modelling', 'models', 'modern', 'modernday', 'modest', 'modified', 'modify', 'moe', 'mogul', 'mohandas', 'mojo', 'mole', 'molecular', 'molière', 'moll', 'molly', 'mom', 'moment', 'moments', 'momma', 'moms', 'mona', 'monaghan', 'monarch', 'monastery', 'money', 'moneylaundering', 'mongo', 'mongolia', 'monica', 'monique', 'monkey', 'monks', 'monogamy', 'monotony', 'monroe', 'monster', 'monsters', 'monstrous', 'montagues', 'montana', 'monte', 'monterrey', 'montgomery', 'month', 'monthly', 'months', 'montreal', 'monuments', 'mood', 'moody', 'moon', 'moonlights', 'moonshinerunning', 'moore', 'moores', 'mop', 'moral', 'mordor', 'more', 'moreno', 'mores', 'morgan', 'morgans', 'morgue', 'moriarty', 'mormon', 'morning', 'moroccan', 'morocco', 'moron', 'moronic', 'morquios', 'morris', 'morrison', 'morrissey', 'morse', 'mort', 'mortal', 'mortally', 'mortdecai', 'morton', 'morvern', 'mosaic', 'moscow', 'moseley', 'moses', 'moss', 'mossad', 'most', 'mostly', 'motel', 'mother', 'motherdaughter', 'motherhood', 'mothers', 'mothership', 'motivate', 'motivated', 'motivational', 'motley', 'motocross', 'motor', 'motorcycle', 'motorcycles', 'motorists', 'motorized', 'motors', 'mount', 'mountain', 'mountaineer', 'mountaineers', 'mountains', 'mountainside', 'mountaintop', 'mountie', 'mounting', 'mounts', 'mourning', 'mouse', 'mouth', 'mouthed', 'mouthy', 'move', 'moved', 'movement', 'moves', 'movie', 'movies', 'moving', 'mowgli', 'mozart', 'mr', 'mrs', 'mt', 'much', 'muchpublicized', 'mudge', 'muir', 'mukhtar', 'mulder', 'mule', 'mulholland', 'mullet', 'mulligan', 'multiaward', 'multigenerational', 'multimillion', 'multimillionaire', 'multinational', 'multiplatinum', 'multiplayer', 'multiple', 'mum', 'mumbai', 'mumbais', 'mumble', 'mumford', 'munch', 'mundanity', 'munday', 'mundis', 'munich', 'muniz', 'munna', 'munny', 'munro', 'munroe', 'munson', 'muppets', 'murder', 'murdered', 'murderer', 'murderers', 'murderess', 'murderesses', 'murdering', 'murderous', 'murders', 'murdoch', 'murky', 'murnau', 'murphy', 'murray', 'murron', 'murrows', 'murtaugh', 'muscles', 'museum', 'museums', 'mushmouth', 'mushniks', 'music', 'musical', 'musician', 'musicianactorfolk', 'musicianloved', 'musicians', 'musketeers', 'muslim', 'must', 'mutant', 'mutants', 'mutated', 'mutation', 'mutations', 'mutiny', 'mutt', 'my', 'myers', 'myles', 'mysteries', 'mysterious', 'mysteriously', 'mystery', 'mystic', 'mystical', 'mythological', 'mytyl', 'mérida', 'n', 'nabbed', 'naboo', 'nacho', 'nacib', 'nada', 'nail', 'nairobibased', 'naive', 'naked', 'nam', 'name', 'named', 'nameless', 'names', 'nancy', 'nani', 'nannerl', 'nanny', 'naomi', 'napoleon', 'narc', 'narcissistic', 'narcotics', 'narrates', 'narrative', 'narrator', 'narrowly', 'nasa', 'nascar', 'nascimento', 'nash', 'nashawn', 'nastassja', 'nasty', 'nat', 'natalie', 'natasha', 'nate', 'nathan', 'nation', 'national', 'nationalist', 'nationals', 'nations', 'native', 'natives', 'natural', 'naturally', 'nature', 'natured', 'naughties', 'naughton', 'navajo', 'naval', 'navarone', 'navarre', 'navigate', 'navigates', 'navorski', 'navy', 'navys', 'naylor', 'nazi', 'nazioccupied', 'nazis', 'naïve', 'nba', 'ndr114', 'neal', 'near', 'neardeath', 'nearfuture', 'nearly', 'nearpenniless', 'nears', 'neat', 'nebraska', 'neck', 'necktie', 'need', 'needed', 'needs', 'neerdowells', 'nefarious', 'neglected', 'negotiates', 'negotiator', 'neighbor', 'neighborhood', 'neighboring', 'neighbors', 'neighbour', 'neighbourhood', 'neil', 'neilson', 'neither', 'nell', 'nellie', 'nello', 'nelson', 'nemesis', 'nemo', 'neo', 'neotokyo', 'nephew', 'neptunes', 'nerd', 'nerdy', 'nerves', 'nervous', 'nesbitt', 'ness', 'nested', 'net', 'netherlands', 'network', 'neuman', 'neuroses', 'neurosurgeon', 'neurotic', 'neutral', 'neutron', 'nevada', 'never', 'neverland', 'neville', 'new', 'newborn', 'newborns', 'newcomer', 'newer', 'newfoundland', 'newly', 'newlydiscovered', 'newlyformed', 'newlywed', 'newlyweds', 'news', 'newscaster', 'newsman', 'newspaper', 'newsweek', 'newswoman', 'newt', 'newton', 'next', 'nexus', 'nfl', 'niagara', 'nic', 'nicaraguan', 'nice', 'nicholas', 'nicholsons', 'nick', 'nickelodeon', 'nickle', 'nickleby', 'nickname', 'nicknamed', 'nicky', 'nicolas', 'nicole', 'niece', 'nigerian', 'night', 'nightclub', 'nightclubs', 'nightlife', 'nightly', 'nightmare', 'nightmares', 'nightmarish', 'nighttime', 'niki', 'nikki', 'nikkita', 'nina', 'nine', 'ninety', 'nineyearold', 'ninja', 'ninth', 'niro', 'nixon', 'no', 'noah', 'nobbs', 'noble', 'nobleman', 'nocturnal', 'noel', 'noirish', 'noise', 'noisy', 'nola', 'nolan', 'nomad', 'nomads', 'nome', 'nomi', 'nomination', 'nonambitious', 'none', 'nongreek', 'noni', 'nonstop', 'nonvampire', 'noodle', 'noon', 'noonan', 'nor', 'norah', 'norma', 'normal', 'normalcy', 'normalsized', 'norman', 'normandy', 'north', 'northeast', 'northeastern', 'northern', 'northup', 'northwest', 'norton', 'norway', 'norwegian', 'nose', 'nosed', 'nostromo', 'not', 'notebook', 'noted', 'nothing', 'notices', 'notorious', 'notoriously', 'notsoinnocent', 'notsotypical', 'nottingham', 'nottoodistant', 'noujaim', 'nova', 'novalee', 'novel', 'novelist', 'novels', 'noveltysalesman', 'november', 'novice', 'now', 'nowhere', 'nsecure', 'nubile', 'nublar', 'nuclear', 'nuked', 'number', 'numbers', 'nun', 'nuns', 'nurse', 'nursed', 'ny', 'nyc', 'nypd', 'oakland', 'oakley', 'oasis', 'oath', 'obamas', 'obannon', 'obese', 'object', 'objective', 'obligation', 'obliterate', 'obliterates', 'obrien', 'obscene', 'obscenely', 'obscure', 'observed', 'obsessed', 'obsesses', 'obsessing', 'obsession', 'obsessive', 'obsessivecompulsive', 'obstacles', 'obtain', 'obtained', 'obviously', 'obyrne', 'obélix', 'occasional', 'occasionally', 'occupation', 'occupied', 'occurred', 'occurrences', 'occurs', 'ocean', 'oceans', 'oceanside', 'oconnell', 'oconner', 'october', 'octogenarian', 'oddball', 'oddballs', 'odds', 'odie', 'odins', 'odonnell', 'odonoghue', 'odyssey', 'oedekerk', 'of', 'ofelia', 'off', 'offduty', 'offender', 'offer', 'offered', 'offers', 'offguard', 'office', 'officer', 'officers', 'official', 'officially', 'offing', 'offkilter', 'often', 'ogling', 'ogre', 'ohara', 'oher', 'ohio', 'oil', 'oilrich', 'old', 'olden', 'older', 'oldest', 'oldfashioned', 'oldfield', 'oldguard', 'oldman', 'oldoldoldfashioned', 'oldschool', 'oleg', 'olfactory', 'olham', 'oliver', 'olivia', 'olivier', 'ollie', 'olympic', 'olympics', 'olympus', 'omalley', 'omar', 'omegas', 'omicron', 'omni', 'omnicorp', 'omnipresent', 'on', 'onboard', 'once', 'onceblissful', 'oncepetty', 'onceruthless', 'oncourt', 'one', 'oneal', 'oneday', 'oneill', 'oneman', 'onenight', 'ones', 'ongoing', 'online', 'only', 'onscreen', 'onset', 'ontario', 'onthecourt', 'onthelam', 'onto', 'oogieloves', 'opal', 'open', 'opening', 'openly', 'opens', 'opera', 'operate', 'operates', 'operating', 'operation', 'operations', 'operative', 'operatives', 'operator', 'opiumdealing', 'opiumhuffing', 'opponent', 'opportunities', 'opportunity', 'opposed', 'opposing', 'opposite', 'opposites', 'opposition', 'oppressed', 'oppression', 'oppressiveness', 'optimistic', 'options', 'or', 'orange', 'orb', 'orbit', 'orchid', 'order', 'ordered', 'orders', 'ordinary', 'oregon', 'organfinancing', 'organisation', 'organization', 'organized', 'organizes', 'ori', 'origin', 'original', 'originated', 'origins', 'orin', 'orion', 'orleans', 'orlov', 'orphan', 'orphanage', 'orphaned', 'orphans', 'orpheus', 'orson', 'orton', 'osama', 'oscar', 'oscars', 'oskar', 'oss', 'ossa', 'ostensibly', 'other', 'others', 'otherwise', 'otherworld', 'otis', 'ouija', 'ouimet', 'our', 'ousting', 'out', 'outage', 'outback', 'outbreak', 'outbursts', 'outcast', 'outcasts', 'outer', 'outfit', 'outfitted', 'outgoing', 'outlaw', 'outlaws', 'outofcontrol', 'outofshape', 'outpost', 'outrageous', 'outrunning', 'outside', 'outsider', 'outsiders', 'outskirts', 'outsmart', 'outspoken', 'outwits', 'outwitting', 'over', 'overachieving', 'overarching', 'overbearing', 'overboard', 'overcome', 'overcomes', 'overcoming', 'overcrowded', 'overcrowding', 'overdose', 'overhearing', 'overhears', 'overjoyed', 'overkill', 'overlook', 'overly', 'overlyconfident', 'overpopulation', 'overprivileged', 'overprotective', 'overrun', 'overseas', 'oversee', 'oversize', 'oversized', 'overtaking', 'overthetop', 'overturned', 'overweight', 'overwhelmed', 'overwhelming', 'overwhelms', 'overworked', 'owens', 'owl', 'owls', 'own', 'owned', 'owner', 'oxford', 'oz', 'p', 'pablo', 'paced', 'pacha', 'pacific', 'pacino', 'pack', 'package', 'packard', 'packed', 'paco', 'pact', 'pacts', 'pagan', 'page', 'pageant', 'paid', 'paige', 'pain', 'painful', 'painfully', 'paint', 'painter', 'painting', 'pair', 'paired', 'pakistan', 'pakistani', 'pal', 'palace', 'palestinians', 'palisades', 'palm', 'palma', 'palmer', 'palo', 'palomino', 'palpable', 'pals', 'paltrow', 'pam', 'pampered', 'pan', 'panama', 'panda', 'pandaemonium', 'pandemic', 'pandid', 'pandora', 'pandoras', 'panem', 'panettiere', 'panic', 'panicky', 'panther', 'pants', 'paper', 'parachuted', 'parade', 'paradise', 'parallel', 'paralympic', 'paralyzed', 'paramedic', 'paranoid', 'paranormal', 'paraplegic', 'parapsychology', 'parasitic', 'parenthood', 'parents', 'paris', 'paris1910', 'parisbased', 'parisian', 'park', 'parker', 'parking', 'parkingtons', 'parks', 'parlor', 'parodied', 'parody', 'parole', 'paroled', 'parr', 'parrish', 'part', 'participate', 'participated', 'participation', 'particular', 'particularly', 'parties', 'partner', 'partnered', 'partners', 'partnership', 'parts', 'parttime', 'party', 'partygidget', 'partying', 'pass', 'passage', 'passed', 'passenger', 'passengers', 'passes', 'passion', 'passionate', 'passionless', 'passions', 'past', 'pasternak', 'pastor', 'pat', 'patch', 'path', 'paths', 'patience', 'patient', 'patients', 'patriarch', 'patric', 'patricios', 'patrick', 'patricks', 'patti', 'patton', 'patty', 'paul', 'paula', 'pauline', 'pawn', 'pawnbrokers', 'pay', 'payback', 'paycheck', 'paying', 'payne', 'pays', 'pc', 'pd', 'peace', 'peaceful', 'peacekeeping', 'peak', 'pearl', 'pearls', 'pearson', 'peasant', 'peculiar', 'pedlar', 'pedro', 'peek', 'peer', 'peers', 'peggy', 'pei', 'peltzer', 'penal', 'penchant', 'pendant', 'penguin', 'penguins', 'penleric', 'penn', 'pennsylvania', 'penny', 'pennys', 'pentagon', 'penélope', 'people', 'pepper', 'pequod', 'percy', 'perfect', 'perfecting', 'perfection', 'perfectly', 'perform', 'performances', 'performer', 'performers', 'performerturnedsnitch', 'performing', 'performs', 'perilous', 'period', 'periods', 'perky', 'permanent', 'permitted', 'pernambuco', 'pero', 'perpetrators', 'perpetual', 'perraults', 'perrier', 'perrin', 'perry', 'perrys', 'perseus', 'perseusthe', 'persian', 'persistent', 'person', 'personal', 'personality', 'personas', 'persons', 'perspective', 'perspectives', 'persuaded', 'persuades', 'pertaining', 'peruvian', 'pesci', 'pesky', 'pests', 'pet', 'petalson', 'pete', 'peter', 'peters', 'petersen', 'petes', 'petit', 'petits', 'pets', 'petty', 'pevensie', 'peyton', 'pfeiffer', 'phantom', 'pharaoh', 'pharmaceutical', 'phase', 'phd', 'phelan', 'phelps', 'phenomena', 'phenomenal', 'phenomenon', 'phil', 'philadelphia', 'philip', 'philippe', 'philippineamerican', 'philippines', 'phillip', 'phillips', 'philosopher', 'philosophical', 'philosophy', 'phin', 'phobias', 'phoenix', 'phone', 'phones', 'phonetics', 'phony', 'photo', 'photographed', 'photographer', 'photographs', 'photography', 'photoreal', 'photos', 'physical', 'physically', 'physician', 'pi', 'pianist', 'picard', 'picaresque', 'pick', 'picks', 'pictish', 'picture', 'pictures', 'piece', 'pieces', 'piedmont', 'pierce', 'piercing', 'pierre', 'pierrot', 'pig', 'pigeon', 'pigeons', 'piglet', 'pigs', 'pike', 'piles', 'pileup', 'pilgrim', 'pilgrims', 'pill', 'pillar', 'pilot', 'pilots', 'pimp', 'pincus', 'pines', 'pingleton', 'pink', 'pinkie', 'pinnacle', 'pinocchio', 'pint', 'pioneer', 'pioneered', 'piper', 'pirate', 'pirates', 'pistachio', 'pit', 'pitch', 'pitchman', 'pitka', 'pits', 'pitted', 'pitting', 'pittsburgh', 'pivotal', 'pizza', 'pizzeria', 'pk', 'pl', 'place', 'placed', 'placement', 'places', 'placesthe', 'placid', 'placing', 'plague', 'plagued', 'plain', 'plainview', 'plame', 'plan', 'plane', 'planes', 'planet', 'planets', 'planned', 'planner', 'planners', 'planning', 'plans', 'plant', 'plantation', 'planted', 'plastic', 'plastics', 'platinum', 'platonic', 'play', 'playa', 'playboy', 'played', 'player', 'players', 'playerturnedgolf', 'playground', 'playing', 'plays', 'playwright', 'plea', 'pleasant', 'pleasantly', 'please', 'pleasure', 'pledged', 'pledges', 'pledging', 'plenty', 'plight', 'plot', 'plots', 'plucked', 'plucks', 'plumbers', 'plummer', 'plump', 'plunge', 'plunged', 'plunges', 'plus', 'plussized', 'pluto', 'po', 'pobby', 'podcast', 'poe', 'poes', 'poet', 'poetry', 'poetryloving', 'poignant', 'point', 'points', 'poison', 'poisoned', 'poker', 'pokerplaying', 'poland', 'polanski', 'polar', 'polatkin', 'pole', 'police', 'policeman', 'policemen', 'policy', 'polio', 'polished', 'political', 'politically', 'politician', 'politicians', 'politics', 'pollutes', 'polly', 'poltergeists', 'pompeii', 'pond', 'ponderosa', 'pony', 'ponyboy', 'pooh', 'pool', 'poor', 'pootie', 'pop', 'pope', 'popeye', 'popper', 'pops', 'popstar', 'populace', 'popular', 'popularity', 'populated', 'population', 'por', 'porch', 'porno', 'pornographic', 'port', 'portal', 'porter', 'porthos', 'portia', 'portlandbased', 'porto', 'portokalos', 'portrait', 'portray', 'portrayal', 'portraying', 'portrays', 'pose', 'poseidon', 'posh', 'posing', 'position', 'positions', 'possess', 'possessed', 'possesses', 'possessing', 'possession', 'possibility', 'possible', 'post', 'postapocalyptic', 'postdivorce', 'poster', 'posters', 'postkatrina', 'posttornado', 'posttraumatic', 'postwidowhood', 'pot', 'potato', 'potent', 'potentially', 'potter', 'pottymouthed', 'pound', 'pounds', 'poverty', 'pow', 'powell', 'power', 'powered', 'powerful', 'powerfully', 'powerhungry', 'powers', 'powerss', 'pows', 'pr', 'practice', 'practiced', 'practices', 'prada', 'praised', 'pranks', 'pranksters', 'pratap', 'prayer', 'preacher', 'precinct', 'precious', 'precivil', 'precocious', 'precrime', 'predating', 'predator', 'predecessor', 'predicament', 'predict', 'predominantly', 'prefame', 'prefers', 'prefontaine', 'pregnancy', 'pregnant', 'prehistoric', 'prejudice', 'prejudices', 'premed', 'premiere', 'premonition', 'prenuptial', 'prep', 'preparation', 'prepare', 'prepared', 'prepares', 'preparing', 'prequel', 'prescott', 'prescribed', 'prescribing', 'prescription', 'presence', 'present', 'presentará', 'presentation', 'presentday', 'presented', 'presents', 'presidency', 'president', 'presidential', 'presidents', 'presley', 'press', 'pressure', 'pressured', 'pressures', 'prestigious', 'presumed', 'pretend', 'pretending', 'pretty', 'preunified', 'prevail', 'prevent', 'prevents', 'previous', 'prey', 'price', 'priceless', 'prices', 'pride', 'priest', 'priests', 'primal', 'prime', 'primetime', 'primitive', 'prince', 'princess', 'princeton', 'principle', 'principled', 'print', 'prior', 'priorities', 'priscilla', 'prison', 'prisoner', 'prisons', 'pristine', 'private', 'privileged', 'priya', 'prize', 'prizefighter', 'pro', 'probationary', 'probes', 'probing', 'problem', 'problems', 'procedure', 'procedures', 'proceeds', 'process', 'procreate', 'prodigies', 'prodigious', 'prodigy', 'produce', 'produced', 'producer', 'produces', 'product', 'production', 'products', 'professional', 'professor', 'professors', 'profiler', 'profiling', 'profion', 'profit', 'profitable', 'profoundly', 'progeria', 'program', 'programmed', 'programmer', 'programmers', 'programming', 'programs', 'prohibitionera', 'project', 'projectionist', 'projects', 'prolific', 'prom', 'prominent', 'promise', 'promises', 'promising', 'promoter', 'promoters', 'promotes', 'promotion', 'prompting', 'prompts', 'prone', 'pronounced', 'pronto', 'proper', 'property', 'prophecy', 'proposal', 'proposes', 'proprietor', 'prosecution', 'prosecutor', 'prospect', 'prospector', 'prospects', 'prospera', 'prospero', 'prosperous', 'prosser', 'prostitute', 'prostituteturneddrug', 'prot', 'protagonist', 'protect', 'protecting', 'protection', 'protects', 'protest', 'protestant', 'prototype', 'protégé', 'prove', 'proved', 'provence', 'proves', 'provide', 'providence', 'provides', 'providing', 'province', 'provincial', 'proving', 'provocative', 'provoked', 'prowls', 'pruitt', 'prynne', 'pseudonym', 'psychedelic', 'psychiatric', 'psychiatrist', 'psychiatrists', 'psychic', 'psychiccon', 'psychlos', 'psychofiend', 'psychological', 'psychologically', 'psychologist', 'psychology', 'psychoneurotic', 'psychopathic', 'psychotherapist', 'psychotic', 'pu', 'pub', 'public', 'publication', 'publicist', 'publicized', 'publicly', 'publics', 'published', 'publisher', 'publishes', 'pubs', 'pulitzer', 'pull', 'pulled', 'pulls', 'pulp', 'punching', 'punished', 'punisher', 'punishes', 'punishment', 'punk', 'pupil', 'puppet', 'puppetmaker', 'puppetmaster', 'purchase', 'purchases', 'purge', 'purim', 'puritanical', 'purporting', 'purpose', 'purposely', 'pursue', 'pursued', 'pursues', 'pursuing', 'pursuit', 'push', 'pushed', 'pushes', 'pushing', 'puss', 'pussn', 'put', 'puts', 'putting', 'pyramid', 'pérez', 'qorianka', 'quadriplegics', 'quaid', 'quaint', 'qualified', 'qualify', 'qualities', 'quantum', 'quarantine', 'quarantined', 'quarterback', 'quartered', 'quartet', 'quasi', 'quayle', 'queen', 'queenie', 'queens', 'quentin', 'quest', 'question', 'questions', 'quick', 'quickdraw', 'quickly', 'quiet', 'quietly', 'quigley', 'quill', 'quincy', 'quinn', 'quintanilla', 'quintus', 'quirky', 'quite', 'quits', 'quote', 'r', 'rabbi', 'rabbit', 'rabblerouser', 'raccoon', 'race', 'racecar', 'racehorse', 'racer', 'races', 'rachel', 'racial', 'racially', 'racing', 'racist', 'rack', 'racoon', 'radar', 'radha', 'radiation', 'radical', 'radicals', 'radio', 'radios', 'radner', 'rads', 'rae', 'rafael', 'rafe', 'rafea', 'rafferty', 'raffish', 'rafting', 'rage', 'rages', 'raging', 'rags', 'ragtag', 'rahway', 'raid', 'raids', 'rail', 'railroad', 'railway', 'raimunda', 'rain', 'rainbow', 'rainey', 'raining', 'rainy', 'raise', 'raised', 'raises', 'raising', 'raizo', 'raju', 'rallies', 'rally', 'ralph', 'ralstons', 'ram', 'rambis', 'rambo', 'ramirez', 'ramona', 'rampage', 'ramses', 'ramsey', 'ramón', 'ran', 'ranch', 'ranchlands', 'rancho', 'rancor', 'randal', 'randalls', 'randle', 'randolph', 'random', 'randy', 'range', 'ranger', 'rangers', 'rango', 'rank', 'rannulph', 'ransom', 'raoul', 'rap', 'rape', 'raped', 'rapemurder', 'rapes', 'rapid', 'rapidly', 'rapoport', 'rappenaus', 'rapper', 'rare', 'rarely', 'rarelyseen', 'rarified', 'rash', 'rat', 'rated', 'rath', 'rather', 'ratings', 'ratner', 'rats', 'rattled', 'rauch', 'raucous', 'raunchy', 'rautenbach', 'ravage', 'ravaged', 'ravages', 'ravenous', 'raves', 'ravings', 'raw', 'ray', 'raya', 'rayburn', 'raymond', 'rayne', 'razaghi', 'razorwielding', 'rdivision', 'rea', 'reach', 'reached', 'reaches', 'reaction', 'read', 'reads', 'ready', 'reagan', 'real', 'realising', 'realities', 'reality', 'realitytv', 'realize', 'realizes', 'realizing', 'reallife', 'really', 'realm', 'realtor', 'realworld', 'reanimate', 'reanimating', 'reaper', 'reason', 'reasoned', 'reasons', 'reassemble', 'reassesses', 'rebecca', 'rebel', 'rebellion', 'rebellious', 'reboot', 'rebuild', 'rec', 'recall', 'recalls', 'recapture', 'receive', 'receiver', 'receives', 'receiving', 'recent', 'recently', 'recentlyretired', 'recentlywidowed', 'recess', 'recession', 'recipe', 'recipes', 'recited', 'reckless', 'recklessly', 'reclaim', 'recluse', 'reclusive', 'recognized', 'reconcile', 'reconnaissance', 'reconnect', 'reconnects', 'record', 'recording', 'recordist', 'records', 'recounts', 'recover', 'recovered', 'recovering', 'recovers', 'recovery', 'recreate', 'recruit', 'recruited', 'recruiter', 'recruiting', 'recruits', 'recurring', 'red', 'redacted', 'reddy', 'redeemed', 'redemption', 'redemptive', 'redeye', 'redford', 'redheaded', 'rediscovering', 'redlich', 'redman', 'redmond', 'reduced', 'reduces', 'ree', 'reed', 'reede', 'reef', 'reefs', 'reel', 'reeling', 'reemergence', 'reenactments', 'reencounters', 'reese', 'reexamines', 'refer', 'refers', 'reflects', 'reformed', 'refreshing', 'refueling', 'refuge', 'refugee', 'refugees', 'refuses', 'refusing', 'regain', 'regan', 'regarded', 'regarding', 'reggie', 'regime', 'regina', 'regional', 'regions', 'registered', 'regula', 'regular', 'regularly', 'regulates', 'rehab', 'rehabilitative', 'rehearsals', 'rei', 'reich', 'reid', 'reign', 'reigning', 'reignited', 'reigns', 'reilly', 'reimagined', 'reimagining', 'reinvigorate', 'reject', 'rejects', 'rekindle', 'relapses', 'relates', 'relationship', 'relationships', 'relationshipthats', 'relatively', 'relatives', 'relaxed', 'release', 'released', 'relentless', 'relentlessly', 'religion', 'religious', 'relocate', 'relocated', 'relocates', 'reluctant', 'reluctantly', 'rely', 'remain', 'remained', 'remaining', 'remains', 'remake', 'remark', 'remarkable', 'remarried', 'remarrying', 'remedy', 'remember', 'remembering', 'reminiscent', 'reminisces', 'remote', 'removed', 'remy', 'ren', 'renders', 'rendition', 'renee', 'renegade', 'renegadeseric', 'renesmee', 'reno', 'renovating', 'renovations', 'renowned', 'rent', 'renton', 'repair', 'repairing', 'repairman', 'repairmen', 'repay', 'repeat', 'repeating', 'repertory', 'replace', 'replaced', 'replacement', 'reply', 'repo', 'reporter', 'reporters', 'reports', 'represent', 'representative', 'representatives', 'representing', 'repressed', 'reproduce', 'republican', 'reputation', 'request', 'requested', 'reruns', 'rescue', 'rescuechopper', 'rescued', 'rescues', 'research', 'researcher', 'researchers', 'researching', 'reservation', 'reserve', 'residence', 'resident', 'residents', 'residing', 'resigned', 'resigns', 'resist', 'resistance', 'resists', 'resolved', 'resort', 'resources', 'respected', 'respective', 'responded', 'responds', 'response', 'responsibility', 'responsible', 'rest', 'restaurant', 'restauranteur', 'restaurateur', 'rested', 'restless', 'restlessness', 'restore', 'restores', 'restoring', 'restroom', 'rests', 'result', 'resulted', 'results', 'resumes', 'resuming', 'resurfaces', 'resurrected', 'resurrection', 'retelling', 'retells', 'reticent', 'retire', 'retired', 'retirees', 'retirement', 'retiring', 'retold', 'retracing', 'retreat', 'retreating', 'retribution', 'retrieve', 'return', 'returned', 'returning', 'returns', 'reuben', 'reunion', 'reunite', 'reunited', 'reunites', 'rev', 'revanche', 'reveal', 'revealed', 'revealing', 'reveals', 'revel', 'revelations', 'revelry', 'revenge', 'revengeforhire', 'revengeseeking', 'reverend', 'reversechronological', 'reversed', 'review', 'reviews', 'revived', 'revolution', 'revolutionary', 'revolutionist', 'revolutionize', 'revolves', 'rewind', 'reworking', 'rey', 'reyes', 'reynold', 'reynolds', 'reznik', 'rhett', 'rhode', 'rhyme', 'rhymes', 'rhythms', 'rice', 'rich', 'richard', 'richards', 'richardson', 'riches', 'richie', 'richman', 'richmond', 'rick', 'rickie', 'ricks', 'ricky', 'rico', 'rid', 'riddick', 'riddler', 'riddles', 'ride', 'rider', 'rides', 'ridiculously', 'riding', 'ridley', 'rife', 'riff', 'riffs', 'rift', 'rig', 'riggs', 'right', 'rightful', 'righthand', 'rights', 'riker', 'riley', 'ring', 'ringing', 'ringo', 'rings', 'rink', 'rio', 'riot', 'riots', 'ripley', 'ripleys', 'ripped', 'ripper', 'ripping', 'rise', 'rises', 'rising', 'risk', 'risked', 'risks', 'risktaker', 'risky', 'ritchie', 'rite', 'rival', 'rivalries', 'rivalry', 'rivals', 'river', 'rivera', 'rivers', 'riveting', 'riviera', 'rizwan', 'rizzos', 'rl', 'road', 'roadie', 'roads', 'roadside', 'roadtrip', 'roaming', 'roams', 'roar', 'roaring', 'roars', 'rob', 'robber', 'robbers', 'robbery', 'robbie', 'robbing', 'robert', 'roberto', 'roberts', 'robin', 'robins', 'robinson', 'robinsons', 'robocop', 'robot', 'robotic', 'robotics', 'robots', 'roc', 'rochester', 'rock', 'rockandroll', 'rockatansky', 'rocked', 'rocker', 'rocket', 'rocknroll', 'rocks', 'rockumentary', 'rockwell', 'rocky', 'rod', 'roddy', 'rodents', 'rodgers', 'rodman', 'rodney', 'rodrick', 'rodriguez', 'rogen', 'roger', 'rogers', 'rogue', 'roguish', 'roland', 'role', 'roll', 'roller', 'rollercoaster', 'rollicking', 'rolling', 'roman', 'romance', 'romancing', 'romania', 'romanian', 'romano', 'romantic', 'romantically', 'romanticallyengaged', 'rome', 'romeo', 'romeros', 'romulus', 'ron', 'ronnie', 'ronny', 'roo', 'rooftop', 'rookie', 'room', 'rooming', 'roommate', 'rooms', 'rooney', 'roosevelt', 'roots', 'roped', 'rory', 'rosanna', 'rosario', 'rose', 'rosenfeld', 'roshan', 'roslyn', 'rosow', 'ross', 'roth', 'rotten', 'rotting', 'rough', 'roughhewn', 'round', 'rourke', 'route', 'routine', 'routinely', 'row', 'rowan', 'rowdiest', 'roxie', 'roxy', 'roy', 'royal', 'royale', 'royalty', 'roz', 'rrated', 'rubbles', 'rubin', 'ruby', 'rude', 'rudy', 'ruff', 'ruffians', 'ruffles', 'rugby', 'rugged', 'rugrats', 'ruins', 'rule', 'ruled', 'rules', 'rumor', 'rumored', 'rumors', 'rumours', 'rumpelstiltskin', 'run', 'runaway', 'rundown', 'runner', 'running', 'runs', 'runt', 'runway', 'runyons', 'rural', 'ruritarian', 'rush', 'rushes', 'rushhour', 'russ', 'russell', 'russia', 'russian', 'russians', 'russias', 'rust', 'rustic', 'rusty', 'ruth', 'ruthless', 'rwanda', 'ryan', 'ryden', 's', 'sabbatical', 'sabotage', 'sack', 'sacramento', 'sacred', 'sad', 'saddam', 'saddles', 'sade', 'sadelstein', 'sadie', 'sadistic', 'sadness', 'safari', 'safe', 'safecracker', 'safety', 'saga', 'sagdiyev', 'sai', 'said', 'sail', 'sailboat', 'sailing', 'sailor', 'sailors', 'saint', 'saintpierre', 'saints', 'sal', 'salacious', 'saldana', 'sale', 'salem', 'sales', 'salesgirl', 'salesman', 'salesmen', 'salford', 'sally', 'salmon', 'salon', 'salondeprovence', 'salt', 'salvador', 'salvage', 'salvagers', 'sam', 'samantha', 'samarza', 'same', 'samoan', 'sampedro', 'samsara', 'samuel', 'samurai', 'san', 'sanborn', 'sanchez', 'sanctuary', 'sanctum', 'sancturary', 'sand', 'sanders', 'sanderson', 'sandidge', 'sandra', 'sandvoss', 'sandy', 'sanford', 'sanity', 'sant', 'santa', 'santas', 'santiago', 'santoro', 'sara', 'sarah', 'sarchie', 'sarge', 'sariah', 'sasha', 'satan', 'satellite', 'satellites', 'satire', 'satisfied', 'satisfying', 'saturday', 'saturn', 'saunders', 'sausage', 'savage', 'savannah', 'savant', 'save', 'saved', 'saves', 'saving', 'savva', 'saw', 'saxophone', 'say', 'says', 'scale', 'scalping', 'scam', 'scammed', 'scandal', 'scandinavian', 'scarboro', 'scarcely', 'scare', 'scared', 'scares', 'scariest', 'scaring', 'scarlet', 'scarlett', 'scarred', 'scary', 'scatter', 'scene', 'scenery', 'scenes', 'scent', 'scheck', 'schedule', 'scheduled', 'scheffer', 'scheme', 'schemes', 'scheming', 'schindler', 'schizophrenic', 'schlickmann', 'schluufys', 'schmidt', 'schmith', 'schnabel', 'schoeck', 'scholarship', 'school', 'schoolboy', 'schoolboys', 'schooler', 'schoolers', 'schools', 'schoolteacher', 'schram', 'schwarzenegger', 'science', 'scientific', 'scientist', 'scientists', 'scifi', 'scissors', 'scooped', 'scoops', 'scorch', 'scores', 'scorned', 'scorsese', 'scorseses', 'scot', 'scotland', 'scott', 'scottish', 'scourge', 'scouring', 'scours', 'scout', 'scrabble', 'scramble', 'scraping', 'scream', 'screams', 'screen', 'screenplay', 'screenwriter', 'script', 'scripted', 'scrooge', 'scrubb', 'scrupulously', 'scudder', 'scully', 'scuttle', 'sea', 'seagull', 'seal', 'sealed', 'seals', 'seamstress', 'sean', 'sear', 'search', 'searches', 'searching', 'seared', 'seaside', 'season', 'seasoned', 'seasons', 'seat', 'seattle', 'sebastian', 'secluded', 'second', 'secondary', 'secondhand', 'secondhighest', 'seconds', 'secrecy', 'secret', 'secretary', 'secretly', 'secrets', 'section', 'secured', 'securities', 'security', 'sedan', 'sedgwick', 'seduce', 'seduced', 'seduces', 'seducing', 'seductive', 'see', 'seeing', 'seek', 'seeking', 'seeks', 'seem', 'seemed', 'seemingly', 'seems', 'seen', 'seenbetterdays', 'seenitall', 'sees', 'segment', 'segments', 'segregation', 'seizes', 'sela', 'selected', 'selena', 'selene', 'selfabsorbed', 'selfcentered', 'selfdefense', 'selfdestruct', 'selfdestruction', 'selfdetermined', 'selfesteem', 'selfhelp', 'selfish', 'selfmade', 'selfproclaimed', 'sell', 'selling', 'sells', 'selma', 'selves', 'semblance', 'semiautobiographical', 'seminary', 'semiprofessional', 'senator', 'send', 'sends', 'senior', 'seniors', 'sensation', 'sensations', 'sense', 'sensitive', 'sensual', 'sent', 'sentence', 'sentenced', 'separate', 'separated', 'separates', 'separation', 'september', 'sequel', 'sequences', 'sequestered', 'serbian', 'serbs', 'serenity', 'sergeant', 'sergio', 'serial', 'series', 'serious', 'serpent', 'servants', 'serve', 'served', 'serves', 'service', 'services', 'serving', 'session', 'set', 'seth', 'sethe', 'sethis', 'sets', 'setting', 'settle', 'settled', 'settlement', 'settlers', 'settles', 'settling', 'setup', 'seven', 'sevenmilewide', 'seventeenyearold', 'seventh', 'several', 'severe', 'severely', 'seville', 'sevilles', 'sewer', 'sewers', 'sex', 'sexaddicted', 'sexual', 'sexuality', 'sexually', 'sexy', 'seymour', 'sf', 'sg1', 'sgt', 'shack', 'shacks', 'shadow', 'shadowy', 'shady', 'shaft', 'shagadelic', 'shake', 'shaken', 'shakespeare', 'shakespearean', 'shakespeares', 'shakur', 'shaky', 'shalako', 'shallow', 'shan', 'shane', 'shanghai', 'shantytown', 'shaolin', 'shapeshifting', 'share', 'sharecropping', 'shared', 'shares', 'shari', 'sharing', 'shark', 'sharklike', 'sharks', 'sharp', 'sharpay', 'sharply', 'sharpshooter', 'sharpwitted', 'shattered', 'shatters', 'shaun', 'shaw', 'she', 'shear', 'shed', 'sheen', 'sheenas', 'sheepherding', 'sheet', 'sheffield', 'shelby', 'sheldon', 'shelley', 'shellshocked', 'shelter', 'sheltered', 'shelton', 'shenanigans', 'shepard', 'shepherd', 'shere', 'sheriff', 'sheriffs', 'sherlock', 'sherman', 'sherry', 'shes', 'shielded', 'shift', 'shin', 'shine', 'shining', 'ship', 'shipment', 'shipped', 'ships', 'shipwreck', 'shipwrecked', 'shipwrecks', 'shipyard', 'shirley', 'shiverpool', 'shivudu', 'shiwan', 'shock', 'shocked', 'shocking', 'shocks', 'shoe', 'shoes', 'shoeshiner', 'shoestring', 'shooting', 'shootout', 'shoots', 'shop', 'shoppers', 'shopping', 'shops', 'shore', 'shores', 'short', 'shortly', 'shorts', 'shortterm', 'shot', 'shotgun', 'should', 'shoulder', 'shoulders', 'shoving', 'show', 'showcases', 'showdown', 'showing', 'showman', 'shows', 'shredder', 'shrek', 'shrine', 'shrink', 'shuns', 'shut', 'shutting', 'shuttle', 'shy', 'siam', 'siamese', 'sibling', 'siblings', 'sick', 'sickly', 'sicklysweet', 'sickness', 'sicko', 'sid', 'siddig', 'side', 'sidekick', 'sidelines', 'sidney', 'siege', 'sierra', 'sifts', 'sight', 'sights', 'sign', 'signal', 'signed', 'significant', 'signs', 'sikes', 'silas', 'silent', 'siler', 'silverado', 'silverton', 'silvia', 'simba', 'simbu', 'similar', 'simmons', 'simon', 'simons', 'simple', 'simpleton', 'simply', 'simpson', 'simpsons', 'sims', 'simultaneous', 'simultaneously', 'sin', 'sinai', 'since', 'sing', 'singer', 'singers', 'singersongwriter', 'singh', 'singing', 'singingdancing', 'single', 'singlemindedly', 'singles', 'singularity', 'sinise', 'sinister', 'sinking', 'sinkings', 'sins', 'sinuhe', 'sir', 'sirius', 'sissel', 'sister', 'sisterhood', 'sisters', 'sit', 'sitcom', 'site', 'sits', 'sitter', 'sitting', 'situation', 'situations', 'six', 'sixday', 'sixecho', 'sixfoot', 'sixteen', 'sixteenseventeen', 'sixteenyearold', 'sixth', 'sixtieth', 'sixtysomething', 'sixyear', 'sixyearold', 'size', 'sizzles', 'skate', 'skateboarding', 'skater', 'skeeter', 'skeleton', 'skepticism', 'sketch', 'ski', 'skid', 'skidding', 'skids', 'skies', 'skilled', 'skillfully', 'skills', 'skin', 'skinner', 'skip', 'skipper', 'skirt', 'skits', 'skulls', 'sky', 'skylark', 'skype', 'skywalker', 'slacker', 'slackers', 'slade', 'slain', 'slaking', 'slam', 'slamdunking', 'slasher', 'slated', 'slater', 'slaughter', 'slaughtered', 'slave', 'slavelike', 'slavery', 'slaves', 'slavin', 'slay', 'slayers', 'slaying', 'sleazy', 'sled', 'sleep', 'sleeping', 'sleepy', 'sleuth', 'slevin', 'slick', 'slicktalking', 'sliding', 'slim', 'slip', 'slippery', 'slipping', 'slips', 'sloane', 'sloth', 'slovakia', 'slovakian', 'slovenly', 'slowed', 'slowly', 'slumber', 'slums', 'sluzhkin', 'sly', 'small', 'smallbusiness', 'smalltime', 'smalltown', 'smart', 'smartass', 'smarter', 'smashes', 'smaug', 'smear', 'smelly', 'smile', 'smiley', 'smilla', 'smith', 'smithee', 'smithschmidt', 'smitten', 'smogchoked', 'smokey', 'smoking', 'smooth', 'smuggler', 'smugglers', 'smuggling', 'smurflike', 'smurfs', 'snack', 'snap', 'snapshots', 'snatch', 'snatched', 'sneaking', 'sneaks', 'sniffing', 'sniper', 'snipes', 'snobbish', 'snoopy', 'snorts', 'snow', 'snowboarding', 'snowbound', 'snowclad', 'snowed', 'snowflake', 'snowmobile', 'snowy', 'so', 'soap', 'soared', 'sober', 'soccer', 'social', 'socialism', 'socialize', 'socially', 'sociallyrejected', 'society', 'sociopath', 'sociopathic', 'socs', 'sofia', 'softball', 'softcore', 'software', 'soil', 'solace', 'solar', 'solaris', 'sold', 'soldier', 'soldiers', 'soldierturnedus', 'sole', 'soleil', 'solid', 'solitary', 'solo', 'solomon', 'solutions', 'solve', 'solves', 'somali', 'some', 'somehow', 'someone', 'something', 'sometime', 'sometimes', 'somewhat', 'somewhere', 'sommerton', 'son', 'song', 'songanddance', 'songbook', 'songs', 'songwriter', 'songwriters', 'sonny', 'sons', 'soon', 'soontobe', 'sophie', 'sophisticated', 'sorcerer', 'sorcerers', 'sorcery', 'sorcha', 'soren', 'sorority', 'sorts', 'sos', 'sosuke', 'sought', 'soul', 'soulless', 'souls', 'sound', 'sounds', 'soundtrack', 'sour', 'sources', 'south', 'southeast', 'southern', 'southport', 'southside', 'southwest', 'southwestern', 'souza', 'soviet', 'soviets', 'space', 'spacecraft', 'spacefreighter', 'spaceship', 'spacetime', 'spacetraveling', 'spain', 'spains', 'spalko', 'spaniard', 'spanish', 'spanning', 'spans', 'sparked', 'sparkle', 'sparkling', 'sparks', 'sparky', 'sparrow', 'spats', 'speak', 'speakeasy', 'speaker', 'speaking', 'speaks', 'spear', 'special', 'specialist', 'specialists', 'specializes', 'specializing', 'specials', 'species', 'speckles', 'spectacles', 'spectacular', 'spectrum', 'speculation', 'speech', 'speed', 'spell', 'spencer', 'spend', 'spending', 'spends', 'spent', 'spice', 'spicy', 'spider', 'spiderman', 'spiderwick', 'spiegelman', 'spies', 'spike', 'spill', 'spin', 'spinelli', 'spinetingling', 'spins', 'spiral', 'spirit', 'spirited', 'spirits', 'spiritual', 'spit', 'spiteful', 'spits', 'splash', 'split', 'spock', 'spocks', 'spoiled', 'spokane', 'spoken', 'spokesmans', 'spokesperson', 'sponsors', 'spoof', 'spoofed', 'spooky', 'sport', 'sportello', 'sports', 'sportswriter', 'spot', 'spotlight', 'spotted', 'spouse', 'spouses', 'sprawling', 'spread', 'spreading', 'spreads', 'spree', 'spring', 'springer', 'springfield', 'springs', 'sprinter', 'spun', 'spunky', 'spurlock', 'spurrier', 'spurs', 'spy', 'squad', 'squadron', 'square', 'squeegee', 'squid', 'squire', 'squirrel', 'sr', 'st', 'stability', 'stables', 'stacie', 'stacy', 'staff', 'stage', 'staged', 'stages', 'staging', 'stairs', 'stakes', 'stale', 'stalemated', 'stalinera', 'stalk', 'stalked', 'stalkers', 'stalking', 'stalks', 'stallion', 'stalls', 'stalwart', 'stamp', 'stamping', 'stan', 'stand', 'standard', 'standing', 'standoff', 'stands', 'standstill', 'standup', 'stanfield', 'stanley', 'stanleys', 'stanton', 'star', 'starcrossed', 'stardom', 'starfleet', 'stark', 'starks', 'starling', 'starmaking', 'starr', 'starring', 'stars', 'starsky', 'starstudded', 'starsuckers', 'start', 'started', 'starter', 'starting', 'starts', 'starving', 'stashed', 'stasi', 'state', 'stateoftheart', 'states', 'station', 'stationed', 'statistically', 'statrapi', 'statue', 'status', 'stauffenberg', 'stay', 'stayathome', 'stayed', 'steal', 'stealing', 'steals', 'stealth', 'stealthfighter', 'steed', 'steel', 'steele', 'steelhead', 'steels', 'steelworker', 'steinmark', 'stella', 'stellas', 'stench', 'step', 'stepbrother', 'stepdad', 'stepfather', 'stepford', 'stephen', 'steppe', 'stepped', 'steps', 'stern', 'steroids', 'stetko', 'steve', 'steven', 'stevens', 'stewardesses', 'stewart', 'stick', 'stickell', 'stieg', 'stiff', 'still', 'stiller', 'stillgreen', 'stine', 'sting', 'stint', 'stirs', 'stitches', 'stitzer', 'stock', 'stockbroker', 'stockburn', 'stockman', 'stockpile', 'stoddard', 'stoic', 'stokers', 'stolen', 'stoltz', 'stone', 'stonebanks', 'stoner', 'stoners', 'stones', 'stonewall', 'stood', 'stop', 'stopmotion', 'stopped', 'stopping', 'stops', 'storage', 'store', 'stores', 'stories', 'storks', 'storm', 'story', 'storybook', 'storylined', 'storylines', 'strahm', 'straight', 'straighten', 'straightforward', 'straightlaced', 'straights', 'strain', 'strained', 'straitlaced', 'stranded', 'strands', 'strange', 'stranger', 'strangers', 'strangest', 'strangling', 'strap', 'strategy', 'stray', 'streak', 'street', 'streetcorner', 'streetracer', 'streets', 'streetsmart', 'streetwise', 'streisand', 'strength', 'stress', 'stressful', 'stretch', 'stretching', 'strict', 'strictest', 'strictly', 'strike', 'striker', 'strikes', 'string', 'stringer', 'strip', 'stripes', 'stripped', 'stripper', 'strips', 'strives', 'strode', 'stroke', 'strong', 'stronger', 'stronghold', 'strongwilled', 'structural', 'struggle', 'struggled', 'struggles', 'struggling', 'stryder', 'stryker', 'stu', 'stuart', 'stubborn', 'stuck', 'student', 'students', 'studied', 'studio', 'studios', 'studious', 'study', 'studying', 'stumble', 'stumbled', 'stumbles', 'stumbling', 'stunned', 'stunning', 'stunt', 'stunts', 'stupidity', 'stus', 'style', 'styles', 'stylish', 'stylist', 'styron', 'suave', 'sub', 'subconscious', 'subculture', 'subdivision', 'subduing', 'subjected', 'subjects', 'sublimated', 'submarine', 'submarines', 'subsequent', 'substance', 'subterfuge', 'suburb', 'suburban', 'suburbanites', 'suburbs', 'subway', 'succeed', 'succeeds', 'succesful', 'success', 'successes', 'successful', 'successfully', 'succession', 'successor', 'succumbs', 'such', 'sucked', 'sudden', 'suddenly', 'sue', 'sued', 'suffered', 'suffering', 'suffers', 'sugar', 'suggests', 'suicidal', 'suicidally', 'suicide', 'suicides', 'suitable', 'suitcase', 'sulley', 'sullivan', 'sullivans', 'sultan', 'sultenfuss', 'sum', 'summer', 'summerhouse', 'summers', 'summertime', 'summit', 'summoned', 'summons', 'sumner', 'sumptuous', 'sun', 'sundance', 'sunday', 'sunglasses', 'sunk', 'sunny', 'sunset', 'sunshine', 'super', 'super8', 'superagent', 'supercomputers', 'superdog', 'superficial', 'superhero', 'superheroes', 'superintelligent', 'superintendent', 'superior', 'superman', 'supermarket', 'supernatural', 'supernova', 'superpowers', 'supersexist', 'superspy', 'superstar', 'superstars', 'superstore', 'supervillain', 'supervillains', 'supervision', 'supervisor', 'supply', 'support', 'supporter', 'supposed', 'supposedly', 'suppressing', 'supreme', 'supremely', 'sure', 'surf', 'surface', 'surfer', 'surfers', 'surfing', 'surgeon', 'surgery', 'surly', 'surprise', 'surprises', 'surratt', 'surrogate', 'surrounded', 'surrounding', 'surrounds', 'surveillance', 'surveys', 'survival', 'survive', 'survived', 'survives', 'surviving', 'survivor', 'survivors', 'susan', 'susann', 'susanna', 'susie', 'suspect', 'suspected', 'suspecting', 'suspects', 'suspended', 'suspense', 'suspenseful', 'suspicion', 'suspicious', 'sustaining', 'sustains', 'suv', 'suzanne', 'suzie', 'swamp', 'swamplands', 'swan', 'swanky', 'swanson', 'swap', 'swarms', 'swat', 'swath', 'sway', 'swaziland', 'swears', 'sweden', 'swedish', 'sweeney', 'sweeping', 'sweeps', 'sweet', 'sweethearts', 'sweetnatured', 'sweetwater', 'sweetzer', 'sweltering', 'swept', 'swimmer', 'swindle', 'swindles', 'swindling', 'swing', 'swingin', 'switch', 'switchblade', 'switched', 'swoffords', 'sword', 'swordwielding', 'swore', 'sy', 'sycamore', 'syd', 'sydney', 'symbol', 'symbologist', 'sympathies', 'symphony', 'sync', 'syndicate', 'syndrome', 'syriana', 'system', 'szpilman', 't', 'taber', 'table', 'tables', 'tablet', 'tabloid', 'tactical', 'tactics', 'taft', 'taggart', 'tahoe', 'tai', 'tail', 'tailor', 'tainted', 'take', 'taken', 'takenoprisoners', 'takes', 'taking', 'talbot', 'tale', 'talent', 'talented', 'talentless', 'talents', 'tales', 'talk', 'talkative', 'talking', 'talks', 'tall', 'tallahassee', 'tallis', 'tally', 'tamilynn', 'tamino', 'tang', 'tango', 'tank', 'tankriding', 'tanner', 'tape', 'tara', 'tarantino', 'target', 'targeted', 'targets', 'tariqs', 'tarnishes', 'tarttongued', 'tarzan', 'task', 'tasked', 'tasker', 'tasmin', 'taste', 'tastes', 'tate', 'tatooine', 'tattooed', 'tau', 'taught', 'tautou', 'tax', 'taxi', 'taxidriver', 'taybacks', 'taylor', 'td', 'te', 'teach', 'teacher', 'teachers', 'teaches', 'teaching', 'teachings', 'team', 'teammates', 'teams', 'teamsters', 'teamup', 'teapot', 'technical', 'technique', 'techno', 'technological', 'technology', 'techsavvy', 'ted', 'teddy', 'teen', 'teena', 'teenage', 'teenaged', 'teenager', 'teenagers', 'teens', 'teensocialite', 'teeters', 'tejano', 'tel', 'telekinesis', 'telekinetic', 'telepathic', 'telephone', 'teleport', 'television', 'tell', 'telling', 'tellis', 'tells', 'temblor', 'temp', 'temper', 'temperamental', 'temple', 'temporarily', 'tempted', 'ten', 'tenacious', 'tending', 'tenenbaums', 'tennessee', 'tennis', 'tenor', 'tense', 'tension', 'tensions', 'tenth', 'tenuous', 'tenyear', 'tepes', 'terence', 'teri', 'term', 'terminal', 'terminally', 'terminated', 'termination', 'terminator', 'terms', 'terrain', 'terrance', 'terrence', 'terrestrial', 'terri', 'terrible', 'terrier', 'terrific', 'terrified', 'terrifying', 'terror', 'terrorised', 'terrorism', 'terrorist', 'terrorists', 'terrorize', 'terrorized', 'terrorizes', 'terry', 'terumi', 'tess', 'test', 'tested', 'testify', 'tests', 'tetsuo', 'texan', 'texas', 'text', 'thai', 'thailand', 'than', 'thanks', 'thanksgiving', 'that', 'thatcher', 'thats', 'the', 'theater', 'theatre', 'theft', 'their', 'them', 'theme', 'themselves', 'then', 'then19yearold', 'theo', 'theodore', 'theories', 'theorists', 'theory', 'therapist', 'there', 'therefore', 'theres', 'theresa', 'thermopolis', 'these', 'theseus', 'thespian', 'they', 'theyre', 'theyve', 'thibault', 'thief', 'thieves', 'thin', 'thing', 'things', 'think', 'thinking', 'thinks', 'thinner', 'third', 'thirst', 'thirteen', 'thirteenth', 'thirteenyearold', 'thirties', 'thirty', 'this', 'thomas', 'thompson', 'thor', 'thorn', 'thorndyke', 'thornton', 'thoroughbred', 'those', 'though', 'thought', 'thoughtful', 'thoughtless', 'thousand', 'thousands', 'threat', 'threaten', 'threatened', 'threatening', 'threatens', 'threats', 'three', 'threetiered', 'threetime', 'threshold', 'thriller', 'thrilling', 'thrillseeking', 'thrive', 'throes', 'throne', 'through', 'throughout', 'throw', 'thrown', 'throws', 'thrust', 'thug', 'thugs', 'thunder', 'thunderbirds', 'thurman', 'thwarted', 'ti', 'tibby', 'tiber', 'tibet', 'tibetan', 'tibetans', 'ticket', 'tickets', 'tickettaker', 'tickingtimebomb', 'tide', 'tie', 'tied', 'ties', 'tiffany', 'tiger', 'tigers', 'tightknit', 'tightly', 'tightlycontrolled', 'tightrope', 'tilen', 'till', 'tim', 'time', 'timelapse', 'timeless', 'times', 'timetravel', 'timid', 'timmy', 'tims', 'tina', 'tinseltown', 'tintin', 'tiny', 'tire', 'tired', 'tires', 'titan', 'titled', 'tk', 'to', 'tobacco', 'tobe', 'tobey', 'tobi', 'tobias', 'today', 'todays', 'todd', 'together', 'toilet', 'toils', 'tokyo', 'told', 'tolerance', 'toll', 'toller', 'tolstoys', 'tom', 'tomato', 'tomb', 'tomboy', 'tomboyish', 'tommaso', 'tommy', 'tomorrow', 'tomás', 'tong', 'tongmenghui', 'tongueincheek', 'tonight', 'tonks', 'tonorio', 'tony', 'tonys', 'too', 'toofie', 'took', 'tooth', 'top', 'topher', 'topsecret', 'toretto', 'tormenta', 'tormented', 'torn', 'tornadoes', 'tornadohunter', 'toro', 'toronto', 'torrance', 'torture', 'tortured', 'tory', 'tossed', 'total', 'totalitarian', 'totally', 'touch', 'touched', 'touches', 'touching', 'touchy', 'tough', 'toughest', 'toughtalking', 'tour', 'tourist', 'tourists', 'tournament', 'tours', 'toward', 'towards', 'tower', 'towers', 'town', 'towns', 'townsend', 'townsfolk', 'townspeople', 'toxic', 'toy', 'toymaker', 'toys', 'trace', 'traces', 'tracey', 'track', 'tracked', 'tracking', 'tracks', 'tract', 'tracy', 'trade', 'trader', 'trades', 'tradeunion', 'trading', 'tradition', 'traditional', 'traditionalist', 'traffic', 'tragedy', 'tragic', 'tragically', 'tragicomical', 'trail', 'trailer', 'trailerpark', 'trails', 'train', 'trained', 'trainee', 'trainees', 'trainer', 'training', 'trainload', 'tramell', 'tramp', 'trane', 'tranquil', 'transcendence', 'transexual', 'transfers', 'transform', 'transformed', 'transformers', 'transforming', 'transforms', 'transient', 'transit', 'translate', 'transmission', 'transmissions', 'transplant', 'transport', 'transportation', 'transported', 'transporting', 'transsiberian', 'transylvania', 'trap', 'trapeze', 'trapped', 'trapping', 'traps', 'trash', 'trashtalking', 'trauma', 'traumatic', 'traumatized', 'traumatizing', 'travel', 'traveling', 'travels', 'traven', 'travers', 'travis', 'traîne', 'treacherous', 'treachery', 'treasure', 'treasureladen', 'treasury', 'treat', 'treatment', 'treats', 'trees', 'trek', 'trekking', 'trends', 'trendy', 'trent', 'tretiak', 'trevor', 'trial', 'trials', 'tribe', 'tribes', 'tribesman', 'tribune', 'tricias', 'trick', 'tricked', 'trickle', 'tricks', 'tricky', 'tried', 'tries', 'triggered', 'triggers', 'trilogy', 'trinke', 'trio', 'trip', 'triple', 'tripp', 'trips', 'tris', 'triumph', 'triumphs', 'triwizard', 'troi', 'tromaville', 'trooper', 'troopers', 'troops', 'tropic', 'tropical', 'tropics', 'trost', 'trouble', 'troubled', 'troublemaker', 'troubles', 'troupe', 'trovillion', 'troy', 'truck', 'trucker', 'truckload', 'true', 'truecrime', 'truelife', 'truly', 'truman', 'trumpet', 'trust', 'trusty', 'truth', 'try', 'trying', 'tsunami', 'tuccio', 'tuck', 'tucker', 'tudeski', 'tulip', 'tumorshrinking', 'tumultuous', 'tunnel', 'tupac', 'turaqistan', 'turbulent', 'turing', 'turkey', 'turmoil', 'turn', 'turnblad', 'turned', 'turner', 'turning', 'turnofthe', 'turns', 'turtle', 'turtles', 'tuscany', 'tuskegee', 'tv', 'tvirus', 'tvs', 'tvstar', 'twains', 'tweedsuited', 'twelve', 'twelveyearold', 'twenty', 'twentyeight', 'twentyfive', 'twentyfour', 'twentysomething', 'twentysomethings', 'twentytwo', 'twice', 'twicedivorced', 'twilight', 'twin', 'twins', 'twisp', 'twist', 'twisted', 'two', 'twoface', 'twotime', 'tx', 'tycoon', 'tyler', 'tymes', 'typea', 'types', 'typical', 'tyrannical', 'tyranny', 'tyrant', 'tyree', 'téchiné', 'u2s', 'ubercontrolling', 'ucla', 'udall', 'uehida', 'ufos', 'ugly', 'uhf', 'uk', 'ultimate', 'ultimately', 'ultimatums', 'ultra', 'ultracompetitive', 'ultraconservative', 'ultramarines', 'ultron', 'ulysses', 'uma', 'umbrella', 'un', 'unable', 'unanswered', 'unathletic', 'unattached', 'unattractive', 'unauthorized', 'unaware', 'unbearable', 'unbeknownst', 'unbreakable', 'unbridled', 'uncanny', 'unceremoniously', 'uncertain', 'unchallenged', 'uncharted', 'unchecked', 'uncle', 'uncles', 'uncomfortable', 'uncontrollable', 'unconventional', 'uncover', 'uncovered', 'uncovering', 'uncovers', 'undead', 'undefeated', 'undeniably', 'under', 'underachiever', 'underappreciated', 'undercover', 'underdog', 'undergo', 'undergoes', 'undergoing', 'undergrad', 'underground', 'underland', 'underlings', 'undersized', 'understand', 'undertakes', 'underwater', 'underwent', 'underworld', 'undesirable', 'undisclosed', 'undivided', 'unearths', 'uneasy', 'unemployed', 'unemployment', 'unethical', 'uneventful', 'unexiting', 'unexpected', 'unexpectedly', 'unexplainable', 'unexplored', 'unfairly', 'unfaithful', 'unfinished', 'unflappable', 'unflinching', 'unflinchingly', 'unfold', 'unfolds', 'unforeseen', 'unforgettable', 'unfortunate', 'unfortunately', 'unfunny', 'unhappily', 'unhappy', 'unimaginable', 'unintentionally', 'union', 'unique', 'unit', 'unite', 'united', 'unites', 'units', 'universal', 'universe', 'universities', 'university', 'universitys', 'unknowingly', 'unknown', 'unleash', 'unleashed', 'unleashes', 'unless', 'unlikable', 'unlike', 'unlikeliest', 'unlikely', 'unlock', 'unmarried', 'unmask', 'unnamed', 'unnoticed', 'unpopular', 'unprecedented', 'unpredictable', 'unpretentious', 'unproductive', 'unproven', 'unpublished', 'unravel', 'unrealistic', 'unrelated', 'unrepentant', 'unruly', 'unsatisfactory', 'unsatisfied', 'unsettled', 'unspeakable', 'unstable', 'unstoppable', 'unsuccessful', 'unsure', 'unsurpassed', 'unsuspecting', 'untalented', 'unthinkable', 'until', 'untimely', 'untold', 'untraceable', 'unusual', 'unveiling', 'unwaveringly', 'unwelcome', 'unwilling', 'unwillingly', 'unwillinglyenlisted', 'unwitting', 'unwittingly', 'up', 'upandcoming', 'upbringing', 'upclose', 'upcoming', 'update', 'updated', 'upended', 'uplifting', 'upon', 'upper', 'upperclass', 'uppeter', 'upright', 'uprising', 'uproarious', 'ups', 'upscale', 'upset', 'upsets', 'upside', 'upstairs', 'upstanding', 'upstate', 'uptight', 'upwards', 'urban', 'urbane', 'urge', 'urgent', 'urging', 'uruguayan', 'us', 'usa', 'use', 'used', 'usedcar', 'uses', 'using', 'usiraq', 'usled', 'uss', 'ussr', 'usual', 'usually', 'utopian', 'uts', 'v', 'vacances', 'vacancy', 'vacation', 'vacationing', 'vacations', 'vaccine', 'vacuum', 'vada', 'val', 'valens', 'valentin', 'valentines', 'valentino', 'valerie', 'valet', 'valiant', 'valley', 'vallon', 'valmassy', 'valseca', 'valuable', 'value', 'vampire', 'vampirehunters', 'vampires', 'van', 'vance', 'vanessa', 'vanillawedded', 'vanish', 'vanishing', 'vann', 'variety', 'various', 'vast', 'vastly', 'vatican', 'vaucan', 'vaudeville', 'vault', 'vaultcracker', 'vee', 'veer', 'veers', 'vega', 'vegas', 'veggies', 'veggietales', 'veil', 'velma', 'velvet', 'veneto', 'venezuelan', 'vengeance', 'vengeful', 'vengence', 'venice', 'ventimiglia', 'vents', 'ventura', 'venture', 'ventures', 'venue', 'vera', 'verbal', 'verge', 'verify', 'vermillion', 'vermont', 'vernon', 'verona', 'veronica', 'veronika', 'versatile', 'version', 'versions', 'vertigo', 'very', 'vespa', 'vesper', 'vessel', 'vesuvius', 'vet', 'veteran', 'veteranturnedmercenary', 'veterinarian', 'veterinary', 'vetters', 'vh1s', 'vi', 'via', 'vibrant', 'vic', 'vicariously', 'vice', 'vicepresident', 'vicious', 'viciously', 'vickers', 'vicky', 'victim', 'victimized', 'victims', 'victor', 'victoria', 'victorian', 'victories', 'victorious', 'victors', 'victory', 'vida', 'video', 'videogame', 'vienna', 'vietnam', 'vietnamera', 'view', 'viewer', 'views', 'vig', 'vigilante', 'vigilantehero', 'vigilantes', 'viking', 'vikings', 'viktor', 'villa', 'village', 'villages', 'villain', 'villainess', 'villainous', 'villains', 'vin', 'vince', 'vincent', 'vineyard', 'vinicius', 'viola', 'violating', 'violence', 'violent', 'violet', 'violinist', 'viral', 'virgil', 'virgin', 'virginal', 'virginia', 'virginiabased', 'virginity', 'virgins', 'virtual', 'virtually', 'virtualreality', 'virus', 'virusa', 'visa', 'visible', 'vision', 'visions', 'visit', 'visited', 'visiting', 'visitors', 'visits', 'vistas', 'visual', 'visually', 'vitality', 'vitally', 'vito', 'vitti', 'vivian', 'vivica', 'vivid', 'vj', 'vlad', 'vocal', 'vocalist', 'voice', 'voicemails', 'voices', 'void', 'volatile', 'volcanologist', 'volkswagen', 'volleyball', 'volunteer', 'volunteered', 'volunteers', 'voluptuous', 'von', 'voorhees', 'vorhees', 'vortex', 'vow', 'vowed', 'vowing', 'vows', 'voyage', 'voyeur', 'vs', 'vu', 'w', 'wackness', 'wacky', 'wad', 'wade', 'wage', 'waged', 'wager', 'wages', 'waging', 'wagner', 'waise', 'wait', 'waiter', 'waiting', 'waitress', 'wake', 'wakes', 'walden', 'waldheim', 'walk', 'walkabout', 'walked', 'walker', 'walking', 'walks', 'wall', 'wallace', 'walle', 'walled', 'wallet', 'walley', 'wallflower', 'walls', 'walsh', 'walt', 'walter', 'wander', 'wanders', 'wang', 'wannabe', 'want', 'wanted', 'wantedand', 'wanting', 'wants', 'waodani', 'war', 'warburton', 'ward', 'warden', 'wardrobe', 'wards', 'warehouse', 'warfare', 'warheads', 'warhol', 'warhols', 'warlock', 'warlord', 'warmer', 'warming', 'warped', 'warrant', 'warred', 'warren', 'warring', 'warrior', 'warriors', 'wars', 'warshaw', 'warship', 'wartime', 'wartorn', 'warweary', 'warwick', 'was', 'wasey', 'washed', 'washedup', 'washes', 'washington', 'wasnt', 'wasps', 'wasted', 'wasteland', 'wastes', 'watch', 'watches', 'watchful', 'watching', 'watchman', 'wate', 'water', 'waters', 'watney', 'watson', 'watts', 'wave', 'waves', 'wax', 'waxman', 'way', 'wayans', 'wayanss', 'wayne', 'ways', 'wazowski', 'we', 'weakness', 'weakwilled', 'wealth', 'wealthy', 'weapon', 'weapons', 'wearing', 'wears', 'weary', 'weather', 'weatherman', 'weathers', 'weathly', 'weaver', 'weaves', 'web', 'webb', 'webers', 'webster', 'wed', 'wedding', 'weddings', 'weebo', 'week', 'weekend', 'weekends', 'weeklong', 'weeks', 'wei', 'weight', 'weirdness', 'welbach', 'welcome', 'well', 'welles', 'wellintentioned', 'wellknown', 'wellmeaning', 'welloff', 'wells', 'welsh', 'wendell', 'wendy', 'went', 'were', 'werewolf', 'werewolves', 'werner', 'werthan', 'wes', 'wesley', 'west', 'western', 'westerner', 'westley', 'weston', 'wests', 'westward', 'whaler', 'whales', 'whaling', 'whangara', 'what', 'whatever', 'whats', 'wheat', 'wheel', 'wheelchair', 'wheelchairs', 'wheelerdealer', 'wheelman', 'when', 'whenever', 'where', 'whether', 'which', 'while', 'whilst', 'whim', 'whimsical', 'whip', 'whirlwind', 'whisked', 'whistleblower', 'whitacre', 'whitaker', 'whitcomb', 'white', 'whitey', 'whitfields', 'whitlock', 'whittaker', 'whiz', 'who', 'whole', 'whom', 'whoopi', 'whos', 'whose', 'whove', 'whoville', 'why', 'wide', 'widow', 'widowed', 'widower', 'widows', 'wield', 'wife', 'wifebusiness', 'wifes', 'wikileaks', 'wikipedia', 'wilbur', 'wild', 'wildcats', 'wilder', 'wilderness', 'wildernessthemed', 'wilders', 'wildeyed', 'wildly', 'will', 'willard', 'willed', 'willem', 'willful', 'william', 'williams', 'williamson', 'willie', 'willing', 'willy', 'wilmot', 'wilson', 'wilsons', 'wily', 'win', 'wind', 'winding', 'windmill', 'winds', 'windsor', 'windtalker', 'windy', 'wine', 'wing', 'winger', 'wings', 'wink', 'winner', 'winners', 'winnie', 'winning', 'wins', 'winslet', 'winslow', 'winter', 'winters', 'wipe', 'wiped', 'wipes', 'wire', 'wireless', 'wisebeyondheryears', 'wisecracking', 'wiseguy', 'wish', 'wishes', 'wishgranting', 'wishing', 'witch', 'witchcraft', 'witches', 'witchhunter', 'witchhunts', 'with', 'within', 'without', 'witness', 'witnessed', 'witnesses', 'witnessing', 'witty', 'witwicky', 'witzky', 'wizard', 'wladyslaw', 'woes', 'woken', 'wolfe', 'wolfgang', 'wolfmeyer', 'wolverine', 'wolves', 'woman', 'womanizer', 'womanizing', 'womans', 'women', 'womenloving', 'womens', 'wonder', 'wonderful', 'wondering', 'wonderland', 'wonders', 'wondrous', 'wong', 'wonka', 'wont', 'woo', 'wood', 'wooden', 'woodhouse', 'woodman', 'woodroof', 'woods', 'woodsboro', 'woodstock', 'woody', 'woos', 'word', 'words', 'work', 'workaholic', 'worked', 'worker', 'workers', 'working', 'workingclass', 'works', 'world', 'worldclass', 'worlddestroyer', 'worldly', 'worldrenowned', 'worlds', 'worldweary', 'worldwide', 'wormer', 'worry', 'worse', 'worst', 'worth', 'worthwhile', 'would', 'wouldbe', 'wouldnt', 'wounded', 'wounds', 'wracked', 'wrapped', 'wreaked', 'wreck', 'wreckit', 'wren', 'wrestler', 'wrestling', 'wright', 'wrightman', 'write', 'writer', 'writerdirector', 'writerproducer', 'writers', 'writes', 'written', 'wrong', 'wrongfully', 'wrongly', 'wrote', 'wu', 'wuornos', 'wwe', 'wwii', 'wyatt', 'wyle', 'wyo', 'wyoming', 'x', 'xander', 'xavier', 'xerxes', 'xfiles', 'xmen', 'xxxx', 'y', 'yacht', 'yachting', 'yakuza', 'yancy', 'yankee', 'yard', 'yards', 'yates', 'yatsen', 'yaya', 'yazoo', 'year', 'yearning', 'yearold', 'yearround', 'years', 'yeh', 'yelchin', 'yellow', 'yellowstone', 'yeonhee', 'yet', 'yi', 'yoast', 'yoga', 'york', 'yorkbased', 'yorker', 'yorkers', 'yorkin', 'yorks', 'yorkshire', 'you', 'youd', 'young', 'younger', 'youngest', 'younggoo', 'youngsters', 'your', 'youre', 'yours', 'youth', 'youths', 'youtube', 'youve', 'yukon', 'yuppie', 'yuppies', 'yuri', 'yutian', 'zaara', 'zac', 'zach', 'zachary', 'zack', 'zak', 'zambezia', 'zambian', 'zamboni', 'zamperini', 'zboys', 'zealand', 'zealander', 'zebra', 'zed', 'zeffirelli', 'zeng', 'zero', 'zeus', 'zeusis', 'zhao', 'zhivago', 'zia', 'zigzags', 'zinos', 'zion', 'zips', 'zisman', 'zodiac', 'zoe', 'zohans', 'zohres', 'zombie', 'zombies', 'zone', 'zones', 'zoo', 'zookeeper', 'zookeepers', 'zoolander', 'zoozie', 'zorin', 'zuckerberg', 'à']\n"
          ]
        }
      ],
      "source": [
        "# hint: store all words for all movies in a set, change it to a list and sort\n",
        "all_words = []\n",
        "for overview in df['proc_overview']:\n",
        "    all_words.extend(overview.split())\n",
        "unique_words = set(all_words)\n",
        "unique_words = sorted(unique_words)\n",
        "vocab_len = len(unique_words)\n",
        "unique_words = [s.replace(' ', '') if ' ' in s else s for s in unique_words]\n",
        "while ' ' in unique_words:\n",
        "    unique_words.remove(' ')\n",
        "print(vocab_len, unique_words)"
      ]
    },
    {
      "cell_type": "markdown",
      "id": "f276b825",
      "metadata": {
        "id": "f276b825"
      },
      "source": [
        "### Q2.2.4 Encoding the labels\n",
        "\n",
        "In the case of genres, we one-hot encoded the outputs by taking a single random genre. However, an alternative method is to add up the one-hot encodings to form some kind of histogram. For example, if we have an overview \"a brown dog\", and our vocab is \\[a brown, big, cabbage, dog, goat, cow, turkey\\], the one-hot vector would be \\[1,1,0,0,1,0,0,0\\]. If our overview is \"a big brown dog\", the one-hot vector would be \\[1,1,1,0,1,0,0,0\\]. If our overview is \"a big big brown dog\", the one-hot vector would be \\[1,1,2,0,1,0,0,0\\]. You can use the `encode_labels` function that you defined earlier."
      ]
    },
    {
      "cell_type": "code",
      "execution_count": 22,
      "id": "d212192f",
      "metadata": {
        "id": "d212192f",
        "colab": {
          "base_uri": "https://localhost:8080/",
          "height": 358
        },
        "outputId": "f975eed5-aa57-44dd-bdce-8bb31fd11e10"
      },
      "outputs": [
        {
          "output_type": "stream",
          "name": "stderr",
          "text": [
            "  0%|          | 0/4707 [00:00<?, ?it/s]\n"
          ]
        },
        {
          "output_type": "error",
          "ename": "ValueError",
          "evalue": "' ' is not in list",
          "traceback": [
            "\u001b[0;31m---------------------------------------------------------------------------\u001b[0m",
            "\u001b[0;31mValueError\u001b[0m                                Traceback (most recent call last)",
            "\u001b[0;32m<ipython-input-22-d95dc520aa0c>\u001b[0m in \u001b[0;36m<cell line: 4>\u001b[0;34m()\u001b[0m\n\u001b[1;32m      5\u001b[0m     \u001b[0msentence_encode\u001b[0m \u001b[0;34m=\u001b[0m \u001b[0;34m[\u001b[0m\u001b[0;34m]\u001b[0m \u001b[0;31m# set of encodings for this overview\u001b[0m\u001b[0;34m\u001b[0m\u001b[0;34m\u001b[0m\u001b[0m\n\u001b[1;32m      6\u001b[0m     \u001b[0;32mfor\u001b[0m \u001b[0mword\u001b[0m \u001b[0;32min\u001b[0m \u001b[0mrow\u001b[0m\u001b[0;34m[\u001b[0m\u001b[0;34m\"proc_overview\"\u001b[0m\u001b[0;34m]\u001b[0m\u001b[0;34m:\u001b[0m\u001b[0;34m\u001b[0m\u001b[0;34m\u001b[0m\u001b[0m\n\u001b[0;32m----> 7\u001b[0;31m         \u001b[0msentence_encode\u001b[0m\u001b[0;34m.\u001b[0m\u001b[0mappend\u001b[0m\u001b[0;34m(\u001b[0m\u001b[0mencode_labels\u001b[0m\u001b[0;34m(\u001b[0m\u001b[0mword\u001b[0m\u001b[0;34m,\u001b[0m \u001b[0munique_words\u001b[0m\u001b[0;34m)\u001b[0m\u001b[0;34m)\u001b[0m\u001b[0;34m\u001b[0m\u001b[0;34m\u001b[0m\u001b[0m\n\u001b[0m\u001b[1;32m      8\u001b[0m     \u001b[0msentence_encode\u001b[0m \u001b[0;34m=\u001b[0m \u001b[0mnp\u001b[0m\u001b[0;34m.\u001b[0m\u001b[0msum\u001b[0m\u001b[0;34m(\u001b[0m\u001b[0msentence_encode\u001b[0m\u001b[0;34m,\u001b[0m \u001b[0maxis\u001b[0m\u001b[0;34m=\u001b[0m\u001b[0;36m1\u001b[0m\u001b[0;34m)\u001b[0m \u001b[0;31m# sum over axis=1\u001b[0m\u001b[0;34m\u001b[0m\u001b[0;34m\u001b[0m\u001b[0m\n\u001b[1;32m      9\u001b[0m     \u001b[0mencoded_labels\u001b[0m\u001b[0;34m.\u001b[0m\u001b[0mappend\u001b[0m\u001b[0;34m(\u001b[0m\u001b[0msentence_encode\u001b[0m\u001b[0;34m)\u001b[0m\u001b[0;34m\u001b[0m\u001b[0;34m\u001b[0m\u001b[0m\n",
            "\u001b[0;32m<ipython-input-8-915d92278e47>\u001b[0m in \u001b[0;36mencode_labels\u001b[0;34m(label, unique_labels)\u001b[0m\n\u001b[1;32m     19\u001b[0m     \u001b[0mout\u001b[0m \u001b[0;34m=\u001b[0m \u001b[0mnp\u001b[0m\u001b[0;34m.\u001b[0m\u001b[0mzeros\u001b[0m\u001b[0;34m(\u001b[0m\u001b[0mlen\u001b[0m\u001b[0;34m(\u001b[0m\u001b[0munique_labels\u001b[0m\u001b[0;34m)\u001b[0m\u001b[0;34m)\u001b[0m\u001b[0;34m\u001b[0m\u001b[0;34m\u001b[0m\u001b[0m\n\u001b[1;32m     20\u001b[0m     \u001b[0;32mfor\u001b[0m \u001b[0mlab\u001b[0m \u001b[0;32min\u001b[0m \u001b[0mlabel\u001b[0m\u001b[0;34m:\u001b[0m\u001b[0;34m\u001b[0m\u001b[0;34m\u001b[0m\u001b[0m\n\u001b[0;32m---> 21\u001b[0;31m         \u001b[0mout\u001b[0m\u001b[0;34m[\u001b[0m\u001b[0munique_labels\u001b[0m\u001b[0;34m.\u001b[0m\u001b[0mindex\u001b[0m\u001b[0;34m(\u001b[0m\u001b[0mlabel\u001b[0m\u001b[0;34m)\u001b[0m\u001b[0;34m]\u001b[0m \u001b[0;34m=\u001b[0m \u001b[0;36m1\u001b[0m\u001b[0;34m\u001b[0m\u001b[0;34m\u001b[0m\u001b[0m\n\u001b[0m\u001b[1;32m     22\u001b[0m     \u001b[0;32mreturn\u001b[0m \u001b[0mout\u001b[0m\u001b[0;34m\u001b[0m\u001b[0;34m\u001b[0m\u001b[0m\n\u001b[1;32m     23\u001b[0m \u001b[0;34m\u001b[0m\u001b[0m\n",
            "\u001b[0;31mValueError\u001b[0m: ' ' is not in list"
          ]
        }
      ],
      "source": [
        "# this code is just a hint, if you want you can do it as you please\n",
        "# as long as the output remains the same\n",
        "encoded_labels = []\n",
        "for index, row in tqdm(df.iterrows(), total=len(df)):\n",
        "    sentence_encode = [] # set of encodings for this overview\n",
        "    for word in row[\"proc_overview\"]:\n",
        "        sentence_encode.append(encode_labels(word, unique_words))\n",
        "    sentence_encode = np.sum(sentence_encode, axis=1) # sum over axis=1\n",
        "    encoded_labels.append(sentence_encode)\n",
        "\n",
        "df[\"one_hot_overview\"] = encoded_labels\n",
        "df['one_hot_overview'] # print to verify"
      ]
    },
    {
      "cell_type": "markdown",
      "id": "7c62e127",
      "metadata": {
        "id": "7c62e127"
      },
      "source": [
        "**Q2.2.5** Each vector is a vector of floating point (64-bit) numbers. Assuming each float takes up exactly 16-bytes, how many bytes does this take to store (theoretically)?"
      ]
    },
    {
      "cell_type": "markdown",
      "id": "193b8235",
      "metadata": {
        "id": "193b8235"
      },
      "source": [
        "*Your answer here*"
      ]
    },
    {
      "cell_type": "markdown",
      "id": "1f3b3700",
      "metadata": {
        "id": "1f3b3700"
      },
      "source": [
        "# Q3 Principal Component Analysis\n",
        "\n",
        "**Q3.1** Using the overview encoded into one-hot encodings, perform PCA and plot this into a 2-D image as a scatter plot."
      ]
    },
    {
      "cell_type": "code",
      "execution_count": 23,
      "id": "832f2be7",
      "metadata": {
        "id": "832f2be7",
        "colab": {
          "base_uri": "https://localhost:8080/",
          "height": 490
        },
        "outputId": "ea033a8c-11f0-42d0-939f-bed6c3e6ecd7"
      },
      "outputs": [
        {
          "output_type": "error",
          "ename": "KeyError",
          "evalue": "'one_hot_overview'",
          "traceback": [
            "\u001b[0;31m---------------------------------------------------------------------------\u001b[0m",
            "\u001b[0;31mKeyError\u001b[0m                                  Traceback (most recent call last)",
            "\u001b[0;32m/usr/local/lib/python3.10/dist-packages/pandas/core/indexes/base.py\u001b[0m in \u001b[0;36mget_loc\u001b[0;34m(self, key, method, tolerance)\u001b[0m\n\u001b[1;32m   3801\u001b[0m             \u001b[0;32mtry\u001b[0m\u001b[0;34m:\u001b[0m\u001b[0;34m\u001b[0m\u001b[0;34m\u001b[0m\u001b[0m\n\u001b[0;32m-> 3802\u001b[0;31m                 \u001b[0;32mreturn\u001b[0m \u001b[0mself\u001b[0m\u001b[0;34m.\u001b[0m\u001b[0m_engine\u001b[0m\u001b[0;34m.\u001b[0m\u001b[0mget_loc\u001b[0m\u001b[0;34m(\u001b[0m\u001b[0mcasted_key\u001b[0m\u001b[0;34m)\u001b[0m\u001b[0;34m\u001b[0m\u001b[0;34m\u001b[0m\u001b[0m\n\u001b[0m\u001b[1;32m   3803\u001b[0m             \u001b[0;32mexcept\u001b[0m \u001b[0mKeyError\u001b[0m \u001b[0;32mas\u001b[0m \u001b[0merr\u001b[0m\u001b[0;34m:\u001b[0m\u001b[0;34m\u001b[0m\u001b[0;34m\u001b[0m\u001b[0m\n",
            "\u001b[0;32m/usr/local/lib/python3.10/dist-packages/pandas/_libs/index.pyx\u001b[0m in \u001b[0;36mpandas._libs.index.IndexEngine.get_loc\u001b[0;34m()\u001b[0m\n",
            "\u001b[0;32m/usr/local/lib/python3.10/dist-packages/pandas/_libs/index.pyx\u001b[0m in \u001b[0;36mpandas._libs.index.IndexEngine.get_loc\u001b[0;34m()\u001b[0m\n",
            "\u001b[0;32mpandas/_libs/hashtable_class_helper.pxi\u001b[0m in \u001b[0;36mpandas._libs.hashtable.PyObjectHashTable.get_item\u001b[0;34m()\u001b[0m\n",
            "\u001b[0;32mpandas/_libs/hashtable_class_helper.pxi\u001b[0m in \u001b[0;36mpandas._libs.hashtable.PyObjectHashTable.get_item\u001b[0;34m()\u001b[0m\n",
            "\u001b[0;31mKeyError\u001b[0m: 'one_hot_overview'",
            "\nThe above exception was the direct cause of the following exception:\n",
            "\u001b[0;31mKeyError\u001b[0m                                  Traceback (most recent call last)",
            "\u001b[0;32m<ipython-input-23-44f0b8d6e19f>\u001b[0m in \u001b[0;36m<cell line: 6>\u001b[0;34m()\u001b[0m\n\u001b[1;32m      4\u001b[0m \u001b[0;31m# we did exactly this in the lecture notebook\u001b[0m\u001b[0;34m\u001b[0m\u001b[0;34m\u001b[0m\u001b[0m\n\u001b[1;32m      5\u001b[0m \u001b[0mpca\u001b[0m \u001b[0;34m=\u001b[0m \u001b[0mPCA\u001b[0m\u001b[0;34m(\u001b[0m\u001b[0mn_components\u001b[0m \u001b[0;34m=\u001b[0m \u001b[0;36m2\u001b[0m\u001b[0;34m)\u001b[0m\u001b[0;34m\u001b[0m\u001b[0;34m\u001b[0m\u001b[0m\n\u001b[0;32m----> 6\u001b[0;31m \u001b[0moverviews_pca\u001b[0m \u001b[0;34m=\u001b[0m \u001b[0mpca\u001b[0m\u001b[0;34m.\u001b[0m\u001b[0mfit_transform\u001b[0m\u001b[0;34m(\u001b[0m\u001b[0mdf\u001b[0m\u001b[0;34m[\u001b[0m\u001b[0;34m\"one_hot_overview\"\u001b[0m\u001b[0;34m]\u001b[0m\u001b[0;34m)\u001b[0m\u001b[0;34m\u001b[0m\u001b[0;34m\u001b[0m\u001b[0m\n\u001b[0m\u001b[1;32m      7\u001b[0m \u001b[0mplt\u001b[0m\u001b[0;34m.\u001b[0m\u001b[0mscatter\u001b[0m\u001b[0;34m(\u001b[0m\u001b[0mdf\u001b[0m\u001b[0;34m[\u001b[0m\u001b[0;34m\"one_hot_overview\"\u001b[0m\u001b[0;34m]\u001b[0m\u001b[0;34m[\u001b[0m\u001b[0;34m:\u001b[0m\u001b[0;34m,\u001b[0m \u001b[0;36m0\u001b[0m\u001b[0;34m]\u001b[0m\u001b[0;34m,\u001b[0m \u001b[0mdf\u001b[0m\u001b[0;34m[\u001b[0m\u001b[0;34m\"one_hot_overview\"\u001b[0m\u001b[0;34m]\u001b[0m\u001b[0;34m[\u001b[0m\u001b[0;34m:\u001b[0m\u001b[0;34m,\u001b[0m \u001b[0;36m1\u001b[0m\u001b[0;34m]\u001b[0m\u001b[0;34m,\u001b[0m \u001b[0mcmap\u001b[0m\u001b[0;34m=\u001b[0m\u001b[0;34m'tab10'\u001b[0m\u001b[0;34m,\u001b[0m \u001b[0malpha\u001b[0m\u001b[0;34m=\u001b[0m\u001b[0;36m0.6\u001b[0m\u001b[0;34m,\u001b[0m \u001b[0ms\u001b[0m\u001b[0;34m=\u001b[0m\u001b[0;36m1\u001b[0m\u001b[0;34m)\u001b[0m\u001b[0;34m\u001b[0m\u001b[0;34m\u001b[0m\u001b[0m\n\u001b[1;32m      8\u001b[0m \u001b[0mplt\u001b[0m\u001b[0;34m.\u001b[0m\u001b[0mcolorbar\u001b[0m\u001b[0;34m(\u001b[0m\u001b[0;34m)\u001b[0m\u001b[0;34m\u001b[0m\u001b[0;34m\u001b[0m\u001b[0m\n",
            "\u001b[0;32m/usr/local/lib/python3.10/dist-packages/pandas/core/frame.py\u001b[0m in \u001b[0;36m__getitem__\u001b[0;34m(self, key)\u001b[0m\n\u001b[1;32m   3805\u001b[0m             \u001b[0;32mif\u001b[0m \u001b[0mself\u001b[0m\u001b[0;34m.\u001b[0m\u001b[0mcolumns\u001b[0m\u001b[0;34m.\u001b[0m\u001b[0mnlevels\u001b[0m \u001b[0;34m>\u001b[0m \u001b[0;36m1\u001b[0m\u001b[0;34m:\u001b[0m\u001b[0;34m\u001b[0m\u001b[0;34m\u001b[0m\u001b[0m\n\u001b[1;32m   3806\u001b[0m                 \u001b[0;32mreturn\u001b[0m \u001b[0mself\u001b[0m\u001b[0;34m.\u001b[0m\u001b[0m_getitem_multilevel\u001b[0m\u001b[0;34m(\u001b[0m\u001b[0mkey\u001b[0m\u001b[0;34m)\u001b[0m\u001b[0;34m\u001b[0m\u001b[0;34m\u001b[0m\u001b[0m\n\u001b[0;32m-> 3807\u001b[0;31m             \u001b[0mindexer\u001b[0m \u001b[0;34m=\u001b[0m \u001b[0mself\u001b[0m\u001b[0;34m.\u001b[0m\u001b[0mcolumns\u001b[0m\u001b[0;34m.\u001b[0m\u001b[0mget_loc\u001b[0m\u001b[0;34m(\u001b[0m\u001b[0mkey\u001b[0m\u001b[0;34m)\u001b[0m\u001b[0;34m\u001b[0m\u001b[0;34m\u001b[0m\u001b[0m\n\u001b[0m\u001b[1;32m   3808\u001b[0m             \u001b[0;32mif\u001b[0m \u001b[0mis_integer\u001b[0m\u001b[0;34m(\u001b[0m\u001b[0mindexer\u001b[0m\u001b[0;34m)\u001b[0m\u001b[0;34m:\u001b[0m\u001b[0;34m\u001b[0m\u001b[0;34m\u001b[0m\u001b[0m\n\u001b[1;32m   3809\u001b[0m                 \u001b[0mindexer\u001b[0m \u001b[0;34m=\u001b[0m \u001b[0;34m[\u001b[0m\u001b[0mindexer\u001b[0m\u001b[0;34m]\u001b[0m\u001b[0;34m\u001b[0m\u001b[0;34m\u001b[0m\u001b[0m\n",
            "\u001b[0;32m/usr/local/lib/python3.10/dist-packages/pandas/core/indexes/base.py\u001b[0m in \u001b[0;36mget_loc\u001b[0;34m(self, key, method, tolerance)\u001b[0m\n\u001b[1;32m   3802\u001b[0m                 \u001b[0;32mreturn\u001b[0m \u001b[0mself\u001b[0m\u001b[0;34m.\u001b[0m\u001b[0m_engine\u001b[0m\u001b[0;34m.\u001b[0m\u001b[0mget_loc\u001b[0m\u001b[0;34m(\u001b[0m\u001b[0mcasted_key\u001b[0m\u001b[0;34m)\u001b[0m\u001b[0;34m\u001b[0m\u001b[0;34m\u001b[0m\u001b[0m\n\u001b[1;32m   3803\u001b[0m             \u001b[0;32mexcept\u001b[0m \u001b[0mKeyError\u001b[0m \u001b[0;32mas\u001b[0m \u001b[0merr\u001b[0m\u001b[0;34m:\u001b[0m\u001b[0;34m\u001b[0m\u001b[0;34m\u001b[0m\u001b[0m\n\u001b[0;32m-> 3804\u001b[0;31m                 \u001b[0;32mraise\u001b[0m \u001b[0mKeyError\u001b[0m\u001b[0;34m(\u001b[0m\u001b[0mkey\u001b[0m\u001b[0;34m)\u001b[0m \u001b[0;32mfrom\u001b[0m \u001b[0merr\u001b[0m\u001b[0;34m\u001b[0m\u001b[0;34m\u001b[0m\u001b[0m\n\u001b[0m\u001b[1;32m   3805\u001b[0m             \u001b[0;32mexcept\u001b[0m \u001b[0mTypeError\u001b[0m\u001b[0;34m:\u001b[0m\u001b[0;34m\u001b[0m\u001b[0;34m\u001b[0m\u001b[0m\n\u001b[1;32m   3806\u001b[0m                 \u001b[0;31m# If we have a listlike key, _check_indexing_error will raise\u001b[0m\u001b[0;34m\u001b[0m\u001b[0;34m\u001b[0m\u001b[0m\n",
            "\u001b[0;31mKeyError\u001b[0m: 'one_hot_overview'"
          ]
        }
      ],
      "source": [
        "# import PCA decomposition class from sklearn\n",
        "from sklearn.decomposition import PCA\n",
        "\n",
        "# we did exactly this in the lecture notebook\n",
        "pca = PCA(n_components = 2)\n",
        "overviews_pca = pca.fit_transform(df[\"one_hot_overview\"])\n",
        "plt.scatter(df[\"one_hot_overview\"][:, 0], df[\"one_hot_overview\"][:, 1], cmap='tab10', alpha=0.6, s=1)\n",
        "plt.colorbar()"
      ]
    },
    {
      "cell_type": "markdown",
      "id": "a63054b6",
      "metadata": {
        "id": "a63054b6"
      },
      "source": [
        "**Q3.2** Do you see any interpretable structure in the above plot (\"interpretable\" $\\rightarrow$ the patterns are explainable)."
      ]
    },
    {
      "cell_type": "markdown",
      "id": "a9409e7b",
      "metadata": {
        "id": "a9409e7b"
      },
      "source": [
        "*Your text answer here*"
      ]
    },
    {
      "cell_type": "markdown",
      "id": "4482c5e5",
      "metadata": {
        "id": "4482c5e5"
      },
      "source": [
        "**Q3.3** Quantify how much variance information a 2D PCA projection loses for this dataset."
      ]
    },
    {
      "cell_type": "markdown",
      "id": "2338a25d",
      "metadata": {
        "id": "2338a25d"
      },
      "source": [
        "*Your answer here*"
      ]
    },
    {
      "cell_type": "markdown",
      "id": "7da99ba5",
      "metadata": {
        "id": "7da99ba5"
      },
      "source": [
        "**Q3.4** Plot a line graph where the y-axis is cumulative explained variance ratio and the x-axis is the number of PCA components."
      ]
    },
    {
      "cell_type": "code",
      "execution_count": 24,
      "id": "e0cac8ff",
      "metadata": {
        "scrolled": false,
        "id": "e0cac8ff",
        "colab": {
          "base_uri": "https://localhost:8080/",
          "height": 490
        },
        "outputId": "3c322444-312a-4c15-bb45-9f71a4bb9ec9"
      },
      "outputs": [
        {
          "output_type": "error",
          "ename": "KeyError",
          "evalue": "'one_hot_overview'",
          "traceback": [
            "\u001b[0;31m---------------------------------------------------------------------------\u001b[0m",
            "\u001b[0;31mKeyError\u001b[0m                                  Traceback (most recent call last)",
            "\u001b[0;32m/usr/local/lib/python3.10/dist-packages/pandas/core/indexes/base.py\u001b[0m in \u001b[0;36mget_loc\u001b[0;34m(self, key, method, tolerance)\u001b[0m\n\u001b[1;32m   3801\u001b[0m             \u001b[0;32mtry\u001b[0m\u001b[0;34m:\u001b[0m\u001b[0;34m\u001b[0m\u001b[0;34m\u001b[0m\u001b[0m\n\u001b[0;32m-> 3802\u001b[0;31m                 \u001b[0;32mreturn\u001b[0m \u001b[0mself\u001b[0m\u001b[0;34m.\u001b[0m\u001b[0m_engine\u001b[0m\u001b[0;34m.\u001b[0m\u001b[0mget_loc\u001b[0m\u001b[0;34m(\u001b[0m\u001b[0mcasted_key\u001b[0m\u001b[0;34m)\u001b[0m\u001b[0;34m\u001b[0m\u001b[0;34m\u001b[0m\u001b[0m\n\u001b[0m\u001b[1;32m   3803\u001b[0m             \u001b[0;32mexcept\u001b[0m \u001b[0mKeyError\u001b[0m \u001b[0;32mas\u001b[0m \u001b[0merr\u001b[0m\u001b[0;34m:\u001b[0m\u001b[0;34m\u001b[0m\u001b[0;34m\u001b[0m\u001b[0m\n",
            "\u001b[0;32m/usr/local/lib/python3.10/dist-packages/pandas/_libs/index.pyx\u001b[0m in \u001b[0;36mpandas._libs.index.IndexEngine.get_loc\u001b[0;34m()\u001b[0m\n",
            "\u001b[0;32m/usr/local/lib/python3.10/dist-packages/pandas/_libs/index.pyx\u001b[0m in \u001b[0;36mpandas._libs.index.IndexEngine.get_loc\u001b[0;34m()\u001b[0m\n",
            "\u001b[0;32mpandas/_libs/hashtable_class_helper.pxi\u001b[0m in \u001b[0;36mpandas._libs.hashtable.PyObjectHashTable.get_item\u001b[0;34m()\u001b[0m\n",
            "\u001b[0;32mpandas/_libs/hashtable_class_helper.pxi\u001b[0m in \u001b[0;36mpandas._libs.hashtable.PyObjectHashTable.get_item\u001b[0;34m()\u001b[0m\n",
            "\u001b[0;31mKeyError\u001b[0m: 'one_hot_overview'",
            "\nThe above exception was the direct cause of the following exception:\n",
            "\u001b[0;31mKeyError\u001b[0m                                  Traceback (most recent call last)",
            "\u001b[0;32m<ipython-input-24-bbab0cc5bff6>\u001b[0m in \u001b[0;36m<cell line: 4>\u001b[0;34m()\u001b[0m\n\u001b[1;32m      2\u001b[0m \u001b[0mpca\u001b[0m \u001b[0;34m=\u001b[0m \u001b[0mPCA\u001b[0m\u001b[0;34m(\u001b[0m\u001b[0mn_components\u001b[0m\u001b[0;34m=\u001b[0m\u001b[0;36m50\u001b[0m\u001b[0;34m)\u001b[0m\u001b[0;34m\u001b[0m\u001b[0;34m\u001b[0m\u001b[0m\n\u001b[1;32m      3\u001b[0m \u001b[0;31m# fit transform one_hot_overview encodings\u001b[0m\u001b[0;34m\u001b[0m\u001b[0;34m\u001b[0m\u001b[0m\n\u001b[0;32m----> 4\u001b[0;31m \u001b[0mlabels_pca\u001b[0m \u001b[0;34m=\u001b[0m \u001b[0mpca\u001b[0m\u001b[0;34m.\u001b[0m\u001b[0mfit_transform\u001b[0m\u001b[0;34m(\u001b[0m\u001b[0mdf\u001b[0m\u001b[0;34m[\u001b[0m\u001b[0;34m\"one_hot_overview\"\u001b[0m\u001b[0;34m]\u001b[0m\u001b[0;34m)\u001b[0m\u001b[0;34m\u001b[0m\u001b[0;34m\u001b[0m\u001b[0m\n\u001b[0m\u001b[1;32m      5\u001b[0m \u001b[0;31m# get explained variance ratio from object, store it in a list\u001b[0m\u001b[0;34m\u001b[0m\u001b[0;34m\u001b[0m\u001b[0m\n\u001b[1;32m      6\u001b[0m \u001b[0mvariance\u001b[0m \u001b[0;34m=\u001b[0m \u001b[0mpca\u001b[0m\u001b[0;34m.\u001b[0m\u001b[0mexplained_variance_ratio_\u001b[0m\u001b[0;34m\u001b[0m\u001b[0;34m\u001b[0m\u001b[0m\n",
            "\u001b[0;32m/usr/local/lib/python3.10/dist-packages/pandas/core/frame.py\u001b[0m in \u001b[0;36m__getitem__\u001b[0;34m(self, key)\u001b[0m\n\u001b[1;32m   3805\u001b[0m             \u001b[0;32mif\u001b[0m \u001b[0mself\u001b[0m\u001b[0;34m.\u001b[0m\u001b[0mcolumns\u001b[0m\u001b[0;34m.\u001b[0m\u001b[0mnlevels\u001b[0m \u001b[0;34m>\u001b[0m \u001b[0;36m1\u001b[0m\u001b[0;34m:\u001b[0m\u001b[0;34m\u001b[0m\u001b[0;34m\u001b[0m\u001b[0m\n\u001b[1;32m   3806\u001b[0m                 \u001b[0;32mreturn\u001b[0m \u001b[0mself\u001b[0m\u001b[0;34m.\u001b[0m\u001b[0m_getitem_multilevel\u001b[0m\u001b[0;34m(\u001b[0m\u001b[0mkey\u001b[0m\u001b[0;34m)\u001b[0m\u001b[0;34m\u001b[0m\u001b[0;34m\u001b[0m\u001b[0m\n\u001b[0;32m-> 3807\u001b[0;31m             \u001b[0mindexer\u001b[0m \u001b[0;34m=\u001b[0m \u001b[0mself\u001b[0m\u001b[0;34m.\u001b[0m\u001b[0mcolumns\u001b[0m\u001b[0;34m.\u001b[0m\u001b[0mget_loc\u001b[0m\u001b[0;34m(\u001b[0m\u001b[0mkey\u001b[0m\u001b[0;34m)\u001b[0m\u001b[0;34m\u001b[0m\u001b[0;34m\u001b[0m\u001b[0m\n\u001b[0m\u001b[1;32m   3808\u001b[0m             \u001b[0;32mif\u001b[0m \u001b[0mis_integer\u001b[0m\u001b[0;34m(\u001b[0m\u001b[0mindexer\u001b[0m\u001b[0;34m)\u001b[0m\u001b[0;34m:\u001b[0m\u001b[0;34m\u001b[0m\u001b[0;34m\u001b[0m\u001b[0m\n\u001b[1;32m   3809\u001b[0m                 \u001b[0mindexer\u001b[0m \u001b[0;34m=\u001b[0m \u001b[0;34m[\u001b[0m\u001b[0mindexer\u001b[0m\u001b[0;34m]\u001b[0m\u001b[0;34m\u001b[0m\u001b[0;34m\u001b[0m\u001b[0m\n",
            "\u001b[0;32m/usr/local/lib/python3.10/dist-packages/pandas/core/indexes/base.py\u001b[0m in \u001b[0;36mget_loc\u001b[0;34m(self, key, method, tolerance)\u001b[0m\n\u001b[1;32m   3802\u001b[0m                 \u001b[0;32mreturn\u001b[0m \u001b[0mself\u001b[0m\u001b[0;34m.\u001b[0m\u001b[0m_engine\u001b[0m\u001b[0;34m.\u001b[0m\u001b[0mget_loc\u001b[0m\u001b[0;34m(\u001b[0m\u001b[0mcasted_key\u001b[0m\u001b[0;34m)\u001b[0m\u001b[0;34m\u001b[0m\u001b[0;34m\u001b[0m\u001b[0m\n\u001b[1;32m   3803\u001b[0m             \u001b[0;32mexcept\u001b[0m \u001b[0mKeyError\u001b[0m \u001b[0;32mas\u001b[0m \u001b[0merr\u001b[0m\u001b[0;34m:\u001b[0m\u001b[0;34m\u001b[0m\u001b[0;34m\u001b[0m\u001b[0m\n\u001b[0;32m-> 3804\u001b[0;31m                 \u001b[0;32mraise\u001b[0m \u001b[0mKeyError\u001b[0m\u001b[0;34m(\u001b[0m\u001b[0mkey\u001b[0m\u001b[0;34m)\u001b[0m \u001b[0;32mfrom\u001b[0m \u001b[0merr\u001b[0m\u001b[0;34m\u001b[0m\u001b[0;34m\u001b[0m\u001b[0m\n\u001b[0m\u001b[1;32m   3805\u001b[0m             \u001b[0;32mexcept\u001b[0m \u001b[0mTypeError\u001b[0m\u001b[0;34m:\u001b[0m\u001b[0;34m\u001b[0m\u001b[0;34m\u001b[0m\u001b[0m\n\u001b[1;32m   3806\u001b[0m                 \u001b[0;31m# If we have a listlike key, _check_indexing_error will raise\u001b[0m\u001b[0;34m\u001b[0m\u001b[0;34m\u001b[0m\u001b[0m\n",
            "\u001b[0;31mKeyError\u001b[0m: 'one_hot_overview'"
          ]
        }
      ],
      "source": [
        "# Set up PCA object with the desired number of components\n",
        "pca = PCA(n_components=50)\n",
        "# fit transform one_hot_overview encodings\n",
        "labels_pca = pca.fit_transform(df[\"one_hot_overview\"])\n",
        "# get explained variance ratio from object, store it in a list\n",
        "variance = pca.explained_variance_ratio_\n",
        "\n",
        "plt.plot(range(1, 51), variance)\n",
        "plt.xlabel('Number of PCA components')\n",
        "plt.ylabel('Cumulative explained variance ratio')\n",
        "# set up y label, x label, title\n",
        "plt.show()"
      ]
    },
    {
      "cell_type": "markdown",
      "id": "8b36c9b2",
      "metadata": {
        "id": "8b36c9b2"
      },
      "source": [
        "**Q3.5** How many principal components do you need in order to explain 80% of the total variance in the data?\n",
        "\n",
        "Note: don't just estimate it by eye, write some code to compute it for you."
      ]
    },
    {
      "cell_type": "code",
      "execution_count": null,
      "id": "95c44b2d",
      "metadata": {
        "id": "95c44b2d"
      },
      "outputs": [],
      "source": [
        "# your code answer here\n",
        "num_components = next(i for i, ratio in enumerate(variance, start=1) if ratio > 0.8)\n",
        "print(num_components)"
      ]
    },
    {
      "cell_type": "markdown",
      "id": "b608db91",
      "metadata": {
        "id": "b608db91"
      },
      "source": [
        "*Your text answer here*"
      ]
    },
    {
      "cell_type": "markdown",
      "id": "ee3b5c33",
      "metadata": {
        "id": "ee3b5c33"
      },
      "source": [
        "**Q3.6** Using the number of dimensions you found in Q3.5, fit and transform your overview encodings using PCA and add it to a new column called `overview_pca` in the dataframe."
      ]
    },
    {
      "cell_type": "code",
      "execution_count": null,
      "id": "8a6eb40b",
      "metadata": {
        "id": "8a6eb40b"
      },
      "outputs": [],
      "source": [
        "n_dims = num_components\n",
        "pca = PCA(n_components=num_components)\n",
        "labels_pca = pca.fit_transform(df[\"one_hot_overview\"])\n",
        "df[\"overview_pca\"] = labels_pca"
      ]
    },
    {
      "cell_type": "markdown",
      "id": "309d3256",
      "metadata": {
        "id": "309d3256"
      },
      "source": [
        "# Q4 K-Means Clustering\n",
        "\n",
        "**Q4.1** Cluster the movies based on the features that were extracted via PCA in the last step. Set $K=20$. Add the predicted cluster into the dataframe as a new column called `cluster_kmeans`. Print out the elements of cluster number 0 from the dataframe."
      ]
    },
    {
      "cell_type": "code",
      "execution_count": null,
      "id": "f5f5781e",
      "metadata": {
        "id": "f5f5781e"
      },
      "outputs": [],
      "source": [
        "# import KMeans class\n",
        "from sklearn.cluster import KMeans\n",
        "\n",
        "# Perform K-means clustering\n",
        "kmeans = ...\n",
        "# fit model\n",
        "...\n",
        "\n",
        "y_preds = # get predictions\n",
        "df[\"cluster_kmeans\"] = ... # set predictions\n",
        "\n",
        "# print out elements of cluster 0\n",
        "..."
      ]
    },
    {
      "cell_type": "markdown",
      "id": "34334c6c",
      "metadata": {
        "id": "34334c6c"
      },
      "source": [
        "**Q4.2** Does this clustering seem alright to you (based on your movie watching history)? Are there movies that go well together and movies that don't?"
      ]
    },
    {
      "cell_type": "markdown",
      "id": "9f1d40cc",
      "metadata": {
        "id": "9f1d40cc"
      },
      "source": [
        "*Your text answer here*"
      ]
    },
    {
      "cell_type": "markdown",
      "id": "0407f9e4",
      "metadata": {
        "id": "0407f9e4"
      },
      "source": [
        "**Q4.3** Now, we'll figure out whether using the elbow method is right for this dataset. Plot a loss (using `kmeans.inertia_`) versus cluster size plot. Is there an elbow that you see clearly? What cluster size would you choose?"
      ]
    },
    {
      "cell_type": "markdown",
      "id": "4984dcd9",
      "metadata": {
        "id": "4984dcd9"
      },
      "source": [
        "*Your text answer here*"
      ]
    },
    {
      "cell_type": "code",
      "execution_count": null,
      "id": "cb3a37ee",
      "metadata": {
        "id": "cb3a37ee"
      },
      "outputs": [],
      "source": [
        "... # your code answer here"
      ]
    },
    {
      "cell_type": "markdown",
      "id": "3e89e224",
      "metadata": {
        "id": "3e89e224"
      },
      "source": [
        "# Q5 Gaussian Mixture Models\n",
        "\n",
        "**Q5.1** As with the K-means above, cluster the movies based on the features that were extracted via PCA in a previous step. Set $K=20$. Add the predicted cluster into the dataframe as a new column called `cluster_gmm`. Print out the elements of a single cluster of your choice from the dataframe."
      ]
    },
    {
      "cell_type": "code",
      "execution_count": null,
      "id": "86735028",
      "metadata": {
        "id": "86735028"
      },
      "outputs": [],
      "source": [
        "# Your code answer here"
      ]
    },
    {
      "cell_type": "markdown",
      "id": "95ed02d9",
      "metadata": {
        "id": "95ed02d9"
      },
      "source": [
        "**Q4.2** Does this clustering seem alright to you (based on your movie watching history)? Are there movies that go well together and movies that don't? How does this compare to K-Means Clustering?"
      ]
    },
    {
      "cell_type": "markdown",
      "id": "c62e20dd",
      "metadata": {
        "id": "c62e20dd"
      },
      "source": [
        "*Your text answer here*"
      ]
    },
    {
      "cell_type": "markdown",
      "id": "3b0064a1",
      "metadata": {
        "id": "3b0064a1"
      },
      "source": [
        "**Q4.3** Let's check out the size of the clusters. Create a double bar plot (**as you did in the last assignment**) showing the different sizes of the clusters.\n",
        "\n",
        "*Hint: you may want to consider `df.value_counts()` if you're unfamiliar.*"
      ]
    },
    {
      "cell_type": "code",
      "execution_count": null,
      "id": "e775ad4f",
      "metadata": {
        "id": "e775ad4f"
      },
      "outputs": [],
      "source": [
        "# Create an array for the x-axis positions\n",
        "# Plotting the bars\n",
        "# Add labels, title, and legend"
      ]
    },
    {
      "cell_type": "markdown",
      "id": "cfc124da",
      "metadata": {
        "id": "cfc124da"
      },
      "source": [
        "**Q4.4** Do you see a significant difference in the sizes of the clusters? Which is more uniform? Any thought on why?"
      ]
    },
    {
      "cell_type": "markdown",
      "id": "9f538519",
      "metadata": {
        "id": "9f538519"
      },
      "source": [
        "*Your text answer here*"
      ]
    },
    {
      "cell_type": "markdown",
      "id": "aa60615d",
      "metadata": {
        "id": "aa60615d"
      },
      "source": [
        "# Q6: A very simple recommender system\n",
        "\n",
        "One useful thing that clustering is often used for (though at a much greater complexity) is in **recommender systems**. These are systems with users and items (movies, files, documents, etc.), where new items are shown to the user based on what they've previously interacted with, and possibly also on the behaviour of other users.\n",
        "\n",
        "**Q6.1** Assume your dentist has just watched the movie Avatar and asks you for a recommendation. Lucky for you, you just finished this assignment. Using the cluster indices of the movie Avatar for both the K-means and GMM methods, print out suggestions for new movies."
      ]
    },
    {
      "cell_type": "code",
      "execution_count": null,
      "id": "86a74f68",
      "metadata": {
        "id": "86a74f68"
      },
      "outputs": [],
      "source": [
        "prev_watch = \"Avatar\"\n",
        "\n",
        "cluster_kmeans = # find what cluster index Avatar falls into for k-means\n",
        "cluster_gmm = # find what cluster index Avatar falls into for gmm\n",
        "\n",
        "# print out similar movies\n",
        "..."
      ]
    },
    {
      "cell_type": "markdown",
      "id": "4ecec1ff",
      "metadata": {
        "id": "4ecec1ff"
      },
      "source": [
        "**Q6.2** Are any of the two recommender systems any good? Would you use them if your real dentist asks for a movie suggestion?"
      ]
    },
    {
      "cell_type": "markdown",
      "id": "aae96b8a",
      "metadata": {
        "id": "aae96b8a"
      },
      "source": [
        "*Your text answer here*"
      ]
    },
    {
      "cell_type": "markdown",
      "id": "92b84753",
      "metadata": {
        "id": "92b84753"
      },
      "source": [
        "**Q6.3** How would you try making the recommender systems better?"
      ]
    },
    {
      "cell_type": "markdown",
      "id": "40d3f6dd",
      "metadata": {
        "id": "40d3f6dd"
      },
      "source": [
        "*Your text answer here*"
      ]
    },
    {
      "cell_type": "markdown",
      "id": "7df2d34a",
      "metadata": {
        "id": "7df2d34a"
      },
      "source": [
        "**Q6.4** Say your dentist likes the movies you suggested and has watched a few more since you met him last. How would you incorporate this fact (recommendation based on multiple movies) into your suggestions?"
      ]
    },
    {
      "cell_type": "markdown",
      "id": "b3549de4",
      "metadata": {
        "id": "b3549de4"
      },
      "source": [
        "*Your text answer here*"
      ]
    },
    {
      "cell_type": "markdown",
      "id": "f20b74ce",
      "metadata": {
        "id": "f20b74ce"
      },
      "source": [
        "**Q6.5** An alternative method for recommendations is to use your encoded movie-feature vectors (in this case your overview+PCA vector) in order to find out what movie may be most similar to the current one. In the case of K-Means and GMMs, \"similarity\" referred to Euclidean distance. However, in this exercise, we will use *cosine similarity*, which is another very common similarity measure, and is related to the angle between two vectors. It is defined as:\n",
        "\n",
        "$$sim(v_1, v_2)=\\frac{v_1\\cdot v_2}{||v_1||\\cdot||v_2||}$$\n",
        "\n",
        "Where $v_1$ and $v_2$ are vectors and the operator $||\\cdot||$ is the norm of the vector. The function ranges from $[-1,1]$ (where 1 means that the vectors point in the same direction).\n",
        "\n",
        "Define an appropriate function `cosine_sim`. Add a column called `cos_sim_to_avatar` in the df and print out the head of the df, sorted by the similarity. What movies would you recommend now? Is this better than the clustering methods?"
      ]
    },
    {
      "cell_type": "code",
      "execution_count": null,
      "id": "cedf60f3",
      "metadata": {
        "id": "cedf60f3"
      },
      "outputs": [],
      "source": [
        "def cosine_sim(v1, v2):\n",
        "    return ...\n",
        "\n",
        "# get overview_pca encoding of previously watched film\n",
        "prev_watch_enc = ...\n",
        "\n",
        "sims = [] # set up place to store similarities\n",
        "for i, row in df.iterrows():\n",
        "    sims.append(...)\n",
        "\n",
        "df[\"cos_sim_to_avatar\"] = ...\n",
        "df = df.sort_values(...) # sort df\n",
        "df # print to verify"
      ]
    },
    {
      "cell_type": "markdown",
      "id": "40391e82",
      "metadata": {
        "id": "40391e82"
      },
      "source": [
        "*Your text answer here*"
      ]
    },
    {
      "cell_type": "markdown",
      "id": "a7b1e343",
      "metadata": {
        "id": "a7b1e343"
      },
      "source": [
        "# Q7 Unsupervised Learning as a Tool\n",
        "\n",
        "At the end of this brief forey into natural language processing, we will end with an interesting task: can a machine predict the genre of a movie based purely on the first 10 words of its overview?\n",
        "\n",
        "First, the following cell shuffles the dataset and splits it into a training and test set. The random seed and random state ensure that the train and test samples are the same for you all the time, and *probably* your classmates too. You can verify this by printing out the dataframes and checking it for yourself."
      ]
    },
    {
      "cell_type": "code",
      "execution_count": null,
      "id": "f5b1bde1",
      "metadata": {
        "id": "f5b1bde1"
      },
      "outputs": [],
      "source": [
        "np.random.seed(0)\n",
        "n_train = int(0.8*len(df))\n",
        "df_shuffle = df.sample(frac=1, random_state=42).reset_index(drop=True)\n",
        "df_train = df_shuffle[:n_train].reset_index(drop=True)\n",
        "df_test = df_shuffle[n_train:].reset_index(drop=True)\n",
        "print(len(df_train), len(df_test))"
      ]
    },
    {
      "cell_type": "markdown",
      "id": "92f9d534",
      "metadata": {
        "id": "92f9d534"
      },
      "source": [
        "## Train, test, evaluate\n",
        "\n",
        "Using a supervised learning method of your choice, try predicting the genre of a movie from the overview. The way you preprocess your data is up to you, and you can take inspiration from the above exercises (e.g. PCA on the one-hot encodings as input, one-hot label encodings as output). There are a number of hyperparameters you can choose depending on your selected method (number of words in your overview, number of dimensions, number of clusters, hyperparameters of your supervised model...), thus, make sure to perform hyperparameter optimization in some way (grid-search, fine-tuning, etc). Once you are happy with how your model is performing, **print out the train_score (accuracy$\\in[0,1]$), test_score (accuracy$\\in[0,1]$), mean training time (in seconds), and mean inference time (in seconds) of your model**.\n",
        "\n",
        "If you are already excited about neural networks, you may also choose to use that as your supervised method. The easiest way to do it is with sklearn's `MLPClassifier` module. The main hyperparameter you would need to tune is the architecture of your model -- how many hidden layers, and how large is each one. For this task, in order to get best performance, you do not necessarily need an MLP (multi-layer perceptron) but feel free to experiment.\n",
        "\n",
        "*Hint: the `train_and_eval` function from the last assignment should be of great help here*"
      ]
    },
    {
      "cell_type": "code",
      "execution_count": null,
      "id": "e9ac379d",
      "metadata": {
        "id": "e9ac379d"
      },
      "outputs": [],
      "source": [
        "# your code here: feel free to add extra cells"
      ]
    },
    {
      "cell_type": "markdown",
      "id": "5976997e",
      "metadata": {
        "id": "5976997e"
      },
      "source": [
        "Write a paragraph of ~150 words about how you went about selecting and tuning your model, and how you may want to make improvements to your model if you were to continue working on this. Plots are very good but not strictly necessary (i.e. try to add plots if you can)."
      ]
    },
    {
      "cell_type": "markdown",
      "id": "54186a60",
      "metadata": {
        "id": "54186a60"
      },
      "source": [
        "*Your text answer here*"
      ]
    },
    {
      "cell_type": "markdown",
      "id": "14b50007",
      "metadata": {
        "id": "14b50007"
      },
      "source": [
        "# BONUS\n",
        "\n",
        "If you are happy with your score and wish to see how well it is doing with respect to other people (a sort of mini-competition), fill out the following form with the train_score (accuracy$\\in[0,1]$), test_score (accuracy$\\in[0,1]$), mean training time (in seconds), and mean inference time (in seconds) of your model, as well as what method you use. You can submit as many times before the deadline as you wish. Your final results will be correlated with your submission in order to validate your results (if we cannot validate them, they will be immediately disqualified).\n",
        "\n",
        "[FORM HERE](https://forms.gle/rXRtXScABH5oDLRWA)"
      ]
    }
  ],
  "metadata": {
    "kernelspec": {
      "display_name": "Python 3 (ipykernel)",
      "language": "python",
      "name": "python3"
    },
    "language_info": {
      "codemirror_mode": {
        "name": "ipython",
        "version": 3
      },
      "file_extension": ".py",
      "mimetype": "text/x-python",
      "name": "python",
      "nbconvert_exporter": "python",
      "pygments_lexer": "ipython3",
      "version": "3.10.7"
    },
    "colab": {
      "provenance": []
    }
  },
  "nbformat": 4,
  "nbformat_minor": 5
}